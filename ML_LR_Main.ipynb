{
 "cells": [
  {
   "cell_type": "code",
   "execution_count": 1,
   "metadata": {},
   "outputs": [],
   "source": [
    "import numpy as np\n",
    "import pandas as pd\n",
    "from sklearn.model_selection import train_test_split\n",
    "from sklearn.preprocessing import StandardScaler\n",
    "from sklearn.linear_model import LogisticRegression\n",
    "from sklearn.metrics import accuracy_score, precision_score, recall_score, f1_score, roc_auc_score"
   ]
  },
  {
   "cell_type": "code",
   "execution_count": 2,
   "metadata": {},
   "outputs": [
    {
     "name": "stdout",
     "output_type": "stream",
     "text": [
      "Model Performance Metrics: {'Accuracy': 0.99, 'Precision': 0.9803921568627451, 'Recall': 1.0, 'F1 Score': 0.9900990099009901, 'ROC-AUC': np.float64(1.0), 'Train Loss': np.float64(0.10480863629186937), 'Test Loss': np.float64(0.10321152069132192)}\n",
      "Prediction for New Data [[0.6 0.8 0.4]]: Class = 1, Probability = 0.9975\n"
     ]
    }
   ],
   "source": [
    "# Step 1: Data Generation (Simulated Binary Classification Data)\n",
    "np.random.seed(42)\n",
    "X = np.random.rand(500, 3)  # 3 Features\n",
    "y = (X[:, 0] + X[:, 1] > 1).astype(int)  # Binary Target\n",
    "\n",
    "# Step 2: Preprocessing (Feature Scaling)\n",
    "scaler = StandardScaler()\n",
    "X_scaled = scaler.fit_transform(X)\n",
    "\n",
    "# Step 3: Train-Test Split\n",
    "X_train, X_test, y_train, y_test = train_test_split(X_scaled, y, test_size=0.2, random_state=42)\n",
    "\n",
    "# Step 4: Define Logistic Loss Function (Binary Cross-Entropy is used internally by LogisticRegression)\n",
    "def logistic_loss(y_true, y_pred_probs):\n",
    "    epsilon = 1e-15  # To avoid log(0)\n",
    "    y_pred_probs = np.clip(y_pred_probs, epsilon, 1 - epsilon)\n",
    "    return -np.mean(y_true * np.log(y_pred_probs) + (1 - y_true) * np.log(1 - y_pred_probs))\n",
    "\n",
    "# Step 5: Train Logistic Regression Model (Optimize Model Parameters)\n",
    "model = LogisticRegression(solver='lbfgs', penalty='l2', C=1.0, random_state=42)\n",
    "model.fit(X_train, y_train)\n",
    "\n",
    "# Step 6: Estimate Probabilities\n",
    "y_train_probs = model.predict_proba(X_train)[:, 1]\n",
    "y_test_probs = model.predict_proba(X_test)[:, 1]\n",
    "\n",
    "# Step 7: Compute Predictions\n",
    "y_train_pred = (y_train_probs > 0.5).astype(int)\n",
    "y_test_pred = (y_test_probs > 0.5).astype(int)\n",
    "\n",
    "# Step 8: Hyperparameter Validation (Checking model performance)\n",
    "train_loss = logistic_loss(y_train, y_train_probs)\n",
    "test_loss = logistic_loss(y_test, y_test_probs)\n",
    "\n",
    "# Step 9: Evaluate Model Performance\n",
    "metrics = {\n",
    "    \"Accuracy\": accuracy_score(y_test, y_test_pred),\n",
    "    \"Precision\": precision_score(y_test, y_test_pred),\n",
    "    \"Recall\": recall_score(y_test, y_test_pred),\n",
    "    \"F1 Score\": f1_score(y_test, y_test_pred),\n",
    "    \"ROC-AUC\": roc_auc_score(y_test, y_test_probs),\n",
    "    \"Train Loss\": train_loss,\n",
    "    \"Test Loss\": test_loss\n",
    "}\n",
    "\n",
    "# Step 10: Predict New Data\n",
    "new_X = np.array([[0.6, 0.8, 0.4]])  # Example new input\n",
    "new_X_scaled = scaler.transform(new_X)\n",
    "new_prob = model.predict_proba(new_X_scaled)[:, 1]\n",
    "new_prediction = (new_prob > 0.5).astype(int)\n",
    "\n",
    "# Display Results\n",
    "print(\"Model Performance Metrics:\", metrics)\n",
    "print(f\"Prediction for New Data {new_X}: Class = {new_prediction[0]}, Probability = {new_prob[0]:.4f}\")"
   ]
  }
 ],
 "metadata": {
  "kernelspec": {
   "display_name": "Python 3",
   "language": "python",
   "name": "python3"
  },
  "language_info": {
   "codemirror_mode": {
    "name": "ipython",
    "version": 3
   },
   "file_extension": ".py",
   "mimetype": "text/x-python",
   "name": "python",
   "nbconvert_exporter": "python",
   "pygments_lexer": "ipython3",
   "version": "3.13.0"
  }
 },
 "nbformat": 4,
 "nbformat_minor": 2
}
