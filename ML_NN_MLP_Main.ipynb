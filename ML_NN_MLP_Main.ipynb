{
 "cells": [
  {
   "cell_type": "code",
   "execution_count": 1,
   "metadata": {},
   "outputs": [],
   "source": [
    "import numpy as np\n",
    "import pandas as pd\n",
    "from sklearn.datasets import load_breast_cancer  # Step 1: Data\n",
    "from sklearn.model_selection import train_test_split, GridSearchCV  # Step 3 & 5: Train-Test Split & Hyperparameter Optimization\n",
    "from sklearn.preprocessing import StandardScaler  # Step 2: Preprocessing\n",
    "from sklearn.neural_network import MLPClassifier  # Step 4: Choose Network Architecture\n",
    "from sklearn.metrics import classification_report, confusion_matrix  # Step 7 & 8: Validate Assumptions & Evaluate"
   ]
  },
  {
   "cell_type": "code",
   "execution_count": 2,
   "metadata": {},
   "outputs": [],
   "source": [
    "# Step 1: Data\n",
    "# ===============================\n",
    "data = load_breast_cancer()\n",
    "X, y = data.data, data.target"
   ]
  },
  {
   "cell_type": "code",
   "execution_count": 3,
   "metadata": {},
   "outputs": [],
   "source": [
    "# Step 2: Preprocessing\n",
    "# ===============================\n",
    "scaler = StandardScaler()\n",
    "X_scaled = scaler.fit_transform(X)"
   ]
  },
  {
   "cell_type": "code",
   "execution_count": 4,
   "metadata": {},
   "outputs": [],
   "source": [
    "# Step 3: Train-Test Split\n",
    "# ===============================\n",
    "X_train, X_test, y_train, y_test = train_test_split(X_scaled, y, test_size=0.2, random_state=42)"
   ]
  },
  {
   "cell_type": "code",
   "execution_count": 5,
   "metadata": {},
   "outputs": [],
   "source": [
    "# Step 4: Choose Network Architecture\n",
    "# ===============================\n",
    "# Initialize an MLPClassifier. Here, we start with a default architecture.\n",
    "mlp = MLPClassifier(max_iter=1000, random_state=42)"
   ]
  },
  {
   "cell_type": "code",
   "execution_count": 6,
   "metadata": {},
   "outputs": [
    {
     "name": "stdout",
     "output_type": "stream",
     "text": [
      "Best Hyperparameters: {'activation': 'relu', 'alpha': 0.0001, 'hidden_layer_sizes': (100,), 'learning_rate_init': 0.001}\n"
     ]
    }
   ],
   "source": [
    "# Step 5: Optimize Hyperparameters\n",
    "# ===============================\n",
    "# Define a grid of hyperparameters to search over\n",
    "param_grid = {\n",
    "    'hidden_layer_sizes': [(50,), (100,), (50, 30)],  # Different network architectures\n",
    "    'activation': ['relu', 'tanh'],                   # Activation functions\n",
    "    'alpha': [0.0001, 0.001],                         # L2 penalty (regularization term) parameter\n",
    "    'learning_rate_init': [0.001, 0.01]               # Initial learning rate\n",
    "}\n",
    "\n",
    "grid_search = GridSearchCV(mlp, param_grid, cv=3, n_jobs=-1, scoring='accuracy')\n",
    "grid_search.fit(X_train, y_train)\n",
    "best_mlp = grid_search.best_estimator_\n",
    "print(\"Best Hyperparameters:\", grid_search.best_params_)"
   ]
  },
  {
   "cell_type": "code",
   "execution_count": 7,
   "metadata": {},
   "outputs": [],
   "source": [
    "# Step 6: Compute Predictions\n",
    "# ===============================\n",
    "y_pred = best_mlp.predict(X_test)"
   ]
  },
  {
   "cell_type": "code",
   "execution_count": 8,
   "metadata": {},
   "outputs": [
    {
     "name": "stdout",
     "output_type": "stream",
     "text": [
      "Confusion Matrix:\n",
      "[[41  2]\n",
      " [ 1 70]]\n",
      "\n",
      "Classification Report:\n",
      "              precision    recall  f1-score   support\n",
      "\n",
      "           0       0.98      0.95      0.96        43\n",
      "           1       0.97      0.99      0.98        71\n",
      "\n",
      "    accuracy                           0.97       114\n",
      "   macro avg       0.97      0.97      0.97       114\n",
      "weighted avg       0.97      0.97      0.97       114\n",
      "\n"
     ]
    }
   ],
   "source": [
    "# Step 7: Validate Assumptions\n",
    "# ===============================\n",
    "# For classification, we validate by checking the confusion matrix and classification report.\n",
    "print(\"Confusion Matrix:\")\n",
    "print(confusion_matrix(y_test, y_pred))\n",
    "print(\"\\nClassification Report:\")\n",
    "print(classification_report(y_test, y_pred))"
   ]
  },
  {
   "cell_type": "code",
   "execution_count": 9,
   "metadata": {},
   "outputs": [
    {
     "name": "stdout",
     "output_type": "stream",
     "text": [
      "Test Accuracy: 97.37%\n"
     ]
    }
   ],
   "source": [
    "# Step 8: Evaluate\n",
    "# ===============================\n",
    "accuracy = best_mlp.score(X_test, y_test)\n",
    "print(\"Test Accuracy: {:.2f}%\".format(accuracy * 100))"
   ]
  },
  {
   "cell_type": "code",
   "execution_count": 10,
   "metadata": {},
   "outputs": [
    {
     "name": "stdout",
     "output_type": "stream",
     "text": [
      "Predictions on New Data: [1 0 0 1 1]\n"
     ]
    }
   ],
   "source": [
    "# Step 9: Predict New Data\n",
    "# ===============================\n",
    "# Assume new_data is a new set of observations.\n",
    "# For demonstration, we use the first 5 samples from the test set.\n",
    "new_data = X_test[:5]\n",
    "new_predictions = best_mlp.predict(new_data)\n",
    "print(\"Predictions on New Data:\", new_predictions)"
   ]
  }
 ],
 "metadata": {
  "kernelspec": {
   "display_name": "Python 3",
   "language": "python",
   "name": "python3"
  },
  "language_info": {
   "codemirror_mode": {
    "name": "ipython",
    "version": 3
   },
   "file_extension": ".py",
   "mimetype": "text/x-python",
   "name": "python",
   "nbconvert_exporter": "python",
   "pygments_lexer": "ipython3",
   "version": "3.13.0"
  }
 },
 "nbformat": 4,
 "nbformat_minor": 2
}
