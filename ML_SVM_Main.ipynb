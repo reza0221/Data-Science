{
 "cells": [
  {
   "cell_type": "code",
   "execution_count": 1,
   "metadata": {},
   "outputs": [],
   "source": [
    "import numpy as np\n",
    "import pandas as pd\n",
    "from sklearn.model_selection import train_test_split, GridSearchCV\n",
    "from sklearn.preprocessing import StandardScaler, LabelEncoder\n",
    "from sklearn.svm import SVC\n",
    "from sklearn.metrics import accuracy_score, classification_report, confusion_matrix"
   ]
  },
  {
   "cell_type": "code",
   "execution_count": 2,
   "metadata": {},
   "outputs": [
    {
     "name": "stdout",
     "output_type": "stream",
     "text": [
      "Best Hyperparameters: {'C': 100, 'gamma': 'auto', 'kernel': 'rbf'}\n",
      "\n",
      "Model Accuracy: 0.53\n",
      "\n",
      "Confusion Matrix:\n",
      " [[50 49]\n",
      " [45 56]]\n",
      "\n",
      "Classification Report:\n",
      "               precision    recall  f1-score   support\n",
      "\n",
      "           0       0.53      0.51      0.52        99\n",
      "           1       0.53      0.55      0.54       101\n",
      "\n",
      "    accuracy                           0.53       200\n",
      "   macro avg       0.53      0.53      0.53       200\n",
      "weighted avg       0.53      0.53      0.53       200\n",
      "\n",
      "\n",
      "Prediction for New Data: [1]\n"
     ]
    }
   ],
   "source": [
    "# Step 1: Generate Random Data (Simulated Example)\n",
    "np.random.seed(42)\n",
    "X = np.random.rand(1000, 5)  # 1000 samples, 5 features\n",
    "y = np.random.choice([0, 1], size=1000)  # Binary target variable\n",
    "\n",
    "# Step 2: Preprocessing\n",
    "scaler = StandardScaler()\n",
    "X_scaled = scaler.fit_transform(X)  # Standardizing features\n",
    "\n",
    "# Step 3: Train-Test Split\n",
    "X_train, X_test, y_train, y_test = train_test_split(X_scaled, y, test_size=0.2, random_state=42)\n",
    "\n",
    "# Step 4: Select Kernel & Hyperparameters\n",
    "svm_model = SVC(kernel='rbf', C=1.0, gamma='scale')  # RBF kernel as default\n",
    "\n",
    "# Step 5: Optimize Decision Boundary (Train Model)\n",
    "svm_model.fit(X_train, y_train)\n",
    "\n",
    "# Step 6: Compute Predictions\n",
    "y_pred = svm_model.predict(X_test)\n",
    "\n",
    "# Step 7: Validate Hyperparameters using GridSearchCV\n",
    "param_grid = {\n",
    "    'C': [0.1, 1, 10, 100],\n",
    "    'kernel': ['linear', 'rbf', 'poly', 'sigmoid'],\n",
    "    'gamma': ['scale', 'auto']\n",
    "}\n",
    "grid_search = GridSearchCV(SVC(), param_grid, cv=5, scoring='accuracy', n_jobs=-1)\n",
    "grid_search.fit(X_train, y_train)\n",
    "\n",
    "# Best parameters\n",
    "best_params = grid_search.best_params_\n",
    "print(\"Best Hyperparameters:\", best_params)\n",
    "\n",
    "# Step 8: Evaluate Model Performance\n",
    "accuracy = accuracy_score(y_test, y_pred)\n",
    "conf_matrix = confusion_matrix(y_test, y_pred)\n",
    "class_report = classification_report(y_test, y_pred)\n",
    "\n",
    "print(\"\\nModel Accuracy:\", accuracy)\n",
    "print(\"\\nConfusion Matrix:\\n\", conf_matrix)\n",
    "print(\"\\nClassification Report:\\n\", class_report)\n",
    "\n",
    "# Step 9: Predict New Data\n",
    "new_data = np.random.rand(1, 5)  # Generate a new sample\n",
    "new_data_scaled = scaler.transform(new_data)\n",
    "new_prediction = svm_model.predict(new_data_scaled)\n",
    "print(\"\\nPrediction for New Data:\", new_prediction)"
   ]
  }
 ],
 "metadata": {
  "kernelspec": {
   "display_name": "Python 3",
   "language": "python",
   "name": "python3"
  },
  "language_info": {
   "codemirror_mode": {
    "name": "ipython",
    "version": 3
   },
   "file_extension": ".py",
   "mimetype": "text/x-python",
   "name": "python",
   "nbconvert_exporter": "python",
   "pygments_lexer": "ipython3",
   "version": "3.13.0"
  }
 },
 "nbformat": 4,
 "nbformat_minor": 2
}
