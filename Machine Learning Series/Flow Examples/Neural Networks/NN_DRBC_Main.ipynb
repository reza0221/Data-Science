{
 "cells": [
  {
   "cell_type": "code",
   "execution_count": 4,
   "metadata": {},
   "outputs": [],
   "source": [
    "import torch\n",
    "import torch.nn as nn\n",
    "import torch.optim as optim\n",
    "from torch.utils.data import DataLoader, TensorDataset\n",
    "import numpy as np"
   ]
  },
  {
   "cell_type": "code",
   "execution_count": 11,
   "metadata": {},
   "outputs": [],
   "source": [
    "# --- Environment Setup ---\n",
    "device = torch.device(\"cuda\" if torch.cuda.is_available() else \"cpu\")\n",
    "\n",
    "def squash(s, dim=-1, epsilon=1e-7):\n",
    "    squared_norm = (s ** 2).sum(dim=dim, keepdim=True)\n",
    "    scale = squared_norm / (1 + squared_norm)\n",
    "    return scale * (s / (torch.sqrt(squared_norm) + epsilon))\n",
    "\n",
    "class CapsuleLayer(nn.Module):\n",
    "    def __init__(self, num_capsules, num_routes, in_dim, out_dim, routing_iters=3):\n",
    "        super(CapsuleLayer, self).__init__()\n",
    "        self.num_capsules = num_capsules\n",
    "        self.num_routes = num_routes\n",
    "        self.routing_iters = routing_iters\n",
    "        self.W = nn.Parameter(torch.randn(1, num_routes, num_capsules, out_dim, in_dim))\n",
    "\n",
    "    def forward(self, x):\n",
    "        batch_size = x.size(0)\n",
    "        x = x.unsqueeze(2).unsqueeze(-1)  # [batch_size, num_routes, 1, in_dim, 1]\n",
    "        u_hat = torch.matmul(self.W, x).squeeze(-1)  # [1, num_routes, num_capsules, out_dim] → broadcasted\n",
    "\n",
    "        b_ij = torch.zeros(batch_size, self.num_routes, self.num_capsules, device=device)\n",
    "\n",
    "        for _ in range(self.routing_iters):\n",
    "            c_ij = torch.softmax(b_ij, dim=2).unsqueeze(-1)  # [batch_size, num_routes, num_capsules, 1]\n",
    "            s_j = (c_ij * u_hat).sum(dim=1)  # [batch_size, num_capsules, out_dim]\n",
    "            v_j = squash(s_j)\n",
    "            if _ < self.routing_iters - 1:\n",
    "                agreement = (u_hat * v_j.unsqueeze(1)).sum(dim=-1)  # [batch_size, num_routes, num_capsules]\n",
    "                b_ij += agreement\n",
    "        return v_j  # [batch_size, num_capsules, out_dim]\n",
    "\n",
    "class DRBCModel(nn.Module):\n",
    "    def __init__(self, input_dim, num_routes, num_capsules, out_dim):\n",
    "        super(DRBCModel, self).__init__()\n",
    "        self.capsule_layer = CapsuleLayer(num_capsules, num_routes, input_dim, out_dim)\n",
    "        self.fc = nn.Linear(num_capsules * out_dim, 2)  # Binary classification\n",
    "\n",
    "    def forward(self, x):\n",
    "        x = self.capsule_layer(x)\n",
    "        x = x.view(x.size(0), -1)\n",
    "        return self.fc(x)\n",
    "\n",
    "# --- Preprocessing ---\n",
    "def generate_random_data(samples=256, num_routes=8, feature_dim=16):\n",
    "    X = torch.randn(samples, num_routes, feature_dim)\n",
    "    y = torch.randint(0, 2, (samples,))\n",
    "    return X, y\n",
    "\n",
    "X, y = generate_random_data()\n",
    "train_size = int(0.8 * len(X))\n",
    "train_dataset = TensorDataset(X[:train_size], y[:train_size])\n",
    "test_dataset = TensorDataset(X[train_size:], y[train_size:])\n",
    "train_loader = DataLoader(train_dataset, batch_size=8, shuffle=True)\n",
    "test_loader = DataLoader(test_dataset, batch_size=8)"
   ]
  },
  {
   "cell_type": "code",
   "execution_count": 12,
   "metadata": {},
   "outputs": [
    {
     "name": "stdout",
     "output_type": "stream",
     "text": [
      "Epoch 1/3, Loss: 0.7066\n",
      "Epoch 2/3, Loss: 0.6953\n",
      "Epoch 3/3, Loss: 0.6853\n"
     ]
    }
   ],
   "source": [
    "# --- Train Base Model (DRBC) ---\n",
    "model = DRBCModel(input_dim=16, num_routes=8, num_capsules=4, out_dim=8).to(device)\n",
    "criterion = nn.CrossEntropyLoss()\n",
    "optimizer = optim.Adam(model.parameters(), lr=0.001)\n",
    "\n",
    "def train_model(model, loader, optimizer, criterion, epochs=3):\n",
    "    model.train()\n",
    "    for epoch in range(epochs):\n",
    "        total_loss = 0\n",
    "        for inputs, targets in loader:\n",
    "            inputs, targets = inputs.to(device), targets.to(device)\n",
    "            optimizer.zero_grad()\n",
    "            outputs = model(inputs)\n",
    "            \n",
    "            if outputs.size(0) != targets.size(0):\n",
    "                targets = targets[:outputs.size(0)]  # Align sizes\n",
    "\n",
    "            loss = criterion(outputs, targets)\n",
    "            loss.backward()\n",
    "            optimizer.step()\n",
    "            total_loss += loss.item()\n",
    "\n",
    "        print(f\"Epoch {epoch + 1}/{epochs}, Loss: {total_loss / len(loader):.4f}\")\n",
    "\n",
    "train_model(model, train_loader, optimizer, criterion)"
   ]
  },
  {
   "cell_type": "code",
   "execution_count": 13,
   "metadata": {},
   "outputs": [
    {
     "name": "stdout",
     "output_type": "stream",
     "text": [
      "Capsule outputs shape: torch.Size([8, 4, 8])\n",
      "Epoch 1/3, Loss: 0.6763\n",
      "Epoch 2/3, Loss: 0.6695\n",
      "Epoch 3/3, Loss: 0.6662\n",
      "Accuracy: 46.15%\n",
      "Model deployed (saved) successfully.\n"
     ]
    }
   ],
   "source": [
    "# --- Planning (Capsule Structure Exploration & Routing Analysis) ---\n",
    "def analyze_capsule_outputs(model, loader):\n",
    "    model.eval()\n",
    "    with torch.no_grad():\n",
    "        for inputs, _ in loader:\n",
    "            inputs = inputs.to(device)\n",
    "            outputs = model.capsule_layer(inputs)\n",
    "            print(f\"Capsule outputs shape: {outputs.shape}\")  # Expected: [batch_size, num_capsules, out_dim]\n",
    "            break\n",
    "\n",
    "analyze_capsule_outputs(model, test_loader)\n",
    "\n",
    "# --- Fine-Tune Model ---\n",
    "optimizer = optim.Adam(model.parameters(), lr=0.0005)\n",
    "train_model(model, train_loader, optimizer, criterion)\n",
    "\n",
    "# --- Evaluate ---\n",
    "def evaluate_model(model, loader):\n",
    "    model.eval()\n",
    "    correct = total = 0\n",
    "    with torch.no_grad():\n",
    "        for inputs, targets in loader:\n",
    "            inputs, targets = inputs.to(device), targets.to(device)\n",
    "            outputs = model(inputs)\n",
    "            predictions = outputs.argmax(dim=1)\n",
    "            correct += (predictions == targets).sum().item()\n",
    "            total += targets.size(0)\n",
    "    print(f\"Accuracy: {100 * correct / total:.2f}%\")\n",
    "\n",
    "evaluate_model(model, test_loader)\n",
    "\n",
    "# --- Deploy Policy ---\n",
    "torch.save(model.state_dict(), \"drbc_model.pth\")\n",
    "print(\"Model deployed (saved) successfully.\")"
   ]
  }
 ],
 "metadata": {
  "kernelspec": {
   "display_name": "Python 3",
   "language": "python",
   "name": "python3"
  },
  "language_info": {
   "codemirror_mode": {
    "name": "ipython",
    "version": 3
   },
   "file_extension": ".py",
   "mimetype": "text/x-python",
   "name": "python",
   "nbconvert_exporter": "python",
   "pygments_lexer": "ipython3",
   "version": "3.13.0"
  }
 },
 "nbformat": 4,
 "nbformat_minor": 2
}
