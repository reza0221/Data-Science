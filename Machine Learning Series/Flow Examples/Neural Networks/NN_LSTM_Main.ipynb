{
 "cells": [
  {
   "cell_type": "code",
   "execution_count": 1,
   "metadata": {},
   "outputs": [],
   "source": [
    "import numpy as np\n",
    "import torch\n",
    "import torch.nn as nn\n",
    "import torch.optim as optim\n",
    "from torch.utils.data import DataLoader, TensorDataset, random_split\n",
    "from sklearn.metrics import mean_squared_error"
   ]
  },
  {
   "cell_type": "code",
   "execution_count": 2,
   "metadata": {},
   "outputs": [],
   "source": [
    "# 1. Environment Setup\n",
    "np.random.seed(42)\n",
    "torch.manual_seed(42)\n",
    "\n",
    "device = torch.device(\"cuda\" if torch.cuda.is_available() else \"cpu\")\n",
    "\n",
    "# 2. Preprocessing\n",
    "# Generate random time-series data (1000 samples, 10 timesteps, 1 feature)\n",
    "X = np.random.rand(1000, 10, 1).astype(np.float32)\n",
    "y = np.random.rand(1000, 1).astype(np.float32)\n",
    "\n",
    "X_tensor = torch.from_numpy(X)\n",
    "y_tensor = torch.from_numpy(y)\n",
    "\n",
    "dataset = TensorDataset(X_tensor, y_tensor)\n",
    "\n",
    "# 3. Train-Test Split\n",
    "train_size = int(0.8 * len(dataset))\n",
    "val_size = int(0.1 * len(dataset))\n",
    "test_size = len(dataset) - train_size - val_size\n",
    "train_dataset, val_dataset, test_dataset = random_split(dataset, [train_size, val_size, test_size])\n",
    "\n",
    "train_loader = DataLoader(train_dataset, batch_size=32, shuffle=True)\n",
    "val_loader = DataLoader(val_dataset, batch_size=32)\n",
    "test_loader = DataLoader(test_dataset, batch_size=32)"
   ]
  },
  {
   "cell_type": "code",
   "execution_count": 3,
   "metadata": {},
   "outputs": [
    {
     "name": "stdout",
     "output_type": "stream",
     "text": [
      "Epoch 1, Validation Loss: 0.0964\n",
      "Epoch 2, Validation Loss: 0.0879\n",
      "Epoch 3, Validation Loss: 0.0876\n",
      "Epoch 4, Validation Loss: 0.0885\n",
      "Epoch 5, Validation Loss: 0.0872\n"
     ]
    }
   ],
   "source": [
    "# 4. Train Base Model (Long Short-Term Memory)\n",
    "class LSTMModel(nn.Module):\n",
    "    def __init__(self, input_size, hidden_size, output_size):\n",
    "        super(LSTMModel, self).__init__()\n",
    "        self.lstm = nn.LSTM(input_size, hidden_size, batch_first=True)\n",
    "        self.fc = nn.Linear(hidden_size, output_size)\n",
    "\n",
    "    def forward(self, x):\n",
    "        out, _ = self.lstm(x)\n",
    "        out = self.fc(out[:, -1, :])  # Use the last time step's output\n",
    "        return out\n",
    "\n",
    "model = LSTMModel(input_size=1, hidden_size=16, output_size=1).to(device)\n",
    "criterion = nn.MSELoss()\n",
    "optimizer = optim.Adam(model.parameters(), lr=0.01)\n",
    "\n",
    "# Training function\n",
    "def train(model, loader, criterion, optimizer):\n",
    "    model.train()\n",
    "    for X_batch, y_batch in loader:\n",
    "        X_batch, y_batch = X_batch.to(device), y_batch.to(device)\n",
    "        optimizer.zero_grad()\n",
    "        outputs = model(X_batch)\n",
    "        loss = criterion(outputs, y_batch)\n",
    "        loss.backward()\n",
    "        optimizer.step()\n",
    "\n",
    "# Validation function\n",
    "def evaluate(model, loader, criterion):\n",
    "    model.eval()\n",
    "    losses = []\n",
    "    with torch.no_grad():\n",
    "        for X_batch, y_batch in loader:\n",
    "            X_batch, y_batch = X_batch.to(device), y_batch.to(device)\n",
    "            outputs = model(X_batch)\n",
    "            loss = criterion(outputs, y_batch)\n",
    "            losses.append(loss.item())\n",
    "    return np.mean(losses)\n",
    "\n",
    "# Train base model\n",
    "for epoch in range(5):\n",
    "    train(model, train_loader, criterion, optimizer)\n",
    "    val_loss = evaluate(model, val_loader, criterion)\n",
    "    print(f\"Epoch {epoch+1}, Validation Loss: {val_loss:.4f}\")"
   ]
  },
  {
   "cell_type": "code",
   "execution_count": 4,
   "metadata": {},
   "outputs": [
    {
     "name": "stdout",
     "output_type": "stream",
     "text": [
      "Fine-Tune Epoch 1, Validation Loss: 0.0873\n",
      "Fine-Tune Epoch 2, Validation Loss: 0.0880\n",
      "Fine-Tune Epoch 3, Validation Loss: 0.0882\n",
      "Test MSE: 0.0824\n",
      "Model saved as 'lstm_model.pth'\n"
     ]
    }
   ],
   "source": [
    "# 5. Planning (Simulated Experience Using LSTM Predictions)\n",
    "model.eval()\n",
    "pseudo_labels = []\n",
    "with torch.no_grad():\n",
    "    for X_batch, _ in val_loader:\n",
    "        X_batch = X_batch.to(device)\n",
    "        preds = model(X_batch)\n",
    "        pseudo_labels.append(preds.cpu())\n",
    "\n",
    "pseudo_labels = torch.cat(pseudo_labels, dim=0)\n",
    "X_augmented = torch.cat([train_dataset[:][0], val_dataset[:][0]], dim=0)\n",
    "y_augmented = torch.cat([train_dataset[:][1], pseudo_labels], dim=0)\n",
    "\n",
    "augmented_dataset = TensorDataset(X_augmented, y_augmented)\n",
    "augmented_loader = DataLoader(augmented_dataset, batch_size=32, shuffle=True)\n",
    "\n",
    "# 6. Fine-Tune Model\n",
    "optimizer = optim.Adam(model.parameters(), lr=0.005)\n",
    "for epoch in range(3):\n",
    "    train(model, augmented_loader, criterion, optimizer)\n",
    "    val_loss = evaluate(model, val_loader, criterion)\n",
    "    print(f\"Fine-Tune Epoch {epoch+1}, Validation Loss: {val_loss:.4f}\")\n",
    "\n",
    "# 7. Evaluate\n",
    "model.eval()\n",
    "y_true, y_pred = [], []\n",
    "with torch.no_grad():\n",
    "    for X_batch, y_batch in test_loader:\n",
    "        X_batch, y_batch = X_batch.to(device), y_batch.to(device)\n",
    "        preds = model(X_batch)\n",
    "        y_true.append(y_batch.cpu().numpy())\n",
    "        y_pred.append(preds.cpu().numpy())\n",
    "\n",
    "y_true = np.vstack(y_true)\n",
    "y_pred = np.vstack(y_pred)\n",
    "mse = mean_squared_error(y_true, y_pred)\n",
    "print(f\"Test MSE: {mse:.4f}\")\n",
    "\n",
    "# 8. Deploy Policy\n",
    "model_path = \"lstm_model.pth\"\n",
    "torch.save(model.state_dict(), model_path)\n",
    "print(f\"Model saved as '{model_path}'\")"
   ]
  }
 ],
 "metadata": {
  "kernelspec": {
   "display_name": "Python 3",
   "language": "python",
   "name": "python3"
  },
  "language_info": {
   "codemirror_mode": {
    "name": "ipython",
    "version": 3
   },
   "file_extension": ".py",
   "mimetype": "text/x-python",
   "name": "python",
   "nbconvert_exporter": "python",
   "pygments_lexer": "ipython3",
   "version": "3.13.0"
  }
 },
 "nbformat": 4,
 "nbformat_minor": 2
}
