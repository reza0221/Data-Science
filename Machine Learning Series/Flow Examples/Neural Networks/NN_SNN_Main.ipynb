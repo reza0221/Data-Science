{
 "cells": [
  {
   "cell_type": "code",
   "execution_count": 1,
   "metadata": {},
   "outputs": [],
   "source": [
    "import numpy as np\n",
    "import matplotlib.pyplot as plt\n",
    "from sklearn.model_selection import train_test_split\n",
    "from sklearn.preprocessing import StandardScaler"
   ]
  },
  {
   "cell_type": "code",
   "execution_count": 7,
   "metadata": {},
   "outputs": [
    {
     "name": "stdout",
     "output_type": "stream",
     "text": [
      "Epoch 1, Loss: 0.5000\n",
      "Epoch 2, Loss: 0.5000\n",
      "Epoch 3, Loss: 0.5000\n",
      "Epoch 4, Loss: 0.5000\n",
      "Epoch 5, Loss: 0.5000\n",
      "Epoch 6, Loss: 0.5000\n",
      "Epoch 7, Loss: 0.5000\n",
      "Epoch 8, Loss: 0.5000\n",
      "Epoch 9, Loss: 0.5000\n",
      "Epoch 10, Loss: 0.5000\n"
     ]
    }
   ],
   "source": [
    "class SNN:\n",
    "    def __init__(self, input_size, hidden_size, output_size, threshold=1.0, decay=0.9):\n",
    "        self.weights_input_hidden = np.random.randn(input_size, hidden_size) * 0.1\n",
    "        self.weights_hidden_output = np.random.randn(hidden_size, output_size) * 0.1\n",
    "        self.threshold = threshold\n",
    "        self.decay = decay\n",
    "\n",
    "    def spike_function(self, membrane_potential):\n",
    "        return (membrane_potential >= self.threshold).astype(float)\n",
    "\n",
    "    def forward(self, inputs):\n",
    "        membrane_hidden = np.zeros(self.weights_input_hidden.shape[1])\n",
    "        hidden_spike_train = []\n",
    "        for t in range(inputs.shape[0]):\n",
    "            membrane_hidden = self.decay * membrane_hidden + np.dot(inputs[t], self.weights_input_hidden)\n",
    "            hidden_spikes = self.spike_function(membrane_hidden)\n",
    "            hidden_spike_train.append(hidden_spikes)\n",
    "        membrane_output = np.dot(hidden_spikes, self.weights_hidden_output)\n",
    "        output_spikes = self.spike_function(membrane_output)\n",
    "        return np.array(hidden_spike_train), output_spikes\n",
    "\n",
    "np.random.seed(42)\n",
    "input_dim, hidden_dim, output_dim = 10, 5, 2\n",
    "\n",
    "X = np.random.rand(500, input_dim)\n",
    "y = np.random.randint(0, output_dim, size=(500,))\n",
    "scaler = StandardScaler()\n",
    "X_scaled = scaler.fit_transform(X)\n",
    "\n",
    "X_train, X_test, y_train, y_test = train_test_split(X_scaled, y, test_size=0.2, random_state=42)\n",
    "\n",
    "snn = SNN(input_size=input_dim, hidden_size=hidden_dim, output_size=output_dim)\n",
    "\n",
    "def train_snn(model, X_train, y_train, epochs=10):\n",
    "    for epoch in range(epochs):\n",
    "        losses = []\n",
    "        for x, target in zip(X_train, y_train):\n",
    "            input_sequence = np.tile(x.reshape(1, -1), (10, 1))\n",
    "            _, prediction = model.forward(input_sequence)\n",
    "            target_vector = np.zeros(output_dim)\n",
    "            target_vector[target] = 1\n",
    "            loss = np.mean((prediction - target_vector) ** 2)\n",
    "            losses.append(loss)\n",
    "        print(f\"Epoch {epoch + 1}, Loss: {np.mean(losses):.4f}\")\n",
    "\n",
    "train_snn(snn, X_train, y_train)"
   ]
  },
  {
   "cell_type": "code",
   "execution_count": 8,
   "metadata": {},
   "outputs": [
    {
     "data": {
      "image/png": "[encoded data removed]",
      "text/plain": [
       "<Figure size 1000x400 with 1 Axes>"
      ]
     },
     "metadata": {},
     "output_type": "display_data"
    },
    {
     "name": "stdout",
     "output_type": "stream",
     "text": [
      "Epoch 1, Loss: 0.5000\n",
      "Epoch 2, Loss: 0.5000\n",
      "Epoch 3, Loss: 0.5000\n",
      "Epoch 4, Loss: 0.5000\n",
      "Epoch 5, Loss: 0.5000\n",
      "Test Accuracy: 47.00%\n",
      "Model deployed. Ready for inference.\n"
     ]
    }
   ],
   "source": [
    "def plot_spike_train(spike_train, title=\"Spike Train\"):\n",
    "    plt.figure(figsize=(10, 4))\n",
    "    for neuron_idx, neuron_spikes in enumerate(spike_train.T):\n",
    "        spike_times = np.where(neuron_spikes == 1)[0]\n",
    "        plt.eventplot(spike_times, lineoffsets=neuron_idx, colors='black')\n",
    "    plt.title(title)\n",
    "    plt.xlabel('Time Steps')\n",
    "    plt.ylabel('Neuron')\n",
    "    plt.show()\n",
    "\n",
    "example_input = np.tile(X_train[0].reshape(1, -1), (10, 1))\n",
    "hidden_spike_train, spike_output = snn.forward(example_input)\n",
    "plot_spike_train(hidden_spike_train, title=\"Hidden Layer Spike Train\")\n",
    "\n",
    "snn.threshold = 0.8\n",
    "snn.decay = 0.95\n",
    "train_snn(snn, X_train, y_train, epochs=5)\n",
    "\n",
    "def evaluate(model, X_test, y_test):\n",
    "    correct = 0\n",
    "    for x, target in zip(X_test, y_test):\n",
    "        input_sequence = np.tile(x.reshape(1, -1), (10, 1))\n",
    "        _, prediction = model.forward(input_sequence)\n",
    "        predicted_label = np.argmax(prediction)\n",
    "        correct += int(predicted_label == target)\n",
    "    accuracy = correct / len(y_test)\n",
    "    print(f\"Test Accuracy: {accuracy * 100:.2f}%\")\n",
    "\n",
    "evaluate(snn, X_test, y_test)\n",
    "\n",
    "def deploy_model(model):\n",
    "    print(\"Model deployed. Ready for inference.\")\n",
    "\n",
    "deploy_model(snn)"
   ]
  }
 ],
 "metadata": {
  "kernelspec": {
   "display_name": "Python 3",
   "language": "python",
   "name": "python3"
  },
  "language_info": {
   "codemirror_mode": {
    "name": "ipython",
    "version": 3
   },
   "file_extension": ".py",
   "mimetype": "text/x-python",
   "name": "python",
   "nbconvert_exporter": "python",
   "pygments_lexer": "ipython3",
   "version": "3.13.0"
  }
 },
 "nbformat": 4,
 "nbformat_minor": 2
}
