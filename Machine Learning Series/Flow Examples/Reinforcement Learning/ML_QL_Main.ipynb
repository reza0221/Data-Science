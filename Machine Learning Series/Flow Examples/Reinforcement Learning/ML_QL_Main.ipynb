{
 "cells": [
  {
   "cell_type": "code",
   "execution_count": 1,
   "metadata": {},
   "outputs": [],
   "source": [
    "import numpy as np\n",
    "import random"
   ]
  },
  {
   "cell_type": "code",
   "execution_count": 2,
   "metadata": {},
   "outputs": [],
   "source": [
    "# Step 1: Environment Setup\n",
    "class SimpleGridWorld:\n",
    "    def __init__(self, size=5, goal_state=(4, 4), obstacle_states=[]):\n",
    "        self.size = size\n",
    "        self.goal_state = goal_state\n",
    "        self.obstacle_states = obstacle_states\n",
    "        self.actions = ['up', 'down', 'left', 'right']\n",
    "        self.state = (0, 0)  # Start state\n",
    "\n",
    "    def reset(self):\n",
    "        self.state = (0, 0)\n",
    "        return self.state\n",
    "\n",
    "    def step(self, action):\n",
    "        row, col = self.state\n",
    "        if action == 'up':\n",
    "            row = max(row - 1, 0)\n",
    "        elif action == 'down':\n",
    "            row = min(row + 1, self.size - 1)\n",
    "        elif action == 'left':\n",
    "            col = max(col - 1, 0)\n",
    "        elif action == 'right':\n",
    "            col = min(col + 1, self.size - 1)\n",
    "\n",
    "        new_state = (row, col)\n",
    "        reward = 1 if new_state == self.goal_state else -0.01\n",
    "        done = new_state == self.goal_state\n",
    "        self.state = new_state\n",
    "        return new_state, reward, done"
   ]
  },
  {
   "cell_type": "code",
   "execution_count": 3,
   "metadata": {},
   "outputs": [],
   "source": [
    "# Step 2: Preprocessing (Q-Table Initialization)\n",
    "size = 5\n",
    "env = SimpleGridWorld(size)\n",
    "q_table = np.zeros((size, size, len(env.actions)))\n",
    "\n",
    "# Step 3: Train-Test Split\n",
    "train_episodes = 500\n",
    "test_episodes = 50"
   ]
  },
  {
   "cell_type": "code",
   "execution_count": 4,
   "metadata": {},
   "outputs": [],
   "source": [
    "# Step 4: Train Base Model (Q-Learning Algorithm)\n",
    "alpha = 0.1  # Learning rate\n",
    "gamma = 0.9  # Discount factor\n",
    "epsilon = 1.0  # Exploration-exploitation balance\n",
    "epsilon_decay = 0.995\n",
    "min_epsilon = 0.01\n",
    "\n",
    "for episode in range(train_episodes):\n",
    "    state = env.reset()\n",
    "    done = False\n",
    "    while not done:\n",
    "        if random.uniform(0, 1) < epsilon:\n",
    "            action_idx = random.choice(range(len(env.actions)))  # Exploration\n",
    "        else:\n",
    "            action_idx = np.argmax(q_table[state[0], state[1]])  # Exploitation\n",
    "        \n",
    "        new_state, reward, done = env.step(env.actions[action_idx])\n",
    "        q_table[state[0], state[1], action_idx] += alpha * (\n",
    "            reward + gamma * np.max(q_table[new_state[0], new_state[1]]) - q_table[state[0], state[1], action_idx]\n",
    "        )\n",
    "        state = new_state\n",
    "    \n",
    "    epsilon = max(min_epsilon, epsilon * epsilon_decay)  # Decay epsilon"
   ]
  },
  {
   "cell_type": "code",
   "execution_count": 5,
   "metadata": {},
   "outputs": [
    {
     "name": "stdout",
     "output_type": "stream",
     "text": [
      "Evaluation Success Rate: 100.00%\n"
     ]
    }
   ],
   "source": [
    "# Step 5: Evaluate\n",
    "success_count = 0\n",
    "for _ in range(test_episodes):\n",
    "    state = env.reset()\n",
    "    done = False\n",
    "    while not done:\n",
    "        action_idx = np.argmax(q_table[state[0], state[1]])  # Exploit learned policy\n",
    "        state, reward, done = env.step(env.actions[action_idx])\n",
    "        if done:\n",
    "            success_count += 1\n",
    "\n",
    "evaluation_score = success_count / test_episodes\n",
    "print(f\"Evaluation Success Rate: {evaluation_score * 100:.2f}%\")"
   ]
  },
  {
   "cell_type": "code",
   "execution_count": 6,
   "metadata": {},
   "outputs": [
    {
     "name": "stdout",
     "output_type": "stream",
     "text": [
      "Deployed Policy Example: Starting at (0,0)\n",
      "State: (4, 4), Action Taken: down\n",
      "Goal reached!\n"
     ]
    }
   ],
   "source": [
    "# Step 6: Deploy Policy (Using Trained Q-Table for Action Selection)\n",
    "def deploy_policy(state):\n",
    "    action_idx = np.argmax(q_table[state[0], state[1]])\n",
    "    return env.actions[action_idx]\n",
    "\n",
    "# Example Usage\n",
    "print(\"Deployed Policy Example: Starting at (0,0)\")\n",
    "deploy_state = (0, 0)\n",
    "for _ in range(10):\n",
    "    action = deploy_policy(deploy_state)\n",
    "    deploy_state, _, done = env.step(action)\n",
    "    print(f\"State: {deploy_state}, Action Taken: {action}\")\n",
    "    if done:\n",
    "        print(\"Goal reached!\")\n",
    "        break"
   ]
  }
 ],
 "metadata": {
  "kernelspec": {
   "display_name": "Python 3",
   "language": "python",
   "name": "python3"
  },
  "language_info": {
   "codemirror_mode": {
    "name": "ipython",
    "version": 3
   },
   "file_extension": ".py",
   "mimetype": "text/x-python",
   "name": "python",
   "nbconvert_exporter": "python",
   "pygments_lexer": "ipython3",
   "version": "3.13.0"
  }
 },
 "nbformat": 4,
 "nbformat_minor": 2
}
