{
 "cells": [
  {
   "cell_type": "code",
   "execution_count": 3,
   "metadata": {},
   "outputs": [],
   "source": [
    "import numpy as np\n",
    "import pandas as pd\n",
    "from sklearn.model_selection import train_test_split, GridSearchCV\n",
    "from sklearn.tree import DecisionTreeClassifier\n",
    "from sklearn.preprocessing import StandardScaler\n",
    "from sklearn.metrics import accuracy_score, classification_report"
   ]
  },
  {
   "cell_type": "code",
   "execution_count": 5,
   "metadata": {},
   "outputs": [
    {
     "name": "stdout",
     "output_type": "stream",
     "text": [
      "Best Model Parameters: {'max_depth': 5, 'min_samples_leaf': 3, 'min_samples_split': 2}\n",
      "Accuracy: 0.5500\n",
      "              precision    recall  f1-score   support\n",
      "\n",
      "           0       0.56      0.50      0.53        10\n",
      "           1       0.55      0.60      0.57        10\n",
      "\n",
      "    accuracy                           0.55        20\n",
      "   macro avg       0.55      0.55      0.55        20\n",
      "weighted avg       0.55      0.55      0.55        20\n",
      "\n",
      "Prediction for New Data: Class = 1, Probability = 0.6667\n"
     ]
    }
   ],
   "source": [
    "# Sample Dataset\n",
    "np.random.seed(42)\n",
    "X = np.random.rand(100, 3)  # 100 samples, 3 features\n",
    "y = np.random.choice([0, 1], size=100)  # Binary classification\n",
    "\n",
    "# Convert to DataFrame for feature name consistency\n",
    "feature_names = [\"Feature_1\", \"Feature_2\", \"Feature_3\"]\n",
    "X_df = pd.DataFrame(X, columns=feature_names)\n",
    "\n",
    "# Preprocessing - Train-Test Split\n",
    "X_train, X_test, y_train, y_test = train_test_split(X_df, y, test_size=0.2, random_state=42)\n",
    "\n",
    "# Standardization (Keep as DataFrame)\n",
    "scaler = StandardScaler()\n",
    "X_train_scaled = pd.DataFrame(scaler.fit_transform(X_train), columns=feature_names, index=X_train.index)\n",
    "X_test_scaled = pd.DataFrame(scaler.transform(X_test), columns=feature_names, index=X_test.index)\n",
    "\n",
    "# Define Decision Tree Model\n",
    "dt_model = DecisionTreeClassifier(criterion='gini', random_state=42)\n",
    "\n",
    "# Train Model\n",
    "dt_model.fit(X_train_scaled, y_train)\n",
    "\n",
    "# Compute Predictions\n",
    "y_pred = dt_model.predict(X_test_scaled)\n",
    "\n",
    "# Validate Hyperparameters using GridSearchCV\n",
    "param_grid = {\n",
    "    'max_depth': [3, 5, 10, None],\n",
    "    'min_samples_split': [2, 5, 10],\n",
    "    'min_samples_leaf': [1, 3, 5]\n",
    "}\n",
    "grid_search = GridSearchCV(DecisionTreeClassifier(criterion='gini', random_state=42),\n",
    "                           param_grid, cv=5, scoring='accuracy', n_jobs=-1)\n",
    "grid_search.fit(X_train_scaled, y_train)\n",
    "\n",
    "# Get best model from Grid Search\n",
    "best_model = grid_search.best_estimator_\n",
    "\n",
    "# Evaluate Model\n",
    "print(f\"Best Model Parameters: {grid_search.best_params_}\")\n",
    "print(f\"Accuracy: {accuracy_score(y_test, y_pred):.4f}\")\n",
    "print(classification_report(y_test, y_pred, zero_division=1))\n",
    "\n",
    "# Predict New Data\n",
    "new_data = pd.DataFrame([[0.6, 0.8, 0.4]], columns=feature_names)  # Keep DataFrame structure\n",
    "new_data_scaled = pd.DataFrame(scaler.transform(new_data), columns=feature_names)  # Ensure feature names\n",
    "new_prediction = best_model.predict(new_data_scaled)\n",
    "new_probability = best_model.predict_proba(new_data_scaled)[:, 1]\n",
    "\n",
    "print(f\"Prediction for New Data: Class = {new_prediction[0]}, Probability = {new_probability[0]:.4f}\")"
   ]
  }
 ],
 "metadata": {
  "kernelspec": {
   "display_name": "Python 3",
   "language": "python",
   "name": "python3"
  },
  "language_info": {
   "codemirror_mode": {
    "name": "ipython",
    "version": 3
   },
   "file_extension": ".py",
   "mimetype": "text/x-python",
   "name": "python",
   "nbconvert_exporter": "python",
   "pygments_lexer": "ipython3",
   "version": "3.13.0"
  }
 },
 "nbformat": 4,
 "nbformat_minor": 2
}
