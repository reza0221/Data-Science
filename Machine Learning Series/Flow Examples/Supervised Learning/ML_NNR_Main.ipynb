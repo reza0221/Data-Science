{
 "cells": [
  {
   "cell_type": "code",
   "execution_count": 1,
   "metadata": {},
   "outputs": [],
   "source": [
    "import numpy as np\n",
    "import torch\n",
    "import torch.nn as nn\n",
    "import torch.optim as optim\n",
    "from sklearn.model_selection import train_test_split\n",
    "from sklearn.preprocessing import StandardScaler\n",
    "from sklearn.metrics import mean_squared_error"
   ]
  },
  {
   "cell_type": "code",
   "execution_count": 2,
   "metadata": {},
   "outputs": [],
   "source": [
    "# Step 1: Generate Random Data (Features & Target)\n",
    "n_samples = 1000\n",
    "n_features = 10\n",
    "X = np.random.rand(n_samples, n_features) * 100\n",
    "y = np.random.rand(n_samples) * 100"
   ]
  },
  {
   "cell_type": "code",
   "execution_count": 3,
   "metadata": {},
   "outputs": [],
   "source": [
    "# Step 2: Preprocessing (Scaling Features)\n",
    "scaler = StandardScaler()\n",
    "X_scaled = scaler.fit_transform(X)"
   ]
  },
  {
   "cell_type": "code",
   "execution_count": 4,
   "metadata": {},
   "outputs": [],
   "source": [
    "# Step 3: Train-Test Split\n",
    "X_train, X_test, y_train, y_test = train_test_split(X_scaled, y, test_size=0.2, random_state=42)"
   ]
  },
  {
   "cell_type": "code",
   "execution_count": 5,
   "metadata": {},
   "outputs": [],
   "source": [
    "# Convert Data to PyTorch Tensors\n",
    "X_train_tensor = torch.tensor(X_train, dtype=torch.float32)\n",
    "X_test_tensor = torch.tensor(X_test, dtype=torch.float32)\n",
    "y_train_tensor = torch.tensor(y_train, dtype=torch.float32).view(-1, 1)\n",
    "y_test_tensor = torch.tensor(y_test, dtype=torch.float32).view(-1, 1)"
   ]
  },
  {
   "cell_type": "code",
   "execution_count": 7,
   "metadata": {},
   "outputs": [],
   "source": [
    "# Step 4: Define Neural Network Model\n",
    "class NeuralNetwork(nn.Module):\n",
    "    def __init__(self, input_size):\n",
    "        super(NeuralNetwork, self).__init__()\n",
    "        self.hidden1 = nn.Linear(input_size, 64)\n",
    "        self.hidden2 = nn.Linear(64, 32)\n",
    "        self.output = nn.Linear(32, 1)\n",
    "        self.relu = nn.ReLU()\n",
    "    \n",
    "    def forward(self, x):\n",
    "        x = self.relu(self.hidden1(x))\n",
    "        x = self.relu(self.hidden2(x))\n",
    "        x = self.output(x)\n",
    "        return x\n",
    "\n",
    "# Initialize Model\n",
    "model = NeuralNetwork(n_features)\n",
    "criterion = nn.MSELoss()\n",
    "optimizer = optim.Adam(model.parameters(), lr=0.01)"
   ]
  },
  {
   "cell_type": "code",
   "execution_count": 8,
   "metadata": {},
   "outputs": [
    {
     "name": "stdout",
     "output_type": "stream",
     "text": [
      "Epoch 0/100, Loss: 3249.8418\n",
      "Epoch 10/100, Loss: 2651.5984\n",
      "Epoch 20/100, Loss: 1146.8143\n",
      "Epoch 30/100, Loss: 1024.2654\n",
      "Epoch 40/100, Loss: 837.6908\n",
      "Epoch 50/100, Loss: 796.8106\n",
      "Epoch 60/100, Loss: 783.3242\n",
      "Epoch 70/100, Loss: 768.8737\n",
      "Epoch 80/100, Loss: 758.7731\n",
      "Epoch 90/100, Loss: 752.3536\n"
     ]
    }
   ],
   "source": [
    "# Step 5-9: Training Loop (Forward Pass, Compute Loss, Backpropagation, Update Weights)\n",
    "n_epochs = 100\n",
    "for epoch in range(n_epochs):\n",
    "    model.train()\n",
    "    optimizer.zero_grad()\n",
    "    predictions = model(X_train_tensor)  # Forward Pass\n",
    "    loss = criterion(predictions, y_train_tensor)  # Compute Loss\n",
    "    loss.backward()  # Backpropagation\n",
    "    optimizer.step()  # Update Weights\n",
    "    if epoch % 10 == 0:\n",
    "        print(f\"Epoch {epoch}/{n_epochs}, Loss: {loss.item():.4f}\")"
   ]
  },
  {
   "cell_type": "code",
   "execution_count": 9,
   "metadata": {},
   "outputs": [
    {
     "name": "stdout",
     "output_type": "stream",
     "text": [
      "Test MSE: 812.9775\n"
     ]
    }
   ],
   "source": [
    "# Step 10: Validate Hyperparameters (Evaluation on Test Set)\n",
    "model.eval()\n",
    "y_pred_tensor = model(X_test_tensor)\n",
    "y_pred = y_pred_tensor.detach().numpy()\n",
    "mse = mean_squared_error(y_test, y_pred)\n",
    "print(f\"Test MSE: {mse:.4f}\")"
   ]
  },
  {
   "cell_type": "code",
   "execution_count": 10,
   "metadata": {},
   "outputs": [
    {
     "name": "stdout",
     "output_type": "stream",
     "text": [
      "Predicted value for new data: 53.8058\n"
     ]
    }
   ],
   "source": [
    "# Step 11: Predict New Data\n",
    "new_data = np.random.rand(1, n_features) * 100\n",
    "new_data_scaled = scaler.transform(new_data)\n",
    "new_data_tensor = torch.tensor(new_data_scaled, dtype=torch.float32)\n",
    "new_prediction = model(new_data_tensor).detach().numpy()\n",
    "print(f\"Predicted value for new data: {new_prediction[0][0]:.4f}\")"
   ]
  }
 ],
 "metadata": {
  "kernelspec": {
   "display_name": "Python 3",
   "language": "python",
   "name": "python3"
  },
  "language_info": {
   "codemirror_mode": {
    "name": "ipython",
    "version": 3
   },
   "file_extension": ".py",
   "mimetype": "text/x-python",
   "name": "python",
   "nbconvert_exporter": "python",
   "pygments_lexer": "ipython3",
   "version": "3.13.0"
  }
 },
 "nbformat": 4,
 "nbformat_minor": 2
}
