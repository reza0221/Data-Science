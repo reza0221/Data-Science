{
 "cells": [
  {
   "cell_type": "code",
   "execution_count": 15,
   "metadata": {},
   "outputs": [],
   "source": [
    "import numpy as np\n",
    "import pandas as pd\n",
    "import statsmodels.api as sm\n",
    "from sklearn.model_selection import train_test_split\n",
    "from sklearn.preprocessing import StandardScaler\n",
    "from sklearn.metrics import mean_absolute_error"
   ]
  },
  {
   "cell_type": "code",
   "execution_count": 18,
   "metadata": {},
   "outputs": [
    {
     "name": "stdout",
     "output_type": "stream",
     "text": [
      "Predictions for new data (Feature=5.5):\n",
      "Quantile 0.25: 9.3952\n",
      "Quantile 0.5: 10.9006\n",
      "Quantile 0.75: 11.8257\n"
     ]
    }
   ],
   "source": [
    "# Generate synthetic data\n",
    "np.random.seed(42)\n",
    "X = np.random.rand(100, 1) * 10  # Feature\n",
    "y = 2 * X.squeeze() + np.random.randn(100) * 2  # Target with noise\n",
    "\n",
    "# Split data\n",
    "X_train, X_test, y_train, y_test = train_test_split(X, y, test_size=0.2, random_state=42)\n",
    "\n",
    "# Scale features\n",
    "scaler = StandardScaler()\n",
    "X_train_scaled = scaler.fit_transform(X_train)\n",
    "X_test_scaled = scaler.transform(X_test)\n",
    "\n",
    "# Add constant term for intercept\n",
    "X_train_with_const = sm.add_constant(X_train_scaled)\n",
    "X_test_with_const = sm.add_constant(X_test_scaled)\n",
    "\n",
    "# Define quantiles\n",
    "quantiles = [0.25, 0.5, 0.75]\n",
    "\n",
    "# Train quantile regression models\n",
    "models = {}\n",
    "for q in quantiles:\n",
    "    model = sm.QuantReg(y_train, X_train_with_const).fit(q=q)\n",
    "    models[q] = model\n",
    "\n",
    "# Make predictions on test set\n",
    "predictions = {q: models[q].predict(X_test_with_const) for q in quantiles}\n",
    "\n",
    "# Predict for new data\n",
    "new_X = np.array([[5.5]])  # Example new input\n",
    "new_X_scaled = scaler.transform(new_X)\n",
    "\n",
    "# Fix: Ensure new input has the same structure as training data\n",
    "new_X_with_const = sm.add_constant(new_X_scaled, has_constant='add')\n",
    "\n",
    "# Predict new values\n",
    "new_predictions = {q: models[q].predict(new_X_with_const)[0] for q in quantiles}\n",
    "\n",
    "print(\"Predictions for new data (Feature=5.5):\")\n",
    "for q in quantiles:\n",
    "    print(f\"Quantile {q}: {new_predictions[q]:.4f}\")"
   ]
  }
 ],
 "metadata": {
  "kernelspec": {
   "display_name": "Python 3",
   "language": "python",
   "name": "python3"
  },
  "language_info": {
   "codemirror_mode": {
    "name": "ipython",
    "version": 3
   },
   "file_extension": ".py",
   "mimetype": "text/x-python",
   "name": "python",
   "nbconvert_exporter": "python",
   "pygments_lexer": "ipython3",
   "version": "3.13.0"
  }
 },
 "nbformat": 4,
 "nbformat_minor": 2
}
