{
 "cells": [
  {
   "cell_type": "code",
   "execution_count": 1,
   "metadata": {},
   "outputs": [
    {
     "name": "stdout",
     "output_type": "stream",
     "text": [
      "Test MSE: 9.6383\n",
      "Test R²: 0.9276\n",
      "Prediction: [13.9369028]\n"
     ]
    }
   ],
   "source": [
    "import numpy as np\n",
    "from sklearn.model_selection import train_test_split\n",
    "from sklearn.ensemble import RandomForestRegressor\n",
    "from sklearn.metrics import mean_squared_error, r2_score\n",
    "\n",
    "# 1. Generate Synthetic Data\n",
    "np.random.seed(42)\n",
    "m = 1000  # Number of samples\n",
    "X = np.random.rand(m, 3) * 10  # 3 features\n",
    "y = 2 * X[:, 0] + 3 * X[:, 1] - 1.5 * X[:, 2] + np.random.randn(m)  # Linear relationship with noise\n",
    "\n",
    "# 2. Train-Test Split\n",
    "X_train, X_test, y_train, y_test = train_test_split(X, y, test_size=0.2, random_state=42)\n",
    "\n",
    "# 3. Initialize Model\n",
    "rf_model = RandomForestRegressor(\n",
    "    n_estimators=100,  # Number of trees\n",
    "    max_depth=5,       # Maximum tree depth\n",
    "    max_features=\"sqrt\",  # Features per split\n",
    "    random_state=42\n",
    ")\n",
    "\n",
    "# 4. Train Model (Bootstrap Sampling + Feature Subsetting)\n",
    "rf_model.fit(X_train, y_train)\n",
    "\n",
    "# 5. Evaluate\n",
    "y_pred = rf_model.predict(X_test)\n",
    "print(f\"Test MSE: {mean_squared_error(y_test, y_pred):.4f}\")\n",
    "print(f\"Test R²: {r2_score(y_test, y_pred):.4f}\")\n",
    "\n",
    "# 6. Predict New Data\n",
    "new_data = np.array([[5, 3, 2]])\n",
    "prediction = rf_model.predict(new_data)\n",
    "print(f\"Prediction: {prediction}\")"
   ]
  }
 ],
 "metadata": {
  "kernelspec": {
   "display_name": "Python 3",
   "language": "python",
   "name": "python3"
  },
  "language_info": {
   "codemirror_mode": {
    "name": "ipython",
    "version": 3
   },
   "file_extension": ".py",
   "mimetype": "text/x-python",
   "name": "python",
   "nbconvert_exporter": "python",
   "pygments_lexer": "ipython3",
   "version": "3.13.0"
  }
 },
 "nbformat": 4,
 "nbformat_minor": 2
}
