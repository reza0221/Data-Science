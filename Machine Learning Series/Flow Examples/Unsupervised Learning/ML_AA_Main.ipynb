{
 "cells": [
  {
   "cell_type": "code",
   "execution_count": 3,
   "metadata": {},
   "outputs": [],
   "source": [
    "import numpy as np\n",
    "import pandas as pd\n",
    "from mlxtend.frequent_patterns import apriori, association_rules\n",
    "from sklearn.model_selection import train_test_split"
   ]
  },
  {
   "cell_type": "code",
   "execution_count": 27,
   "metadata": {},
   "outputs": [],
   "source": [
    "# Step 1: Generate Random Transaction Data\n",
    "np.random.seed(42)\n",
    "n_transactions = 100\n",
    "n_items = 10\n",
    "\n",
    "# Create a random binary transaction dataset (1 = item bought, 0 = not bought)\n",
    "data = np.random.choice([0, 1], size=(n_transactions, n_items), p=[0.8, 0.2])\n",
    "columns = [f\"Item_{i+1}\" for i in range(n_items)]\n",
    "df = pd.DataFrame(data, columns=columns)\n",
    "\n",
    "# Step 2: Preprocessing\n",
    "# Ensure the dataset is in a format suitable for Apriori (Boolean values)\n",
    "df = df.astype(bool)\n",
    "\n",
    "# Step 3: Train-Test Split\n",
    "train_data, test_data = train_test_split(df, test_size=0.2, random_state=42)\n",
    "\n",
    "# Step 4: Train Base Model (Apriori Algorithm)\n",
    "min_support = 0.1  # Lower support threshold to increase rule generation\n",
    "frequent_itemsets = apriori(train_data, min_support=min_support, use_colnames=True)\n",
    "\n",
    "if not frequent_itemsets.empty:\n",
    "    rules = association_rules(frequent_itemsets, metric=\"confidence\", min_threshold=0.3)  # Lower confidence threshold\n",
    "else:\n",
    "    rules = pd.DataFrame()"
   ]
  },
  {
   "cell_type": "code",
   "execution_count": 30,
   "metadata": {},
   "outputs": [
    {
     "name": "stdout",
     "output_type": "stream",
     "text": [
      "Generated Association Rules:\n",
      "  antecedents consequents  support  confidence     lift\n",
      "0    (Item_9)    (Item_6)      0.1    0.380952  1.60401\n",
      "1    (Item_6)    (Item_9)      0.1    0.421053  1.60401\n"
     ]
    }
   ],
   "source": [
    "# Step 5: Evaluate Model (Basic Analysis)\n",
    "if not rules.empty:\n",
    "    print(\"Generated Association Rules:\")\n",
    "    print(rules[['antecedents', 'consequents', 'support', 'confidence', 'lift']])\n",
    "else:\n",
    "    print(\"No association rules generated. Try lowering the min_support or min_threshold.\")"
   ]
  },
  {
   "cell_type": "code",
   "execution_count": 31,
   "metadata": {},
   "outputs": [
    {
     "name": "stdout",
     "output_type": "stream",
     "text": [
      "Predicted Associations for New Transaction:\n",
      "  antecedents consequents  confidence     lift\n",
      "0    (Item_9)    (Item_6)    0.380952  1.60401\n",
      "1    (Item_6)    (Item_9)    0.421053  1.60401\n"
     ]
    }
   ],
   "source": [
    "# Step 6: Predict New Data\n",
    "new_transaction = np.random.choice([0, 1], size=(1, n_items), p=[0.8, 0.2])\n",
    "new_transaction_df = pd.DataFrame(new_transaction, columns=columns).astype(bool)\n",
    "\n",
    "if not rules.empty:\n",
    "    # Find matching rules for the new transaction\n",
    "    matching_rules = rules[rules['antecedents'].apply(lambda x: set(x).issubset(set(new_transaction_df.columns[new_transaction[0] == 1])))]\n",
    "    \n",
    "    if not matching_rules.empty:\n",
    "        print(\"Predicted Associations for New Transaction:\")\n",
    "        print(matching_rules[['antecedents', 'consequents', 'confidence', 'lift']])\n",
    "    else:\n",
    "        print(\"No association rules available for prediction.\")\n",
    "else:\n",
    "    print(\"No rules to apply for prediction.\")"
   ]
  }
 ],
 "metadata": {
  "kernelspec": {
   "display_name": "Python 3",
   "language": "python",
   "name": "python3"
  },
  "language_info": {
   "codemirror_mode": {
    "name": "ipython",
    "version": 3
   },
   "file_extension": ".py",
   "mimetype": "text/x-python",
   "name": "python",
   "nbconvert_exporter": "python",
   "pygments_lexer": "ipython3",
   "version": "3.13.0"
  }
 },
 "nbformat": 4,
 "nbformat_minor": 2
}
