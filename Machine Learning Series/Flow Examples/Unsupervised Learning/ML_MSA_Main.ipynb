{
 "cells": [
  {
   "cell_type": "code",
   "execution_count": null,
   "metadata": {},
   "outputs": [],
   "source": [
    "import numpy as np\n",
    "import pandas as pd\n",
    "from sklearn.model_selection import train_test_split\n",
    "from sklearn.preprocessing import StandardScaler\n",
    "from sklearn.cluster import MeanShift, estimate_bandwidth\n",
    "from sklearn.metrics import silhouette_score"
   ]
  },
  {
   "cell_type": "code",
   "execution_count": 4,
   "metadata": {},
   "outputs": [],
   "source": [
    "# Step 1: Generate Random Data\n",
    "def generate_data(n_samples=300, n_features=2):\n",
    "    np.random.seed(42)\n",
    "    data = np.random.rand(n_samples, n_features)\n",
    "    return data\n",
    "\n",
    "# Step 2: Preprocessing\n",
    "def preprocess_data(data):\n",
    "    scaler = StandardScaler()\n",
    "    scaled_data = scaler.fit_transform(data)\n",
    "    return scaled_data, scaler\n",
    "\n",
    "# Step 3: Train-Test Split\n",
    "def split_data(data, test_size=0.2):\n",
    "    train_data, test_data = train_test_split(data, test_size=test_size, random_state=42)\n",
    "    return train_data, test_data\n",
    "\n",
    "# Step 4: Train Base Model (Mean Shift)\n",
    "def train_meanshift(train_data):\n",
    "    bandwidth = estimate_bandwidth(train_data, quantile=0.2, n_samples=100)\n",
    "    model = MeanShift(bandwidth=bandwidth)\n",
    "    model.fit(train_data)\n",
    "    return model\n",
    "\n",
    "# Step 5: Evaluate Model (Fixed: Use Training Data)\n",
    "def evaluate_model(model, train_data):\n",
    "    labels = model.labels_\n",
    "    silhouette = silhouette_score(train_data, labels)\n",
    "    return labels, silhouette\n",
    "\n",
    "# Step 6: Predict New Data\n",
    "def predict_new_data(model, scaler, n_samples=5):\n",
    "    new_data = np.random.rand(n_samples, 2)  # Generate random new data\n",
    "    new_data_scaled = scaler.transform(new_data)\n",
    "\n",
    "    # Assign to nearest cluster center\n",
    "    cluster_centers = model.cluster_centers_\n",
    "    distances = np.linalg.norm(new_data_scaled[:, np.newaxis] - cluster_centers, axis=2)\n",
    "    predictions = np.argmin(distances, axis=1)\n",
    "\n",
    "    return new_data, predictions"
   ]
  },
  {
   "cell_type": "code",
   "execution_count": 5,
   "metadata": {},
   "outputs": [
    {
     "name": "stdout",
     "output_type": "stream",
     "text": [
      "Number of clusters found: 4\n",
      "Silhouette Score: 0.4127\n",
      "New Data Predictions: [3 3 3 3 1]\n"
     ]
    }
   ],
   "source": [
    "# Run the Workflow\n",
    "data = generate_data()\n",
    "scaled_data, scaler = preprocess_data(data)\n",
    "train_data, test_data = split_data(scaled_data)\n",
    "\n",
    "model = train_meanshift(train_data)\n",
    "labels, silhouette = evaluate_model(model, train_data)  # FIXED: Use train_data\n",
    "\n",
    "new_data, predictions = predict_new_data(model, scaler)\n",
    "\n",
    "# Print Results\n",
    "print(f\"Number of clusters found: {len(np.unique(labels))}\")\n",
    "print(f\"Silhouette Score: {silhouette:.4f}\")\n",
    "print(f\"New Data Predictions: {predictions}\")"
   ]
  }
 ],
 "metadata": {
  "kernelspec": {
   "display_name": "Python 3",
   "language": "python",
   "name": "python3"
  },
  "language_info": {
   "codemirror_mode": {
    "name": "ipython",
    "version": 3
   },
   "file_extension": ".py",
   "mimetype": "text/x-python",
   "name": "python",
   "nbconvert_exporter": "python",
   "pygments_lexer": "ipython3",
   "version": "3.13.0"
  }
 },
 "nbformat": 4,
 "nbformat_minor": 2
}
