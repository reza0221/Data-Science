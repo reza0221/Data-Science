{
 "cells": [
  {
   "cell_type": "code",
   "execution_count": 1,
   "metadata": {},
   "outputs": [],
   "source": [
    "import numpy as np\n",
    "import pandas as pd\n",
    "from sklearn.decomposition import NMF\n",
    "from sklearn.model_selection import train_test_split\n",
    "from sklearn.metrics import mean_squared_error"
   ]
  },
  {
   "cell_type": "code",
   "execution_count": 2,
   "metadata": {},
   "outputs": [],
   "source": [
    "# Step 1: Generate Random Data (Ensure Non-Negativity)\n",
    "n_samples = 100\n",
    "n_features = 10\n",
    "np.random.seed(42)\n",
    "data = np.abs(np.random.rand(n_samples, n_features))  # Ensuring non-negativity"
   ]
  },
  {
   "cell_type": "code",
   "execution_count": 3,
   "metadata": {},
   "outputs": [],
   "source": [
    "# Step 2: Preprocessing (Convert to DataFrame for Better Handling)\n",
    "df = pd.DataFrame(data, columns=[f\"Feature_{i+1}\" for i in range(n_features)])"
   ]
  },
  {
   "cell_type": "code",
   "execution_count": 4,
   "metadata": {},
   "outputs": [],
   "source": [
    "# Step 3: Train-Test Split\n",
    "train_data, test_data = train_test_split(df, test_size=0.2, random_state=42)"
   ]
  },
  {
   "cell_type": "code",
   "execution_count": 6,
   "metadata": {},
   "outputs": [],
   "source": [
    "# Step 4: Train Base Model (NMF)\n",
    "n_components = 5  # Number of latent features\n",
    "nmf_model = NMF(n_components=n_components, random_state=42, max_iter=500)\n",
    "W_train = nmf_model.fit_transform(train_data)  # Basis matrix\n",
    "H_train = nmf_model.components_  # Coefficients matrix"
   ]
  },
  {
   "cell_type": "code",
   "execution_count": 7,
   "metadata": {},
   "outputs": [
    {
     "name": "stdout",
     "output_type": "stream",
     "text": [
      "Reconstruction Error (MSE) on Test Data: 0.0452\n"
     ]
    }
   ],
   "source": [
    "# Step 5: Evaluate Model (Reconstruction Error on Test Data)\n",
    "W_test = nmf_model.transform(test_data)  # Transform test data using trained model\n",
    "reconstructed_test = np.dot(W_test, H_train)\n",
    "mse = mean_squared_error(test_data, reconstructed_test)\n",
    "print(f\"Reconstruction Error (MSE) on Test Data: {mse:.4f}\")"
   ]
  },
  {
   "cell_type": "code",
   "execution_count": 9,
   "metadata": {},
   "outputs": [
    {
     "name": "stdout",
     "output_type": "stream",
     "text": [
      "Reduced Representation of New Data:\n",
      "[[0.18825707 0.15839042 0.1362408  0.33246978 0.16303581]]\n"
     ]
    }
   ],
   "source": [
    "# Step 6: Predict New Data (Simulating New Data)\n",
    "new_data_df = pd.DataFrame(new_data, columns=train_data.columns)\n",
    "new_W = nmf_model.transform(new_data_df)\n",
    "reduced_representation = new_W\n",
    "print(\"Reduced Representation of New Data:\")\n",
    "print(reduced_representation)"
   ]
  }
 ],
 "metadata": {
  "kernelspec": {
   "display_name": "Python 3",
   "language": "python",
   "name": "python3"
  },
  "language_info": {
   "codemirror_mode": {
    "name": "ipython",
    "version": 3
   },
   "file_extension": ".py",
   "mimetype": "text/x-python",
   "name": "python",
   "nbconvert_exporter": "python",
   "pygments_lexer": "ipython3",
   "version": "3.13.0"
  }
 },
 "nbformat": 4,
 "nbformat_minor": 2
}
