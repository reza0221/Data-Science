{
 "cells": [
  {
   "cell_type": "code",
   "execution_count": 1,
   "metadata": {},
   "outputs": [],
   "source": [
    "import numpy as np\n",
    "import pandas as pd\n",
    "from sklearn.preprocessing import StandardScaler\n",
    "from sklearn.decomposition import PCA\n",
    "from sklearn.model_selection import train_test_split"
   ]
  },
  {
   "cell_type": "code",
   "execution_count": 2,
   "metadata": {},
   "outputs": [
    {
     "name": "stdout",
     "output_type": "stream",
     "text": [
      "Sample Data:\n",
      "    feature_1  feature_2  feature_3  feature_4  feature_5\n",
      "0   0.374540   0.950714   0.731994   0.598658   0.156019\n",
      "1   0.155995   0.058084   0.866176   0.601115   0.708073\n",
      "2   0.020584   0.969910   0.832443   0.212339   0.181825\n",
      "3   0.183405   0.304242   0.524756   0.431945   0.291229\n",
      "4   0.611853   0.139494   0.292145   0.366362   0.456070\n"
     ]
    }
   ],
   "source": [
    "# 1. Data: Generate random data\n",
    "# --------------------------\n",
    "np.random.seed(42)\n",
    "# Create a dataset with 100 samples and 5 features\n",
    "data = np.random.rand(100, 5)\n",
    "df = pd.DataFrame(data, columns=[f\"feature_{i}\" for i in range(1, 6)])\n",
    "print(\"Sample Data:\\n\", df.head())"
   ]
  },
  {
   "cell_type": "code",
   "execution_count": 3,
   "metadata": {},
   "outputs": [],
   "source": [
    "# 2. Preprocessing: Standardize the data\n",
    "# --------------------------\n",
    "scaler = StandardScaler()\n",
    "scaled_data = scaler.fit_transform(df)"
   ]
  },
  {
   "cell_type": "code",
   "execution_count": 4,
   "metadata": {},
   "outputs": [
    {
     "name": "stdout",
     "output_type": "stream",
     "text": [
      "\n",
      "Train set shape: (80, 5)\n",
      "Test set shape: (20, 5)\n"
     ]
    }
   ],
   "source": [
    "# 3. Train-Test Split: Split the data into training and testing sets\n",
    "# --------------------------\n",
    "X_train, X_test = train_test_split(scaled_data, test_size=0.2, random_state=42)\n",
    "print(\"\\nTrain set shape:\", X_train.shape)\n",
    "print(\"Test set shape:\", X_test.shape)"
   ]
  },
  {
   "cell_type": "code",
   "execution_count": 5,
   "metadata": {},
   "outputs": [
    {
     "name": "stdout",
     "output_type": "stream",
     "text": [
      "\n",
      "Explained Variance Ratio: [0.28687079 0.22520992]\n"
     ]
    }
   ],
   "source": [
    "# 4. Train Base Model (PCA): Fit PCA on the training data\n",
    "# --------------------------\n",
    "# Let's reduce to 2 principal components\n",
    "n_components = 2\n",
    "pca = PCA(n_components=n_components)\n",
    "X_train_pca = pca.fit_transform(X_train)\n",
    "print(\"\\nExplained Variance Ratio:\", pca.explained_variance_ratio_)"
   ]
  },
  {
   "cell_type": "code",
   "execution_count": 6,
   "metadata": {},
   "outputs": [
    {
     "name": "stdout",
     "output_type": "stream",
     "text": [
      "\n",
      "Reconstruction Error on Test Set: 0.43472748733459565\n"
     ]
    }
   ],
   "source": [
    "# 5. Evaluate: Transform test data and calculate reconstruction error\n",
    "# --------------------------\n",
    "X_test_pca = pca.transform(X_test)\n",
    "# Reconstruct the test data from the PCA components\n",
    "X_test_reconstructed = pca.inverse_transform(X_test_pca)\n",
    "# Compute the mean squared reconstruction error\n",
    "reconstruction_error = np.mean((X_test - X_test_reconstructed) ** 2)\n",
    "print(\"\\nReconstruction Error on Test Set:\", reconstruction_error)"
   ]
  },
  {
   "cell_type": "code",
   "execution_count": 8,
   "metadata": {},
   "outputs": [
    {
     "name": "stdout",
     "output_type": "stream",
     "text": [
      "\n",
      "New Data (PCA-transformed):\n",
      " [[ 1.38263021  0.31812199]\n",
      " [-0.39891812  1.97544428]\n",
      " [-0.21922292 -0.47125882]\n",
      " [-0.50097225  0.90058394]\n",
      " [ 0.51726726  1.51414827]]\n"
     ]
    }
   ],
   "source": [
    "# 6. Predict New Data: Apply PCA to new random data\n",
    "# --------------------------\n",
    "# Create the new data as a DataFrame with the same feature names as the original data\n",
    "new_data_df = pd.DataFrame(new_data, columns=[f\"feature_{i}\" for i in range(1, 6)])\n",
    "# Standardize the new data\n",
    "new_data_scaled = scaler.transform(new_data_df)\n",
    "# Apply PCA transformation\n",
    "new_data_pca = pca.transform(new_data_scaled)\n",
    "print(\"\\nNew Data (PCA-transformed):\\n\", new_data_pca)"
   ]
  }
 ],
 "metadata": {
  "kernelspec": {
   "display_name": "Python 3",
   "language": "python",
   "name": "python3"
  },
  "language_info": {
   "codemirror_mode": {
    "name": "ipython",
    "version": 3
   },
   "file_extension": ".py",
   "mimetype": "text/x-python",
   "name": "python",
   "nbconvert_exporter": "python",
   "pygments_lexer": "ipython3",
   "version": "3.13.0"
  }
 },
 "nbformat": 4,
 "nbformat_minor": 2
}
