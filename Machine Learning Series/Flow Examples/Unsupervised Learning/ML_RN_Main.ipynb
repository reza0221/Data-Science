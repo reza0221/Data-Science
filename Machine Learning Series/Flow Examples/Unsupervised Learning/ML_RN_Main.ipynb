{
 "cells": [
  {
   "cell_type": "code",
   "execution_count": 1,
   "metadata": {},
   "outputs": [],
   "source": [
    "import numpy as np\n",
    "import torch\n",
    "import torch.nn as nn\n",
    "import torch.optim as optim\n",
    "import torch.nn.functional as F\n",
    "from torch.utils.data import DataLoader, TensorDataset, random_split"
   ]
  },
  {
   "cell_type": "code",
   "execution_count": 2,
   "metadata": {},
   "outputs": [],
   "source": [
    "# Step 1: Generate Random Data (Simulating Image Data)\n",
    "def generate_dummy_data(num_samples=1000, img_size=(32, 32, 3)):\n",
    "    images = np.random.rand(num_samples, *img_size).astype(np.float32)  # Random images\n",
    "    labels = np.random.choice([0, 1, 2, 3], num_samples)  # Random rotation labels (0°, 90°, 180°, 270°)\n",
    "    return images, labels\n",
    "\n",
    "# Step 2: Preprocessing\n",
    "def preprocess_data(images, labels):\n",
    "    images = images / 255.0  # Normalize pixel values\n",
    "    images = np.transpose(images, (0, 3, 1, 2))  # Convert to PyTorch format (C, H, W)\n",
    "    labels = torch.tensor(labels, dtype=torch.long)\n",
    "    images = torch.tensor(images, dtype=torch.float32)\n",
    "    return images, labels\n",
    "\n",
    "# Step 3: Train-Test Split\n",
    "images, labels = generate_dummy_data()\n",
    "images, labels = preprocess_data(images, labels)\n",
    "dataset = TensorDataset(images, labels)\n",
    "train_size = int(0.8 * len(dataset))\n",
    "test_size = len(dataset) - train_size\n",
    "train_dataset, test_dataset = random_split(dataset, [train_size, test_size])\n",
    "train_loader = DataLoader(train_dataset, batch_size=32, shuffle=True)\n",
    "test_loader = DataLoader(test_dataset, batch_size=32, shuffle=False)"
   ]
  },
  {
   "cell_type": "code",
   "execution_count": 3,
   "metadata": {},
   "outputs": [],
   "source": [
    "# Step 4: Define Base Model (CNN for Rotation Prediction)\n",
    "class RotNet(nn.Module):\n",
    "    def __init__(self):\n",
    "        super(RotNet, self).__init__()\n",
    "        self.conv1 = nn.Conv2d(3, 32, kernel_size=3, padding=1)\n",
    "        self.conv2 = nn.Conv2d(32, 64, kernel_size=3, padding=1)\n",
    "        self.pool = nn.MaxPool2d(2, 2)\n",
    "        self.fc1 = nn.Linear(64 * 8 * 8, 128)\n",
    "        self.fc2 = nn.Linear(128, 4)  # 4 classes for rotations\n",
    "\n",
    "    def forward(self, x):\n",
    "        x = self.pool(F.relu(self.conv1(x)))\n",
    "        x = self.pool(F.relu(self.conv2(x)))\n",
    "        x = x.view(x.size(0), -1)\n",
    "        x = F.relu(self.fc1(x))\n",
    "        x = self.fc2(x)\n",
    "        return x"
   ]
  },
  {
   "cell_type": "code",
   "execution_count": 4,
   "metadata": {},
   "outputs": [
    {
     "name": "stdout",
     "output_type": "stream",
     "text": [
      "Epoch 1, Loss: 1.3866, Accuracy: 25.12%\n",
      "Epoch 2, Loss: 1.3846, Accuracy: 27.12%\n",
      "Epoch 3, Loss: 1.3842, Accuracy: 27.12%\n",
      "Epoch 4, Loss: 1.3844, Accuracy: 27.12%\n",
      "Epoch 5, Loss: 1.3844, Accuracy: 27.12%\n"
     ]
    }
   ],
   "source": [
    "# Step 5: Train Base Model\n",
    "device = torch.device(\"cuda\" if torch.cuda.is_available() else \"cpu\")\n",
    "model = RotNet().to(device)\n",
    "criterion = nn.CrossEntropyLoss()\n",
    "optimizer = optim.Adam(model.parameters(), lr=0.001)\n",
    "\n",
    "def train_model(model, train_loader, criterion, optimizer, epochs=5):\n",
    "    model.train()\n",
    "    for epoch in range(epochs):\n",
    "        total_loss = 0\n",
    "        correct = 0\n",
    "        total = 0\n",
    "        for images, labels in train_loader:\n",
    "            images, labels = images.to(device), labels.to(device)\n",
    "            optimizer.zero_grad()\n",
    "            outputs = model(images)\n",
    "            loss = criterion(outputs, labels)\n",
    "            loss.backward()\n",
    "            optimizer.step()\n",
    "            total_loss += loss.item()\n",
    "            _, predicted = torch.max(outputs, 1)\n",
    "            correct += (predicted == labels).sum().item()\n",
    "            total += labels.size(0)\n",
    "        print(f\"Epoch {epoch+1}, Loss: {total_loss/len(train_loader):.4f}, Accuracy: {correct/total:.2%}\")\n",
    "\n",
    "train_model(model, train_loader, criterion, optimizer)"
   ]
  },
  {
   "cell_type": "code",
   "execution_count": 5,
   "metadata": {},
   "outputs": [
    {
     "name": "stdout",
     "output_type": "stream",
     "text": [
      "Test Accuracy: 26.50%\n"
     ]
    }
   ],
   "source": [
    "# Step 6: Evaluate Model\n",
    "def evaluate_model(model, test_loader):\n",
    "    model.eval()\n",
    "    correct = 0\n",
    "    total = 0\n",
    "    with torch.no_grad():\n",
    "        for images, labels in test_loader:\n",
    "            images, labels = images.to(device), labels.to(device)\n",
    "            outputs = model(images)\n",
    "            _, predicted = torch.max(outputs, 1)\n",
    "            correct += (predicted == labels).sum().item()\n",
    "            total += labels.size(0)\n",
    "    accuracy = correct / total\n",
    "    print(f\"Test Accuracy: {accuracy:.2%}\")\n",
    "\n",
    "evaluate_model(model, test_loader)"
   ]
  },
  {
   "cell_type": "code",
   "execution_count": 7,
   "metadata": {},
   "outputs": [
    {
     "name": "stdout",
     "output_type": "stream",
     "text": [
      "Predicted Rotation Labels: [2 2 2 2 2]\n"
     ]
    },
    {
     "data": {
      "text/plain": [
       "array([2, 2, 2, 2, 2])"
      ]
     },
     "execution_count": 7,
     "metadata": {},
     "output_type": "execute_result"
    }
   ],
   "source": [
    "# Step 7: Predict New Data\n",
    "def predict_new_data(model, num_samples=5, img_size=(32, 32, 3)):\n",
    "    model.eval()\n",
    "    new_images = np.random.rand(num_samples, *img_size).astype(np.float32) / 255.0  # Random new images\n",
    "    new_images = np.transpose(new_images, (0, 3, 1, 2))  # Convert to PyTorch format\n",
    "    new_images = torch.tensor(new_images, dtype=torch.float32).contiguous().to(device)  # Ensure contiguous memory\n",
    "    with torch.no_grad():\n",
    "        outputs = model(new_images)\n",
    "        predicted_labels = torch.argmax(outputs, dim=1).cpu().numpy()\n",
    "    print(\"Predicted Rotation Labels:\", predicted_labels)\n",
    "    return predicted_labels\n",
    "\n",
    "predict_new_data(model)"
   ]
  }
 ],
 "metadata": {
  "kernelspec": {
   "display_name": "Python 3",
   "language": "python",
   "name": "python3"
  },
  "language_info": {
   "codemirror_mode": {
    "name": "ipython",
    "version": 3
   },
   "file_extension": ".py",
   "mimetype": "text/x-python",
   "name": "python",
   "nbconvert_exporter": "python",
   "pygments_lexer": "ipython3",
   "version": "3.13.0"
  }
 },
 "nbformat": 4,
 "nbformat_minor": 2
}
