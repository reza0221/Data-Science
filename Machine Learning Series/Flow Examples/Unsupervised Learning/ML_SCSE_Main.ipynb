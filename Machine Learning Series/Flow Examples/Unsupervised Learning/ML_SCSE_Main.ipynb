{
 "cells": [
  {
   "cell_type": "code",
   "execution_count": 1,
   "metadata": {},
   "outputs": [],
   "source": [
    "import numpy as np\n",
    "import random\n",
    "from sklearn.model_selection import train_test_split\n",
    "from sklearn.metrics.pairwise import cosine_similarity"
   ]
  },
  {
   "cell_type": "code",
   "execution_count": 2,
   "metadata": {},
   "outputs": [],
   "source": [
    "# Step 1: Generate Random Data (Dummy Sentences)\n",
    "def generate_random_sentences(num_samples=100):\n",
    "    words = [\"apple\", \"banana\", \"cherry\", \"date\", \"elephant\", \"fish\", \"grape\", \"hat\", \"ice\", \"jungle\"]\n",
    "    sentences = [\" \".join(random.choices(words, k=random.randint(5, 10))) for _ in range(num_samples)]\n",
    "    return sentences\n",
    "\n",
    "# Step 2: Preprocessing (Convert Sentences to Random Vector Representations)\n",
    "def vectorize_sentences(sentences, embedding_dim=128):\n",
    "    return np.random.rand(len(sentences), embedding_dim)  # Generate random embeddings\n",
    "\n",
    "# Step 3: Train-Test Split\n",
    "def split_data(sentences, embeddings, test_size=0.2):\n",
    "    return train_test_split(sentences, embeddings, test_size=test_size, random_state=42)"
   ]
  },
  {
   "cell_type": "code",
   "execution_count": 3,
   "metadata": {},
   "outputs": [],
   "source": [
    "# Step 4: Train Base Model (Simulated Contrastive Learning)\n",
    "def contrastive_learning(train_embeddings, epochs=5):\n",
    "    for epoch in range(epochs):\n",
    "        loss = np.random.rand()  # Simulated loss\n",
    "        print(f\"Epoch {epoch+1}/{epochs} - Loss: {loss:.4f}\")\n",
    "    return np.mean(train_embeddings, axis=0)  # Simulated learned embedding representation\n",
    "\n",
    "# Step 5: Evaluate Model (Cosine Similarity on Test Set)\n",
    "def evaluate_model(test_embeddings):\n",
    "    similarity_matrix = cosine_similarity(test_embeddings)\n",
    "    avg_similarity = np.mean(similarity_matrix)\n",
    "    print(f\"Average Cosine Similarity on Test Data: {avg_similarity:.4f}\")\n",
    "    return similarity_matrix"
   ]
  },
  {
   "cell_type": "code",
   "execution_count": 4,
   "metadata": {},
   "outputs": [],
   "source": [
    "# Step 6: Predict New Data\n",
    "def predict_new_data(new_sentence, trained_representation):\n",
    "    new_embedding = np.random.rand(1, trained_representation.shape[0])  # Simulated embedding\n",
    "    similarity_score = cosine_similarity(new_embedding, trained_representation.reshape(1, -1))[0][0]\n",
    "    print(f\"Predicted Similarity Score: {similarity_score:.4f}\")\n",
    "    return similarity_score"
   ]
  },
  {
   "cell_type": "code",
   "execution_count": 5,
   "metadata": {},
   "outputs": [
    {
     "name": "stdout",
     "output_type": "stream",
     "text": [
      "Epoch 1/5 - Loss: 0.5528\n",
      "Epoch 2/5 - Loss: 0.0294\n",
      "Epoch 3/5 - Loss: 0.2817\n",
      "Epoch 4/5 - Loss: 0.4595\n",
      "Epoch 5/5 - Loss: 0.2247\n",
      "Average Cosine Similarity on Test Data: 0.7621\n",
      "Predicted Similarity Score: 0.8875\n"
     ]
    },
    {
     "data": {
      "text/plain": [
       "np.float64(0.8874771978954552)"
      ]
     },
     "execution_count": 5,
     "metadata": {},
     "output_type": "execute_result"
    }
   ],
   "source": [
    "# Main Flow Execution\n",
    "sentences = generate_random_sentences()\n",
    "embeddings = vectorize_sentences(sentences)\n",
    "train_sentences, test_sentences, train_embeddings, test_embeddings = split_data(sentences, embeddings)\n",
    "trained_representation = contrastive_learning(train_embeddings)\n",
    "evaluate_model(test_embeddings)\n",
    "\n",
    "# Predict on New Data\n",
    "new_sentence = \"apple banana jungle fish\"\n",
    "predict_new_data(new_sentence, trained_representation)"
   ]
  }
 ],
 "metadata": {
  "kernelspec": {
   "display_name": "Python 3",
   "language": "python",
   "name": "python3"
  },
  "language_info": {
   "codemirror_mode": {
    "name": "ipython",
    "version": 3
   },
   "file_extension": ".py",
   "mimetype": "text/x-python",
   "name": "python",
   "nbconvert_exporter": "python",
   "pygments_lexer": "ipython3",
   "version": "3.13.0"
  }
 },
 "nbformat": 4,
 "nbformat_minor": 2
}
