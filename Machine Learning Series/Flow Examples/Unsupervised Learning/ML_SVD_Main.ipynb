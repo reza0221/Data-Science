{
 "cells": [
  {
   "cell_type": "code",
   "execution_count": 1,
   "metadata": {},
   "outputs": [],
   "source": [
    "# Import necessary libraries\n",
    "import numpy as np\n",
    "from sklearn.model_selection import train_test_split\n",
    "from sklearn.preprocessing import StandardScaler\n",
    "from sklearn.decomposition import TruncatedSVD\n",
    "from sklearn.metrics import mean_squared_error"
   ]
  },
  {
   "cell_type": "code",
   "execution_count": 2,
   "metadata": {},
   "outputs": [],
   "source": [
    "# Step 1: Data - Generating random data\n",
    "np.random.seed(42)\n",
    "X = np.random.rand(100, 10)  # 100 samples with 10 features"
   ]
  },
  {
   "cell_type": "code",
   "execution_count": 3,
   "metadata": {},
   "outputs": [],
   "source": [
    "# Step 2: Preprocessing - Standardizing the data\n",
    "scaler = StandardScaler()\n",
    "X_scaled = scaler.fit_transform(X)"
   ]
  },
  {
   "cell_type": "code",
   "execution_count": 4,
   "metadata": {},
   "outputs": [],
   "source": [
    "# Step 3: Train-Test Split\n",
    "X_train, X_test = train_test_split(X_scaled, test_size=0.2, random_state=42)"
   ]
  },
  {
   "cell_type": "code",
   "execution_count": 5,
   "metadata": {},
   "outputs": [],
   "source": [
    "# Step 4: Train Base Model (SVD)\n",
    "# Let's use 3 components as an example\n",
    "svd = TruncatedSVD(n_components=3)\n",
    "X_train_svd = svd.fit_transform(X_train)\n",
    "X_test_svd = svd.transform(X_test)"
   ]
  },
  {
   "cell_type": "code",
   "execution_count": 6,
   "metadata": {},
   "outputs": [
    {
     "name": "stdout",
     "output_type": "stream",
     "text": [
      "Train Mean Squared Error: 0.5657606690364229\n",
      "Test Mean Squared Error: 0.7102868018537227\n"
     ]
    }
   ],
   "source": [
    "# Step 5: Evaluate - Reconstruct data and calculate the reconstruction error (MSE)\n",
    "X_train_reconstructed = svd.inverse_transform(X_train_svd)\n",
    "X_test_reconstructed = svd.inverse_transform(X_test_svd)\n",
    "\n",
    "train_mse = mean_squared_error(X_train, X_train_reconstructed)\n",
    "test_mse = mean_squared_error(X_test, X_test_reconstructed)\n",
    "\n",
    "print(f\"Train Mean Squared Error: {train_mse}\")\n",
    "print(f\"Test Mean Squared Error: {test_mse}\")"
   ]
  },
  {
   "cell_type": "code",
   "execution_count": 7,
   "metadata": {},
   "outputs": [
    {
     "name": "stdout",
     "output_type": "stream",
     "text": [
      "New Data (SVD-transformed):\n",
      "[[-1.41883     0.82452091  1.42307171]\n",
      " [-0.61440459  0.08073302  0.1855399 ]\n",
      " [ 0.26036306  0.86087696  1.33232333]\n",
      " [-0.59470933 -0.05243264  0.99595762]\n",
      " [ 0.17904081  1.52748682  0.86618743]]\n"
     ]
    }
   ],
   "source": [
    "# Step 6: Predict New Data\n",
    "# Using the trained SVD model to transform new data\n",
    "new_data = np.random.rand(5, 10)  # 5 new samples with 10 features\n",
    "new_data_scaled = scaler.transform(new_data)\n",
    "new_data_svd = svd.transform(new_data_scaled)\n",
    "\n",
    "print(\"New Data (SVD-transformed):\")\n",
    "print(new_data_svd)"
   ]
  }
 ],
 "metadata": {
  "kernelspec": {
   "display_name": "Python 3",
   "language": "python",
   "name": "python3"
  },
  "language_info": {
   "codemirror_mode": {
    "name": "ipython",
    "version": 3
   },
   "file_extension": ".py",
   "mimetype": "text/x-python",
   "name": "python",
   "nbconvert_exporter": "python",
   "pygments_lexer": "ipython3",
   "version": "3.13.0"
  }
 },
 "nbformat": 4,
 "nbformat_minor": 2
}
