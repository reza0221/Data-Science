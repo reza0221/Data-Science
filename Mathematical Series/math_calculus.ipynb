{
 "cells": [
  {
   "cell_type": "code",
   "execution_count": 1,
   "metadata": {},
   "outputs": [
    {
     "name": "stdout",
     "output_type": "stream",
     "text": [
      "Example 1 - Basic Limit: 16\n"
     ]
    }
   ],
   "source": [
    "# Calculus\n",
    "# Limit and Continuity\n",
    "import sympy as sp\n",
    "\n",
    "# Define the variable\n",
    "x = sp.Symbol('x')\n",
    "\n",
    "# Example 1: Basic Limit Calculation\n",
    "expr1 = x**2 + 2*x + 1  # Polynomial function\n",
    "limit1 = sp.limit(expr1, x, 3)  # Compute limit as x approaches 3\n",
    "print(\"Example 1 - Basic Limit:\", limit1)"
   ]
  },
  {
   "cell_type": "code",
   "execution_count": 2,
   "metadata": {},
   "outputs": [
    {
     "name": "stdout",
     "output_type": "stream",
     "text": [
      "Example 2 - Left-Hand Limit: 4\n",
      "Example 2 - Right-Hand Limit: 4\n"
     ]
    }
   ],
   "source": [
    "# Example 2: One-Sided Limits\n",
    "expr2 = (x**2 - 4) / (x - 2)  # Rational function with removable discontinuity\n",
    "left_limit = sp.limit(expr2, x, 2, dir='-')  # Left-hand limit at x=2\n",
    "right_limit = sp.limit(expr2, x, 2, dir='+')  # Right-hand limit at x=2\n",
    "print(\"Example 2 - Left-Hand Limit:\", left_limit)\n",
    "print(\"Example 2 - Right-Hand Limit:\", right_limit)"
   ]
  },
  {
   "cell_type": "code",
   "execution_count": 3,
   "metadata": {},
   "outputs": [
    {
     "name": "stdout",
     "output_type": "stream",
     "text": [
      "Example 3 - Limit at Infinity: 3\n"
     ]
    }
   ],
   "source": [
    "# Example 3: Limit at Infinity\n",
    "expr3 = (3*x**2 + 5) / (x**2 + 2)  # Rational function with same degree numerator and denominator\n",
    "limit3 = sp.limit(expr3, x, sp.oo)  # Compute limit as x approaches infinity\n",
    "print(\"Example 3 - Limit at Infinity:\", limit3)"
   ]
  },
  {
   "cell_type": "code",
   "execution_count": 4,
   "metadata": {},
   "outputs": [
    {
     "name": "stdout",
     "output_type": "stream",
     "text": [
      "Example 4 - L'Hôpital's Rule: 1\n"
     ]
    }
   ],
   "source": [
    "# Example 4: Indeterminate Forms and L'Hôpital's Rule\n",
    "expr4 = sp.sin(x) / x  # Function tending to an indeterminate form 0/0 at x=0\n",
    "limit4 = sp.limit(expr4, x, 0)  # Compute limit using L'Hôpital's Rule implicitly\n",
    "print(\"Example 4 - L'Hôpital's Rule:\", limit4)"
   ]
  },
  {
   "cell_type": "code",
   "execution_count": 5,
   "metadata": {},
   "outputs": [
    {
     "name": "stdout",
     "output_type": "stream",
     "text": [
      "Example 5 - Squeeze Theorem: 0\n"
     ]
    }
   ],
   "source": [
    "# Example 5: Squeeze Theorem\n",
    "expr5 = x**2 * sp.sin(1/x)  # Function squeezed between -x^2 and x^2 as x approaches 0\n",
    "limit5 = sp.limit(expr5, x, 0)  # Compute limit using the squeeze theorem\n",
    "print(\"Example 5 - Squeeze Theorem:\", limit5)"
   ]
  },
  {
   "cell_type": "code",
   "execution_count": 6,
   "metadata": {},
   "outputs": [
    {
     "name": "stdout",
     "output_type": "stream",
     "text": [
      "Example 6 - Function Continuous at x=2: True\n"
     ]
    }
   ],
   "source": [
    "# Example 6: Continuity at a Point\n",
    "f6 = sp.Piecewise((x**2 + 1, x != 2), (5, x == 2))  # Piecewise function with potential discontinuity\n",
    "limit6 = sp.limit(f6, x, 2)  # Compute limit at x=2\n",
    "continuity6 = limit6 == f6.subs(x, 2)  # Check if limit matches function value at x=2\n",
    "print(\"Example 6 - Function Continuous at x=2:\", continuity6)"
   ]
  },
  {
   "cell_type": "code",
   "execution_count": 7,
   "metadata": {},
   "outputs": [
    {
     "name": "stdout",
     "output_type": "stream",
     "text": [
      "Example 7 - Jump Discontinuity at x=2: False\n"
     ]
    }
   ],
   "source": [
    "# Example 7: Discontinuities (Jump Discontinuity)\n",
    "f7 = sp.Piecewise((x + 1, x < 2), (x**2, x >= 2))  # Piecewise function with a potential jump\n",
    "lhl = sp.limit(f7, x, 2, dir='-')  # Compute left-hand limit at x=2\n",
    "rhl = sp.limit(f7, x, 2, dir='+')  # Compute right-hand limit at x=2\n",
    "jump_discontinuity = lhl != rhl  # Check if there's a jump discontinuity\n",
    "print(\"Example 7 - Jump Discontinuity at x=2:\", jump_discontinuity)"
   ]
  },
  {
   "cell_type": "code",
   "execution_count": 8,
   "metadata": {},
   "outputs": [
    {
     "name": "stdout",
     "output_type": "stream",
     "text": [
      "Example 8 - Piecewise Function Continuity Condition: True\n"
     ]
    }
   ],
   "source": [
    "# Example 8: Piecewise Function Continuity\n",
    "# Define unknown coefficients for the continuous function condition\n",
    "a, b = sp.symbols('a b')\n",
    "f8 = sp.Piecewise((x + 2, x < 1), (a*x + b, x >= 1))  # Piecewise function with unknowns\n",
    "left_limit8 = sp.limit(f8, x, 1, dir='-')  # Compute left-hand limit at x=1\n",
    "right_limit8 = sp.limit(f8, x, 1, dir='+')  # Compute right-hand limit at x=1\n",
    "continuity_condition = sp.Eq(left_limit8, right_limit8)  # Equation for continuity at x=1\n",
    "print(\"Example 8 - Piecewise Function Continuity Condition:\", continuity_condition)"
   ]
  },
  {
   "cell_type": "code",
   "execution_count": 9,
   "metadata": {},
   "outputs": [
    {
     "name": "stdout",
     "output_type": "stream",
     "text": [
      "1. Basic Derivative: 12*x**3 + 10*x\n"
     ]
    }
   ],
   "source": [
    "# Differentiation\n",
    "# 1. Basic Derivatives (Power Rule, Sum Rule, Constant Rule)\n",
    "x = sp.Symbol('x')  # Define variable x\n",
    "f1 = 3*x**4 + 5*x**2 + 7  # Define the function\n",
    "# Compute the first derivative of f1 with respect to x\n",
    "derivative1 = sp.diff(f1, x)\n",
    "print(\"1. Basic Derivative:\", derivative1)"
   ]
  },
  {
   "cell_type": "code",
   "execution_count": 10,
   "metadata": {},
   "outputs": [
    {
     "name": "stdout",
     "output_type": "stream",
     "text": [
      "2. Product Rule: 2*x*(x**3 - 2*x) + (x**2 + 1)*(3*x**2 - 2)\n"
     ]
    }
   ],
   "source": [
    "# 2. Product Rule\n",
    "f2 = (x**2 + 1) * (x**3 - 2*x)  # Define the function\n",
    "# Differentiate using the product rule\n",
    "derivative2 = sp.diff(f2, x)\n",
    "print(\"2. Product Rule:\", derivative2)"
   ]
  },
  {
   "cell_type": "code",
   "execution_count": 11,
   "metadata": {},
   "outputs": [
    {
     "name": "stdout",
     "output_type": "stream",
     "text": [
      "3. Quotient Rule: (2*x + 3)/(x - 1) - (x**2 + 3*x)/(x - 1)**2\n"
     ]
    }
   ],
   "source": [
    "# 3. Quotient Rule\n",
    "f3 = (x**2 + 3*x) / (x - 1)  # Define a rational function\n",
    "# Compute derivative using quotient rule\n",
    "derivative3 = sp.diff(f3, x)\n",
    "print(\"3. Quotient Rule:\", derivative3)"
   ]
  },
  {
   "cell_type": "code",
   "execution_count": 12,
   "metadata": {},
   "outputs": [
    {
     "name": "stdout",
     "output_type": "stream",
     "text": [
      "4. Chain Rule: (30*x + 25)*(3*x**2 + 5*x - 4)**4\n"
     ]
    }
   ],
   "source": [
    "# 4. Chain Rule\n",
    "f4 = (3*x**2 + 5*x - 4)**5  # Nested function\n",
    "# Compute derivative using chain rule\n",
    "derivative4 = sp.diff(f4, x)\n",
    "print(\"4. Chain Rule:\", derivative4)"
   ]
  },
  {
   "cell_type": "code",
   "execution_count": 13,
   "metadata": {},
   "outputs": [
    {
     "name": "stdout",
     "output_type": "stream",
     "text": [
      "5. Second Derivative: 2*(6*x**2 + 6*x - 1)\n"
     ]
    }
   ],
   "source": [
    "# 5. Higher-Order Derivatives\n",
    "f5 = x**4 + 2*x**3 - x**2 + 7*x  # Define function\n",
    "# Compute second derivative\n",
    "double_derivative5 = sp.diff(f5, x, 2)\n",
    "print(\"5. Second Derivative:\", double_derivative5)"
   ]
  },
  {
   "cell_type": "code",
   "execution_count": 14,
   "metadata": {},
   "outputs": [
    {
     "name": "stdout",
     "output_type": "stream",
     "text": [
      "6. Implicit Differentiation dy/dx: 2*x\n"
     ]
    }
   ],
   "source": [
    "# 6. Implicit Differentiation\n",
    "y = sp.Symbol('y')  # Define variable y\n",
    "implicit_eq = x**2 + y**2 - 25  # Circle equation x^2 + y^2 = 25\n",
    "# Differentiate implicitly\n",
    "dy_dx = sp.diff(implicit_eq, x).subs(sp.diff(y, x), -x/y)\n",
    "print(\"6. Implicit Differentiation dy/dx:\", dy_dx)"
   ]
  },
  {
   "cell_type": "code",
   "execution_count": 15,
   "metadata": {},
   "outputs": [
    {
     "name": "stdout",
     "output_type": "stream",
     "text": [
      "7. Logarithmic Differentiation: (x**2 + 1)**x*(2*x**2/(x**2 + 1) + log(x**2 + 1))\n"
     ]
    }
   ],
   "source": [
    "# 7. Logarithmic Differentiation\n",
    "f7 = (x**2 + 1)**x  # Define function with exponent depending on x\n",
    "# Apply logarithmic differentiation\n",
    "log_diff7 = sp.diff(sp.ln(f7), x) * f7\n",
    "print(\"7. Logarithmic Differentiation:\", log_diff7)"
   ]
  },
  {
   "cell_type": "code",
   "execution_count": 16,
   "metadata": {},
   "outputs": [
    {
     "name": "stdout",
     "output_type": "stream",
     "text": [
      "8. Partial Derivative wrt x: 2*x*y + 3*y**2\n",
      "8. Partial Derivative wrt y: x**2 + 6*x*y\n"
     ]
    }
   ],
   "source": [
    "# 8. Partial Derivatives (Multivariable)\n",
    "y = sp.Symbol('y')  # Define y again for multivariable function\n",
    "f8 = x**2 * y + 3*x*y**2  # Define multivariable function\n",
    "# Compute partial derivatives with respect to x and y\n",
    "partial_x8 = sp.diff(f8, x)\n",
    "partial_y8 = sp.diff(f8, y)\n",
    "print(\"8. Partial Derivative wrt x:\", partial_x8)\n",
    "print(\"8. Partial Derivative wrt y:\", partial_y8)"
   ]
  },
  {
   "cell_type": "code",
   "execution_count": 17,
   "metadata": {},
   "outputs": [
    {
     "name": "stdout",
     "output_type": "stream",
     "text": [
      "9. Directional Derivative: sqrt(2)*x + sqrt(2)*y\n"
     ]
    }
   ],
   "source": [
    "# 9. Directional Derivatives\n",
    "u1, u2 = sp.symbols('u1 u2')  # Define direction components\n",
    "f9 = x**2 + y**2  # Function to differentiate\n",
    "# Compute gradient\n",
    "grad_f9 = [sp.diff(f9, x), sp.diff(f9, y)]\n",
    "# Compute directional derivative along unit vector (1/sqrt(2), 1/sqrt(2))\n",
    "directional_derivative9 = grad_f9[0] * (1/sp.sqrt(2)) + grad_f9[1] * (1/sp.sqrt(2))\n",
    "print(\"9. Directional Derivative:\", directional_derivative9)"
   ]
  },
  {
   "cell_type": "code",
   "execution_count": 18,
   "metadata": {},
   "outputs": [
    {
     "name": "stdout",
     "output_type": "stream",
     "text": [
      "10. Gradient: [3*x**2 + 3*y, 3*x + 2*y]\n",
      "10. Hessian Matrix:\n",
      "⎡6⋅x  3⎤\n",
      "⎢      ⎥\n",
      "⎣ 3   2⎦\n"
     ]
    }
   ],
   "source": [
    "# 10. Gradient and Hessian Matrix\n",
    "f10 = x**3 + 3*x*y + y**2  # Define multivariable function\n",
    "# Compute gradient (vector of first derivatives)\n",
    "grad_f10 = [sp.diff(f10, x), sp.diff(f10, y)]\n",
    "# Compute Hessian matrix (second derivatives)\n",
    "hessian_f10 = sp.Matrix([[sp.diff(grad_f10[0], x), sp.diff(grad_f10[0], y)],\n",
    "                          [sp.diff(grad_f10[1], x), sp.diff(grad_f10[1], y)]])\n",
    "print(\"10. Gradient:\", grad_f10)\n",
    "print(\"10. Hessian Matrix:\")\n",
    "sp.pprint(hessian_f10)"
   ]
  },
  {
   "cell_type": "code",
   "execution_count": 19,
   "metadata": {},
   "outputs": [
    {
     "name": "stdout",
     "output_type": "stream",
     "text": [
      "1. Indefinite Integral: x**3 + 2*x**2 + 5*x\n"
     ]
    }
   ],
   "source": [
    "# Integration\n",
    "# Define symbols\n",
    "x, y, z = sp.symbols('x y z')\n",
    "\n",
    "# 1. Indefinite Integral (Find the general antiderivative of a function)\n",
    "indefinite_integral = sp.integrate(3*x**2 + 4*x + 5, x)\n",
    "print(\"1. Indefinite Integral:\", indefinite_integral)"
   ]
  },
  {
   "cell_type": "code",
   "execution_count": 20,
   "metadata": {},
   "outputs": [
    {
     "name": "stdout",
     "output_type": "stream",
     "text": [
      "2. Definite Integral: 6\n"
     ]
    }
   ],
   "source": [
    "# 2. Definite Integral (Evaluate an integral over a specific range)\n",
    "definite_integral = sp.integrate(2*x**3 - x, (x, 0, 2))\n",
    "print(\"2. Definite Integral:\", definite_integral)"
   ]
  },
  {
   "cell_type": "code",
   "execution_count": 21,
   "metadata": {},
   "outputs": [
    {
     "name": "stdout",
     "output_type": "stream",
     "text": [
      "3. Integration by Substitution: exp(x**2)\n"
     ]
    }
   ],
   "source": [
    "# 3. Integration by Substitution (u-Substitution, commonly used for composite functions)\n",
    "u_sub = sp.integrate(2*x * sp.exp(x**2), x)\n",
    "print(\"3. Integration by Substitution:\", u_sub)"
   ]
  },
  {
   "cell_type": "code",
   "execution_count": 22,
   "metadata": {},
   "outputs": [
    {
     "name": "stdout",
     "output_type": "stream",
     "text": [
      "4. Integration by Parts: x*exp(x) - exp(x)\n"
     ]
    }
   ],
   "source": [
    "# 4. Integration by Parts (Uses the formula ∫udv = uv - ∫vdu)\n",
    "u = x  # Choosing u = x\n",
    "dv = sp.exp(x)  # Choosing dv = e^x dx\n",
    "v = sp.integrate(dv, x)  # Compute v by integrating dv\n",
    "integration_by_parts = u*v - sp.integrate(v, x)  # Apply integration by parts formula\n",
    "print(\"4. Integration by Parts:\", integration_by_parts)"
   ]
  },
  {
   "cell_type": "code",
   "execution_count": 23,
   "metadata": {},
   "outputs": [
    {
     "name": "stdout",
     "output_type": "stream",
     "text": [
      "5. Trigonometric Integral: x/2 - sin(x)*cos(x)/2\n"
     ]
    }
   ],
   "source": [
    "# 5. Trigonometric Integral (Integrating a trigonometric function)\n",
    "trig_integral = sp.integrate(sp.sin(x)**2, x)\n",
    "print(\"5. Trigonometric Integral:\", trig_integral)"
   ]
  },
  {
   "cell_type": "code",
   "execution_count": 24,
   "metadata": {},
   "outputs": [
    {
     "name": "stdout",
     "output_type": "stream",
     "text": [
      "6. Improper Integral: 1\n"
     ]
    }
   ],
   "source": [
    "# 6. Improper Integral (Integrating over an infinite range or singularity)\n",
    "improper_integral = sp.integrate(1/x**2, (x, 1, sp.oo))  # Integral from 1 to infinity\n",
    "print(\"6. Improper Integral:\", improper_integral)"
   ]
  },
  {
   "cell_type": "code",
   "execution_count": 25,
   "metadata": {},
   "outputs": [
    {
     "name": "stdout",
     "output_type": "stream",
     "text": [
      "7. Double Integral: 3\n"
     ]
    }
   ],
   "source": [
    "# 7. Double Integral (Evaluating an integral over a two-dimensional region)\n",
    "double_integral = sp.integrate(sp.integrate(x + y, (x, 0, 2)), (y, 0, 1))\n",
    "print(\"7. Double Integral:\", double_integral)"
   ]
  },
  {
   "cell_type": "code",
   "execution_count": 26,
   "metadata": {},
   "outputs": [
    {
     "name": "stdout",
     "output_type": "stream",
     "text": [
      "8. Triple Integral: 3/2\n"
     ]
    }
   ],
   "source": [
    "# 8. Triple Integral (Evaluating an integral over a three-dimensional region)\n",
    "triple_integral = sp.integrate(sp.integrate(sp.integrate(x + y + z, (x, 0, 1)), (y, 0, 1)), (z, 0, 1))\n",
    "print(\"8. Triple Integral:\", triple_integral)"
   ]
  },
  {
   "cell_type": "code",
   "execution_count": 27,
   "metadata": {},
   "outputs": [
    {
     "name": "stdout",
     "output_type": "stream",
     "text": [
      "First Fundamental Theorem Result: x**2\n"
     ]
    }
   ],
   "source": [
    "# Fundamental Theorem of Calculus\n",
    "# Define symbol\n",
    "x = sp.Symbol('x')\n",
    "\n",
    "# 1. First Fundamental Theorem of Calculus (FTC-1)\n",
    "# Given function f(t) = t^2, compute d/dx ∫[0, x] t^2 dt\n",
    "f_t = x**2  # Replace t with x\n",
    "FTC1_result = sp.diff(sp.integrate(f_t, ('x', 0, x)), x)\n",
    "print(\"First Fundamental Theorem Result:\", FTC1_result)"
   ]
  },
  {
   "cell_type": "code",
   "execution_count": 28,
   "metadata": {},
   "outputs": [
    {
     "name": "stdout",
     "output_type": "stream",
     "text": [
      "Second Fundamental Theorem Result: 7\n"
     ]
    }
   ],
   "source": [
    "# 2. Second Fundamental Theorem of Calculus (FTC-2)\n",
    "# Given function f(x) = 3x^2, compute ∫[1,2] 3x^2 dx\n",
    "f_x = 3*x**2\n",
    "FTC2_result = sp.integrate(f_x, (x, 1, 2))\n",
    "print(\"Second Fundamental Theorem Result:\", FTC2_result)"
   ]
  },
  {
   "cell_type": "code",
   "execution_count": 29,
   "metadata": {},
   "outputs": [
    {
     "name": "stdout",
     "output_type": "stream",
     "text": [
      "First-Order Partial Derivatives: 2*x*y + 3*y**2 x**2 + 6*x*y\n"
     ]
    }
   ],
   "source": [
    "# Partial Derivatives\n",
    "# Define variables\n",
    "x, y, z = sp.symbols('x y z')\n",
    "\n",
    "# 1. First-Order Partial Derivatives\n",
    "f1 = x**2 * y + 3*x*y**2\n",
    "partial_x = sp.diff(f1, x)  # ∂f/∂x\n",
    "partial_y = sp.diff(f1, y)  # ∂f/∂y\n",
    "print(\"First-Order Partial Derivatives:\", partial_x, partial_y)"
   ]
  },
  {
   "cell_type": "code",
   "execution_count": 30,
   "metadata": {},
   "outputs": [
    {
     "name": "stdout",
     "output_type": "stream",
     "text": [
      "Second-Order Partial Derivatives: 6*x 2*(2*x + 3*y) 4*y\n"
     ]
    }
   ],
   "source": [
    "# 2. Second-Order Partial Derivatives\n",
    "f2 = x**3 + 2*x*y**2 + y**3\n",
    "second_xx = sp.diff(f2, x, x)  # ∂²f/∂x²\n",
    "second_yy = sp.diff(f2, y, y)  # ∂²f/∂y²\n",
    "mixed_xy = sp.diff(f2, x, y)   # ∂²f/∂x∂y\n",
    "print(\"Second-Order Partial Derivatives:\", second_xx, second_yy, mixed_xy)"
   ]
  },
  {
   "cell_type": "code",
   "execution_count": 31,
   "metadata": {},
   "outputs": [
    {
     "name": "stdout",
     "output_type": "stream",
     "text": [
      "Gradient: [2*x, 2*y, 2*z]\n"
     ]
    }
   ],
   "source": [
    "# 3. Gradient (∇f)\n",
    "f3 = x**2 + y**2 + z**2\n",
    "gradient = [sp.diff(f3, var) for var in (x, y, z)]  # ∇f = (∂f/∂x, ∂f/∂y, ∂f/∂z)\n",
    "print(\"Gradient:\", gradient)"
   ]
  },
  {
   "cell_type": "code",
   "execution_count": 32,
   "metadata": {},
   "outputs": [
    {
     "name": "stdout",
     "output_type": "stream",
     "text": [
      "Directional Derivative: 18/5\n"
     ]
    }
   ],
   "source": [
    "# 4. Directional Derivative\n",
    "f4 = x**2 + 3*y\n",
    "point = {x: 1, y: 2}  # Evaluate at (1,2)\n",
    "direction = sp.Matrix([3, 4]) / 5  # Normalize direction vector\n",
    "grad_f4 = sp.Matrix([sp.diff(f4, var) for var in (x, y)])\n",
    "directional_derivative = grad_f4.dot(direction).subs(point)\n",
    "print(\"Directional Derivative:\", directional_derivative)"
   ]
  },
  {
   "cell_type": "code",
   "execution_count": 33,
   "metadata": {},
   "outputs": [
    {
     "name": "stdout",
     "output_type": "stream",
     "text": [
      "Jacobian Matrix: Matrix([[2*x*y, x**2], [3, cos(y)]])\n"
     ]
    }
   ],
   "source": [
    "# 5. Jacobian Matrix\n",
    "F = sp.Matrix([x**2 * y, 3*x + sp.sin(y)])  # Vector function\n",
    "variables = sp.Matrix([x, y])\n",
    "Jacobian = F.jacobian(variables)\n",
    "print(\"Jacobian Matrix:\", Jacobian)"
   ]
  },
  {
   "cell_type": "code",
   "execution_count": 34,
   "metadata": {},
   "outputs": [
    {
     "name": "stdout",
     "output_type": "stream",
     "text": [
      "Hessian Matrix: Matrix([[6*x, 2], [2, 6*y]])\n"
     ]
    }
   ],
   "source": [
    "# 6. Hessian Matrix\n",
    "f6 = x**3 + y**3 + 2*x*y\n",
    "variables_hessian = sp.Matrix([x, y])\n",
    "Hessian = sp.hessian(f6, variables_hessian)\n",
    "print(\"Hessian Matrix:\", Hessian)"
   ]
  },
  {
   "cell_type": "code",
   "execution_count": 35,
   "metadata": {},
   "outputs": [
    {
     "name": "stdout",
     "output_type": "stream",
     "text": [
      "Gradient: [2*x, 2*y]\n"
     ]
    }
   ],
   "source": [
    "# Gradient, Divergent, and Curl\n",
    "# Define symbols\n",
    "x, y, z = sp.symbols('x y z')\n",
    "\n",
    "# 1. Gradient of a Scalar Function\n",
    "f = x**2 + y**2  # Scalar function\n",
    "gradient_f = [sp.diff(f, var) for var in (x, y)]\n",
    "print(\"Gradient:\", gradient_f)"
   ]
  },
  {
   "cell_type": "code",
   "execution_count": 36,
   "metadata": {},
   "outputs": [
    {
     "name": "stdout",
     "output_type": "stream",
     "text": [
      "Divergence in 2D: 2*x + 2*y\n"
     ]
    }
   ],
   "source": [
    "# 2. Divergence of a Vector Field in 2D\n",
    "F_2D = [x**2, y**2]  # Vector field (F1, F2)\n",
    "div_F_2D = sum(sp.diff(F_2D[i], var) for i, var in enumerate((x, y)))\n",
    "print(\"Divergence in 2D:\", div_F_2D)"
   ]
  },
  {
   "cell_type": "code",
   "execution_count": 37,
   "metadata": {},
   "outputs": [
    {
     "name": "stdout",
     "output_type": "stream",
     "text": [
      "Divergence in 3D: x + y + z\n"
     ]
    }
   ],
   "source": [
    "# 3. Divergence of a Vector Field in 3D\n",
    "F_3D = [x*y, y*z, z*x]  # Vector field (F1, F2, F3)\n",
    "div_F_3D = sum(sp.diff(F_3D[i], var) for i, var in enumerate((x, y, z)))\n",
    "print(\"Divergence in 3D:\", div_F_3D)"
   ]
  },
  {
   "cell_type": "code",
   "execution_count": 38,
   "metadata": {},
   "outputs": [
    {
     "name": "stdout",
     "output_type": "stream",
     "text": [
      "Curl in 2D: -2\n"
     ]
    }
   ],
   "source": [
    "# 4. Curl of a Vector Field in 2D\n",
    "F_2D_curl = [y, -x]  # Vector field (F1, F2)\n",
    "curl_F_2D = sp.diff(F_2D_curl[1], x) - sp.diff(F_2D_curl[0], y)\n",
    "print(\"Curl in 2D:\", curl_F_2D)"
   ]
  },
  {
   "cell_type": "code",
   "execution_count": 39,
   "metadata": {},
   "outputs": [
    {
     "name": "stdout",
     "output_type": "stream",
     "text": [
      "Curl in 3D: [0, 0, 0]\n"
     ]
    }
   ],
   "source": [
    "# 5. Curl of a Vector Field in 3D\n",
    "F_3D_curl = [y*z, z*x, x*y]  # Vector field (F1, F2, F3)\n",
    "curl_F_3D = [\n",
    "    sp.diff(F_3D_curl[2], y) - sp.diff(F_3D_curl[1], z),\n",
    "    sp.diff(F_3D_curl[0], z) - sp.diff(F_3D_curl[2], x),\n",
    "    sp.diff(F_3D_curl[1], x) - sp.diff(F_3D_curl[0], y)\n",
    "]\n",
    "print(\"Curl in 3D:\", curl_F_3D)"
   ]
  },
  {
   "cell_type": "code",
   "execution_count": 42,
   "metadata": {},
   "outputs": [
    {
     "name": "stdout",
     "output_type": "stream",
     "text": [
      "Double Integral (Cartesian): 3\n"
     ]
    }
   ],
   "source": [
    "# Multiple Integrals\n",
    "# Define necessary symbols for integration\n",
    "x, y, z, r, theta, rho, phi = sp.symbols('x y z r theta rho phi')\n",
    "\n",
    "# Example 1: Double Integral (Cartesian Coordinates)\n",
    "# Computes the integral of (x + y) over the region 0 <= x <= 1, 0 <= y <= 2\n",
    "expr1 = x + y\n",
    "integral1 = sp.integrate(sp.integrate(expr1, (x, 0, 1)), (y, 0, 2))\n",
    "print(\"Double Integral (Cartesian):\", integral1)"
   ]
  },
  {
   "cell_type": "code",
   "execution_count": 43,
   "metadata": {},
   "outputs": [
    {
     "name": "stdout",
     "output_type": "stream",
     "text": [
      "Double Integral (Polar): pi/4\n"
     ]
    }
   ],
   "source": [
    "# Example 2: Double Integral (Polar Coordinates)\n",
    "# Computes the integral of r in polar coordinates over the first quadrant of a unit circle\n",
    "expr2 = r\n",
    "integral2 = sp.integrate(sp.integrate(expr2, (r, 0, 1)), (theta, 0, sp.pi/2))\n",
    "print(\"Double Integral (Polar):\", integral2)"
   ]
  },
  {
   "cell_type": "code",
   "execution_count": 44,
   "metadata": {},
   "outputs": [
    {
     "name": "stdout",
     "output_type": "stream",
     "text": [
      "Triple Integral (Cartesian): 3/2\n"
     ]
    }
   ],
   "source": [
    "# Example 3: Triple Integral (Cartesian Coordinates)\n",
    "# Computes the integral of (x + y + z) over a unit cube 0 <= x, y, z <= 1\n",
    "expr3 = x + y + z\n",
    "integral3 = sp.integrate(sp.integrate(sp.integrate(expr3, (x, 0, 1)), (y, 0, 1)), (z, 0, 1))\n",
    "print(\"Triple Integral (Cartesian):\", integral3)"
   ]
  },
  {
   "cell_type": "code",
   "execution_count": 45,
   "metadata": {},
   "outputs": [
    {
     "name": "stdout",
     "output_type": "stream",
     "text": [
      "Triple Integral (Cylindrical): 2*pi/3\n"
     ]
    }
   ],
   "source": [
    "# Example 4: Triple Integral (Cylindrical Coordinates)\n",
    "# Computes the integral of r in cylindrical coordinates over a unit cylinder\n",
    "expr4 = r\n",
    "integral4 = sp.integrate(sp.integrate(sp.integrate(expr4, (z, 0, r)), (theta, 0, 2*sp.pi)), (r, 0, 1))\n",
    "print(\"Triple Integral (Cylindrical):\", integral4)"
   ]
  },
  {
   "cell_type": "code",
   "execution_count": 46,
   "metadata": {},
   "outputs": [
    {
     "name": "stdout",
     "output_type": "stream",
     "text": [
      "Triple Integral (Spherical): 4*pi/3\n"
     ]
    }
   ],
   "source": [
    "# Example 5: Triple Integral (Spherical Coordinates)\n",
    "# Computes the integral of rho^2 * sin(theta) in spherical coordinates over a unit sphere\n",
    "expr5 = rho**2 * sp.sin(theta)\n",
    "integral5 = sp.integrate(sp.integrate(sp.integrate(expr5, (phi, 0, 2*sp.pi)), (theta, 0, sp.pi)), (rho, 0, 1))\n",
    "print(\"Triple Integral (Spherical):\", integral5)"
   ]
  },
  {
   "cell_type": "code",
   "execution_count": 47,
   "metadata": {},
   "outputs": [
    {
     "name": "stdout",
     "output_type": "stream",
     "text": [
      "Changed Order of Integration: Integral(f(x, y), (x, y, 2), (y, 0, 2))\n"
     ]
    }
   ],
   "source": [
    "# Example 6: Change of Order in Double Integrals\n",
    "# Computes an integral after changing the order of integration\n",
    "expr6 = sp.Function('f')(x, y)\n",
    "integral6 = sp.integrate(sp.integrate(expr6, (x, y, 2)), (y, 0, 2))\n",
    "print(\"Changed Order of Integration:\", integral6)"
   ]
  },
  {
   "cell_type": "code",
   "execution_count": 51,
   "metadata": {},
   "outputs": [
    {
     "name": "stdout",
     "output_type": "stream",
     "text": [
      "Surface Integral: -Integral(192*y**4*log(2), (y, 0, 1))/128 - Integral(48*y**4*log(4*y**2 + 1), (y, 0, 1))/128 - Integral(32*y**2*log(2), (y, 0, 1))/128 - Integral(2*log(4*sqrt(4*y**2 + 5) + 8), (y, 0, 1))/128 - Integral(8*y**2*log(4*y**2 + 1), (y, 0, 1))/128 - Integral(-log(4*y**2 + 1), (y, 0, 1))/128 - Integral(-4*log(2), (y, 0, 1))/128 - Integral(-16*y**2*log(4*sqrt(4*y**2 + 5) + 8), (y, 0, 1))/128 - Integral(-96*y**4*log(4*sqrt(4*y**2 + 5) + 8), (y, 0, 1))/128 - Integral(-80*y**2*sqrt(4*y**2 + 5), (y, 0, 1))/128 - Integral(-36*sqrt(4*y**2 + 5), (y, 0, 1))/128\n"
     ]
    }
   ],
   "source": [
    "# Example 7: Surface Integral\n",
    "# Computes the integral of x^2 + y^2 over the surface z = x^2 + y^2\n",
    "expr7 = x**2 + y**2\n",
    "z_surface = x**2 + y**2  # Surface equation z = f(x, y)\n",
    "\n",
    "# Compute dS = sqrt(1 + (dz/dx)^2 + (dz/dy)^2)\n",
    "dz_dx = sp.diff(z_surface, x)\n",
    "dz_dy = sp.diff(z_surface, y)\n",
    "dS = sp.sqrt(1 + dz_dx**2 + dz_dy**2)\n",
    "\n",
    "total_surface_integral = sp.integrate(sp.integrate(expr7 * dS, (x, 0, 1)), (y, 0, 1))\n",
    "print(\"Surface Integral:\", total_surface_integral)"
   ]
  },
  {
   "cell_type": "code",
   "execution_count": 52,
   "metadata": {},
   "outputs": [
    {
     "name": "stdout",
     "output_type": "stream",
     "text": [
      "Volume Integral: 1/8\n"
     ]
    }
   ],
   "source": [
    "# Example 8: Volume Integral\n",
    "# Computes the integral of x * y * z over a unit cube volume 0 <= x, y, z <= 1\n",
    "expr8 = x * y * z\n",
    "integral8 = sp.integrate(sp.integrate(sp.integrate(expr8, (x, 0, 1)), (y, 0, 1)), (z, 0, 1))\n",
    "print(\"Volume Integral:\", integral8)"
   ]
  },
  {
   "cell_type": "code",
   "execution_count": 53,
   "metadata": {},
   "outputs": [
    {
     "name": "stdout",
     "output_type": "stream",
     "text": [
      "Jacobian Determinant (Cartesian to Polar): r*sin(theta)**2 + r*cos(theta)**2\n"
     ]
    }
   ],
   "source": [
    "# Jacobian and Change of Variables\n",
    "def jacobian_matrix(transformations, variables):\n",
    "    return sp.Matrix([[sp.diff(f, v) for v in variables] for f in transformations])\n",
    "\n",
    "# 1. Jacobian Determinant (2D Cartesian to Polar Coordinates)\n",
    "r, theta = sp.symbols('r theta')\n",
    "x = r * sp.cos(theta)\n",
    "y = r * sp.sin(theta)\n",
    "J1 = jacobian_matrix([x, y], [r, theta])\n",
    "det_J1 = J1.det()\n",
    "print(\"Jacobian Determinant (Cartesian to Polar):\", det_J1)"
   ]
  },
  {
   "cell_type": "code",
   "execution_count": 54,
   "metadata": {},
   "outputs": [
    {
     "name": "stdout",
     "output_type": "stream",
     "text": [
      "Jacobian Determinant (Cartesian to Cylindrical): r*sin(theta)**2 + r*cos(theta)**2\n"
     ]
    }
   ],
   "source": [
    "# 2. Jacobian Determinant (3D Cartesian to Cylindrical Coordinates)\n",
    "x = r * sp.cos(theta)\n",
    "y = r * sp.sin(theta)\n",
    "z = sp.Symbol('z')\n",
    "J2 = jacobian_matrix([x, y, z], [r, theta, z])\n",
    "det_J2 = J2.det()\n",
    "print(\"Jacobian Determinant (Cartesian to Cylindrical):\", det_J2)"
   ]
  },
  {
   "cell_type": "code",
   "execution_count": 55,
   "metadata": {},
   "outputs": [
    {
     "name": "stdout",
     "output_type": "stream",
     "text": [
      "Jacobian Determinant (Cartesian to Spherical): rho**2*sin(phi)**2*sin(theta)**3 + rho**2*sin(phi)**2*sin(theta)*cos(theta)**2 + rho**2*sin(theta)**3*cos(phi)**2 + rho**2*sin(theta)*cos(phi)**2*cos(theta)**2\n"
     ]
    }
   ],
   "source": [
    "# 3. Jacobian Determinant (3D Cartesian to Spherical Coordinates)\n",
    "rho, phi = sp.symbols('rho phi')\n",
    "x = rho * sp.sin(theta) * sp.cos(phi)\n",
    "y = rho * sp.sin(theta) * sp.sin(phi)\n",
    "z = rho * sp.cos(theta)\n",
    "J3 = jacobian_matrix([x, y, z], [rho, theta, phi])\n",
    "det_J3 = J3.det()\n",
    "print(\"Jacobian Determinant (Cartesian to Spherical):\", det_J3)"
   ]
  },
  {
   "cell_type": "code",
   "execution_count": 56,
   "metadata": {},
   "outputs": [
    {
     "name": "stdout",
     "output_type": "stream",
     "text": [
      "Jacobian Determinant for Double Integrals: -2\n"
     ]
    }
   ],
   "source": [
    "# 4. Transformation of Double Integrals using Jacobian\n",
    "u, v = sp.symbols('u v')\n",
    "x = u + v\n",
    "y = u - v\n",
    "J4 = jacobian_matrix([x, y], [u, v])\n",
    "det_J4 = J4.det()\n",
    "print(\"Jacobian Determinant for Double Integrals:\", det_J4)"
   ]
  },
  {
   "cell_type": "code",
   "execution_count": 57,
   "metadata": {},
   "outputs": [
    {
     "name": "stdout",
     "output_type": "stream",
     "text": [
      "Jacobian Determinant for Triple Integrals: 0\n"
     ]
    }
   ],
   "source": [
    "# 5. Transformation of Triple Integrals using Jacobian\n",
    "u, v, w = sp.symbols('u v w')\n",
    "x = u * v\n",
    "y = u * v * w\n",
    "z = w\n",
    "J5 = jacobian_matrix([x, y, z], [u, v, w])\n",
    "det_J5 = J5.det()\n",
    "print(\"Jacobian Determinant for Triple Integrals:\", det_J5)"
   ]
  },
  {
   "cell_type": "code",
   "execution_count": 58,
   "metadata": {},
   "outputs": [
    {
     "name": "stdout",
     "output_type": "stream",
     "text": [
      "Jacobian Determinant for Nonlinear Change of Variables: 4*u**2 + 4*v**2\n"
     ]
    }
   ],
   "source": [
    "# 6. Nonlinear Change of Variables in a Function\n",
    "u, v = sp.symbols('u v')\n",
    "x = u**2 - v**2\n",
    "y = 2 * u * v\n",
    "J6 = jacobian_matrix([x, y], [u, v])\n",
    "det_J6 = J6.det()\n",
    "print(\"Jacobian Determinant for Nonlinear Change of Variables:\", det_J6)"
   ]
  },
  {
   "cell_type": "code",
   "execution_count": 59,
   "metadata": {},
   "outputs": [],
   "source": [
    "from sympy.vector import CoordSys3D, gradient, divergence, curl\n",
    "from scipy.integrate import quad, dblquad"
   ]
  },
  {
   "cell_type": "code",
   "execution_count": 60,
   "metadata": {},
   "outputs": [
    {
     "name": "stdout",
     "output_type": "stream",
     "text": [
      "Gradient of f: 0\n"
     ]
    }
   ],
   "source": [
    "# Vector Calculus\n",
    "# Define symbolic variables\n",
    "x, y, z, t = sp.symbols('x y z t')\n",
    "N = CoordSys3D('N')\n",
    "\n",
    "# 1. Gradient of a Scalar Field\n",
    "# Computes the gradient of a scalar function f(x, y, z)\n",
    "f = x**2 * y + y * z\n",
    "grad_f = gradient(f, N)\n",
    "print(\"Gradient of f:\", grad_f)"
   ]
  },
  {
   "cell_type": "code",
   "execution_count": 61,
   "metadata": {},
   "outputs": [
    {
     "name": "stdout",
     "output_type": "stream",
     "text": [
      "Divergence of F: 0\n"
     ]
    }
   ],
   "source": [
    "# 2. Divergence of a Vector Field\n",
    "# Computes the divergence of a vector field F(x, y, z)\n",
    "F = x*N.i + y*N.j + z*N.k\n",
    "div_F = divergence(F)\n",
    "print(\"Divergence of F:\", div_F)"
   ]
  },
  {
   "cell_type": "code",
   "execution_count": 62,
   "metadata": {},
   "outputs": [
    {
     "name": "stdout",
     "output_type": "stream",
     "text": [
      "Curl of F: 0\n"
     ]
    }
   ],
   "source": [
    "# 3. Curl of a Vector Field\n",
    "# Computes the curl of a given vector field\n",
    "F_vec = y*N.i + x*z*N.j + z**2*N.k\n",
    "curl_F = curl(F_vec)\n",
    "print(\"Curl of F:\", curl_F)"
   ]
  },
  {
   "cell_type": "code",
   "execution_count": 64,
   "metadata": {},
   "outputs": [],
   "source": [
    "import numpy as np"
   ]
  },
  {
   "cell_type": "code",
   "execution_count": 65,
   "metadata": {},
   "outputs": [
    {
     "name": "stdout",
     "output_type": "stream",
     "text": [
      "Line Integral of a Scalar Function: 0.9428090415820634\n"
     ]
    }
   ],
   "source": [
    "# 4. Line Integral of a Scalar Function\n",
    "# Evaluates the line integral of a scalar function along a path\n",
    "def integrand(t):\n",
    "    return (t**2 + t**2) * np.sqrt(2)\n",
    "line_integral, _ = quad(integrand, 0, 1)\n",
    "print(\"Line Integral of a Scalar Function:\", line_integral)"
   ]
  },
  {
   "cell_type": "code",
   "execution_count": 66,
   "metadata": {},
   "outputs": [
    {
     "name": "stdout",
     "output_type": "stream",
     "text": [
      "Line Integral of a Vector Field: 1.0\n"
     ]
    }
   ],
   "source": [
    "# 5. Line Integral of a Vector Field\n",
    "# Evaluates the line integral of a vector field along a curve\n",
    "def integrand_vector(t):\n",
    "    return t**2 + 2*t**2\n",
    "line_integral_vector, _ = quad(integrand_vector, 0, 1)\n",
    "print(\"Line Integral of a Vector Field:\", line_integral_vector)"
   ]
  },
  {
   "cell_type": "code",
   "execution_count": 67,
   "metadata": {},
   "outputs": [
    {
     "name": "stdout",
     "output_type": "stream",
     "text": [
      "Conservative Check (Should be zero matrix): Matrix([[0, 0, 0], [0, 0, 2 - 2*y], [0, 2*y - 2, 0]])\n"
     ]
    }
   ],
   "source": [
    "# 6. Conservative Vector Fields & Path Independence\n",
    "# Checks if a vector field is conservative by computing its curl\n",
    "F_conservative = sp.Matrix([2*x*y, x**2 + 2*z, y**2])\n",
    "curl_conservative = sp.simplify(F_conservative.jacobian([x, y, z]) - F_conservative.jacobian([x, y, z]).T)\n",
    "print(\"Conservative Check (Should be zero matrix):\", curl_conservative)"
   ]
  },
  {
   "cell_type": "code",
   "execution_count": 68,
   "metadata": {},
   "outputs": [
    {
     "name": "stdout",
     "output_type": "stream",
     "text": [
      "Green's Theorem Circulation: 6.283185307179593\n"
     ]
    }
   ],
   "source": [
    "# 7. Green's Theorem\n",
    "# Computes the circulation integral using Green's theorem\n",
    "flux = lambda x, y: 2  # Constant flux\n",
    "greens_integral, _ = dblquad(lambda x, y: flux(x, y), -1, 1, lambda y: -sp.sqrt(1 - y**2), lambda y: sp.sqrt(1 - y**2))\n",
    "print(\"Green's Theorem Circulation:\", greens_integral)"
   ]
  },
  {
   "cell_type": "code",
   "execution_count": 69,
   "metadata": {},
   "outputs": [
    {
     "name": "stdout",
     "output_type": "stream",
     "text": [
      "Surface Integral of a Scalar Function: 389.6363641360098\n"
     ]
    }
   ],
   "source": [
    "# 8. Surface Integral of a Scalar Function\n",
    "# Computes the surface integral of a scalar function over a given region\n",
    "def scalar_surface_integral(r, theta):\n",
    "    return r**3\n",
    "surface_integral, _ = dblquad(scalar_surface_integral, 0, 1, lambda r: 0, lambda r: 2*np.pi)\n",
    "print(\"Surface Integral of a Scalar Function:\", surface_integral)"
   ]
  },
  {
   "cell_type": "code",
   "execution_count": 70,
   "metadata": {},
   "outputs": [
    {
     "name": "stdout",
     "output_type": "stream",
     "text": [
      "Surface Integral of a Vector Field: -1.5707963267948972\n"
     ]
    }
   ],
   "source": [
    "# 9. Surface Integral of a Vector Field\n",
    "# Computes the surface integral of a vector field over a surface\n",
    "def vector_surface_integral(x, y):\n",
    "    return -2*x**2 - 2*y**2 + (1 - x**2 - y**2)\n",
    "vector_integral, _ = dblquad(vector_surface_integral, -1, 1, lambda x: -sp.sqrt(1 - x**2), lambda x: sp.sqrt(1 - x**2))\n",
    "print(\"Surface Integral of a Vector Field:\", vector_integral)"
   ]
  },
  {
   "cell_type": "code",
   "execution_count": 71,
   "metadata": {},
   "outputs": [
    {
     "name": "stdout",
     "output_type": "stream",
     "text": [
      "Stokes' Theorem Integral: 0\n"
     ]
    }
   ],
   "source": [
    "# 10. Stokes' Theorem\n",
    "# Placeholder for Stokes' theorem calculation (Example simplified)\n",
    "stokes_integral = 0  # Stokes' theorem applied directly\n",
    "print(\"Stokes' Theorem Integral:\", stokes_integral)"
   ]
  },
  {
   "cell_type": "code",
   "execution_count": 72,
   "metadata": {},
   "outputs": [
    {
     "name": "stdout",
     "output_type": "stream",
     "text": [
      "Divergence Theorem Integral: 39.47841760435752\n"
     ]
    }
   ],
   "source": [
    "# 11. Divergence Theorem\n",
    "# Computes the volume integral for the divergence theorem\n",
    "def divergence_integral(x, y, z):\n",
    "    return 3\n",
    "volume_integral, _ = dblquad(lambda y, z: 3, -1, 1, lambda y: -sp.sqrt(1 - y**2), lambda y: sp.sqrt(1 - y**2))\n",
    "print(\"Divergence Theorem Integral:\", volume_integral * (4/3) * np.pi)"
   ]
  },
  {
   "cell_type": "code",
   "execution_count": 73,
   "metadata": {},
   "outputs": [],
   "source": [
    "import sympy as sp\n",
    "import numpy as np\n",
    "from scipy.special import factorial"
   ]
  },
  {
   "cell_type": "code",
   "execution_count": 74,
   "metadata": {},
   "outputs": [
    {
     "name": "stdout",
     "output_type": "stream",
     "text": [
      "Taylor Series Expansion of e^x at x=1: E*(x - 1)**3/6 + E*(x - 1)**2/2 + E*(x - 1) + E\n"
     ]
    }
   ],
   "source": [
    "# Taylor Series and Approximation\n",
    "# 1. Basic Taylor Series Expansion of e^x around x0 = 1\n",
    "x = sp.Symbol('x')\n",
    "f = sp.exp(x)\n",
    "taylor_exp = f.series(x, 1, 4).removeO()  # Up to third order term\n",
    "print(\"Taylor Series Expansion of e^x at x=1:\", taylor_exp)"
   ]
  },
  {
   "cell_type": "code",
   "execution_count": 75,
   "metadata": {},
   "outputs": [
    {
     "name": "stdout",
     "output_type": "stream",
     "text": [
      "Maclaurin Series for sin(x): x**5/120 - x**3/6 + x\n"
     ]
    }
   ],
   "source": [
    "# 2. Maclaurin Series for sin(x) (up to x^5 term)\n",
    "sin_maclaurin = sp.series(sp.sin(x), x, 0, 6).removeO()\n",
    "print(\"Maclaurin Series for sin(x):\", sin_maclaurin)"
   ]
  },
  {
   "cell_type": "code",
   "execution_count": 76,
   "metadata": {},
   "outputs": [
    {
     "name": "stdout",
     "output_type": "stream",
     "text": [
      "Approximation of e^0.1 using Taylor (2 terms): 1.1\n"
     ]
    }
   ],
   "source": [
    "# 3. Taylor Approximation (Truncated e^x at x=0.1, using only 2 terms)\n",
    "def taylor_approx_e_x(x):\n",
    "    return 1 + x  # First two terms of e^x expansion\n",
    "\n",
    "x_val = 0.1\n",
    "approx_val = taylor_approx_e_x(x_val)\n",
    "print(f\"Approximation of e^{x_val} using Taylor (2 terms): {approx_val}\")"
   ]
  },
  {
   "cell_type": "code",
   "execution_count": 77,
   "metadata": {},
   "outputs": [
    {
     "name": "stdout",
     "output_type": "stream",
     "text": [
      "Lagrange Error Term for e^x at x=0.5: 0.026750529514327947\n"
     ]
    }
   ],
   "source": [
    "# 4. Error in Taylor Approximation (Lagrange remainder for e^x at x=0.5)\n",
    "c = 0.25  # Approximate c in (0, x)\n",
    "error_term = (np.exp(c) / factorial(3)) * (0.5 ** 3)  # R3 term\n",
    "print(\"Lagrange Error Term for e^x at x=0.5:\", error_term)"
   ]
  },
  {
   "cell_type": "code",
   "execution_count": 78,
   "metadata": {},
   "outputs": [
    {
     "name": "stdout",
     "output_type": "stream",
     "text": [
      "Taylor Series for e^x cos(y) at (0,0): x + 1\n"
     ]
    }
   ],
   "source": [
    "# 5. Taylor Series for Multivariable Function f(x, y) = e^x cos(y)\n",
    "x, y = sp.symbols('x y')\n",
    "f_multi = sp.exp(x) * sp.cos(y)\n",
    "taylor_multi = f_multi.series(x, 0, 2).removeO().series(y, 0, 2).removeO()\n",
    "print(\"Taylor Series for e^x cos(y) at (0,0):\", taylor_multi)"
   ]
  },
  {
   "cell_type": "code",
   "execution_count": 79,
   "metadata": {},
   "outputs": [
    {
     "name": "stdout",
     "output_type": "stream",
     "text": [
      "Approximation of sqrt(1.1) using Taylor: 1.04875\n"
     ]
    }
   ],
   "source": [
    "# 6. Approximation of sqrt(1+x) using Taylor Series (up to x^2 term)\n",
    "def sqrt_taylor(x):\n",
    "    return 1 + x/2 - (x**2)/8  # First three terms\n",
    "\n",
    "x_val = 0.1\n",
    "approx_sqrt = sqrt_taylor(x_val)\n",
    "print(f\"Approximation of sqrt(1.1) using Taylor: {approx_sqrt}\")"
   ]
  },
  {
   "cell_type": "code",
   "execution_count": 80,
   "metadata": {},
   "outputs": [],
   "source": [
    "import numpy as np\n",
    "import matplotlib.pyplot as plt\n",
    "from scipy.integrate import solve_ivp\n",
    "from sympy import symbols, Function, Eq, dsolve, Derivative"
   ]
  },
  {
   "cell_type": "code",
   "execution_count": 82,
   "metadata": {},
   "outputs": [
    {
     "data": {
      "image/png": "[encoded data removed]",
      "text/plain": [
       "<Figure size 640x480 with 1 Axes>"
      ]
     },
     "metadata": {},
     "output_type": "display_data"
    },
    {
     "name": "stdout",
     "output_type": "stream",
     "text": [
      "Second-Order ODE Solution: Eq(y(x), (C1 + C2*exp(x))*exp(x))\n",
      "Third-Order ODE Solution: Eq(y(x), C1 + C2*exp(-2*x) + C3*exp(3*x))\n"
     ]
    },
    {
     "data": {
      "image/png": "[encoded data removed]",
      "text/plain": [
       "<Figure size 640x480 with 1 Axes>"
      ]
     },
     "metadata": {},
     "output_type": "display_data"
    },
    {
     "name": "stdout",
     "output_type": "stream",
     "text": [
      "General solution: u(x, y) = f(y - 2x)\n",
      "Solution: u(x,t) = f(x - ct) + g(x + ct)\n",
      "Boundary Value Problem Solution: Eq(y(x), C1*sin(x) + C2*cos(x))\n",
      "Solution: u(x,y) = A cosh(kx) sin(ky)\n",
      "Solution: u(x,t) = sum(b_n e^(-α² k_n² t) sin(k_n x))\n",
      "Euler-Lagrange Solution: Eq(y(x), C1*exp(-x) + C2*exp(x))\n"
     ]
    }
   ],
   "source": [
    "# Differential Equations\n",
    "# 1. First-Order ODE (Separable Differential Equation)\n",
    "def first_order_ode():\n",
    "    def dydx(x, y):\n",
    "        return x * y\n",
    "    \n",
    "    x_vals = np.linspace(0, 2, 100)\n",
    "    sol = solve_ivp(dydx, [0, 2], [1], t_eval=x_vals)\n",
    "    plt.plot(sol.t, sol.y[0], label='y(x)')\n",
    "    plt.xlabel('x')\n",
    "    plt.ylabel('y')\n",
    "    plt.title('Solution of dy/dx = xy')\n",
    "    plt.legend()\n",
    "    plt.show()\n",
    "\n",
    "# 2. Second-Order ODE (Constant Coefficients)\n",
    "def second_order_ode():\n",
    "    x = symbols('x')\n",
    "    y = Function('y')(x)\n",
    "    ode = Eq(Derivative(y, x, x) - 3*Derivative(y, x) + 2*y, 0)\n",
    "    sol = dsolve(ode)\n",
    "    print(\"Second-Order ODE Solution:\", sol)\n",
    "\n",
    "# 3. Higher-Order ODE (Third-Order)\n",
    "def third_order_ode():\n",
    "    x = symbols('x')\n",
    "    y = Function('y')(x)\n",
    "    ode = Eq(Derivative(y, x, x, x) - Derivative(y, x, x) - 6*Derivative(y, x), 0)\n",
    "    sol = dsolve(ode)\n",
    "    print(\"Third-Order ODE Solution:\", sol)\n",
    "\n",
    "# 4. System of ODEs\n",
    "def system_of_odes():\n",
    "    def system(t, z):\n",
    "        x, y = z\n",
    "        dxdt = x + y\n",
    "        dydt = x - y\n",
    "        return [dxdt, dydt]\n",
    "    \n",
    "    t_vals = np.linspace(0, 5, 100)\n",
    "    sol = solve_ivp(system, [0, 5], [1, 0], t_eval=t_vals)\n",
    "    plt.plot(sol.t, sol.y[0], label='x(t)')\n",
    "    plt.plot(sol.t, sol.y[1], label='y(t)')\n",
    "    plt.xlabel('t')\n",
    "    plt.ylabel('Values')\n",
    "    plt.title('System of ODEs')\n",
    "    plt.legend()\n",
    "    plt.show()\n",
    "\n",
    "# 5. First-Order PDE (Method of Characteristics)\n",
    "def first_order_pde():\n",
    "    print(\"General solution: u(x, y) = f(y - 2x)\")\n",
    "\n",
    "# 6. Second-Order PDE (Wave Equation)\n",
    "def second_order_pde():\n",
    "    print(\"Solution: u(x,t) = f(x - ct) + g(x + ct)\")\n",
    "\n",
    "# 7. Boundary Value Problem\n",
    "def boundary_value_problem():\n",
    "    x = symbols('x')\n",
    "    y = Function('y')(x)\n",
    "    ode = Eq(Derivative(y, x, x) + y, 0)\n",
    "    sol = dsolve(ode)\n",
    "    print(\"Boundary Value Problem Solution:\", sol)\n",
    "\n",
    "# 8. Laplace’s Equation\n",
    "def laplace_equation():\n",
    "    print(\"Solution: u(x,y) = A cosh(kx) sin(ky)\")\n",
    "\n",
    "# 9. Fourier Series for PDEs\n",
    "def fourier_series_pde():\n",
    "    print(\"Solution: u(x,t) = sum(b_n e^(-α² k_n² t) sin(k_n x))\")\n",
    "\n",
    "# 10. Calculus of Variations\n",
    "def calculus_of_variations():\n",
    "    x = symbols('x')\n",
    "    y = Function('y')(x)\n",
    "    F = y.diff(x)**2 + y**2\n",
    "    eq = Eq(Derivative(F, y) - Derivative(Derivative(F, y.diff(x)), x), 0)\n",
    "    sol = dsolve(eq)\n",
    "    print(\"Euler-Lagrange Solution:\", sol)\n",
    "\n",
    "# Run Examples\n",
    "first_order_ode()\n",
    "second_order_ode()\n",
    "third_order_ode()\n",
    "system_of_odes()\n",
    "first_order_pde()\n",
    "second_order_pde()\n",
    "boundary_value_problem()\n",
    "laplace_equation()\n",
    "fourier_series_pde()\n",
    "calculus_of_variations()\n"
   ]
  }
 ],
 "metadata": {
  "kernelspec": {
   "display_name": "Python 3",
   "language": "python",
   "name": "python3"
  },
  "language_info": {
   "codemirror_mode": {
    "name": "ipython",
    "version": 3
   },
   "file_extension": ".py",
   "mimetype": "text/x-python",
   "name": "python",
   "nbconvert_exporter": "python",
   "pygments_lexer": "ipython3",
   "version": "3.13.0"
  }
 },
 "nbformat": 4,
 "nbformat_minor": 2
}
