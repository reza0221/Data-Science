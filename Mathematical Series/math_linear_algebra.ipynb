{
 "cells": [
  {
   "cell_type": "code",
   "execution_count": 1,
   "metadata": {},
   "outputs": [],
   "source": [
    "import numpy as np"
   ]
  },
  {
   "cell_type": "code",
   "execution_count": 2,
   "metadata": {},
   "outputs": [
    {
     "name": "stdout",
     "output_type": "stream",
     "text": [
      "Scalar Addition: 8\n"
     ]
    }
   ],
   "source": [
    "# Scalar Operations\n",
    "# Example 1: Scalar Addition\n",
    "scalar_a = 5\n",
    "scalar_b = 3\n",
    "scalar_addition = scalar_a +scalar_b\n",
    "print(\"Scalar Addition:\", scalar_addition)"
   ]
  },
  {
   "cell_type": "code",
   "execution_count": 3,
   "metadata": {},
   "outputs": [
    {
     "name": "stdout",
     "output_type": "stream",
     "text": [
      "Scalar Subtraction: 2\n"
     ]
    }
   ],
   "source": [
    "# Example 2: Scalar Subtraction\n",
    "scalar_subtraction = scalar_a - scalar_b\n",
    "print(\"Scalar Subtraction:\", scalar_subtraction)"
   ]
  },
  {
   "cell_type": "code",
   "execution_count": 4,
   "metadata": {},
   "outputs": [
    {
     "name": "stdout",
     "output_type": "stream",
     "text": [
      "Scalar Multiplication: 15\n"
     ]
    }
   ],
   "source": [
    "# Example 3: Scalar Multiplication\n",
    "scalar_multiplication = scalar_a * scalar_b\n",
    "print(\"Scalar Multiplication:\", scalar_multiplication)"
   ]
  },
  {
   "cell_type": "code",
   "execution_count": 5,
   "metadata": {},
   "outputs": [
    {
     "name": "stdout",
     "output_type": "stream",
     "text": [
      "Scalar Division: 1.6666666666666667\n"
     ]
    }
   ],
   "source": [
    "# Example 4: Scalar Division\n",
    "scalar_division = scalar_a / scalar_b  # Ensure b is not zero\n",
    "print(\"Scalar Division:\", scalar_division)"
   ]
  },
  {
   "cell_type": "code",
   "execution_count": 6,
   "metadata": {},
   "outputs": [
    {
     "name": "stdout",
     "output_type": "stream",
     "text": [
      "Scalar Exponentiation: 125\n"
     ]
    }
   ],
   "source": [
    "# Example 5: Scalar Exponentiation\n",
    "scalar_exponentiation = scalar_a ** scalar_b\n",
    "print(\"Scalar Exponentiation:\", scalar_exponentiation)"
   ]
  },
  {
   "cell_type": "code",
   "execution_count": 7,
   "metadata": {},
   "outputs": [
    {
     "name": "stdout",
     "output_type": "stream",
     "text": [
      "Vector Addition: [7 5 4]\n"
     ]
    }
   ],
   "source": [
    "# Vector Operations using NumPy\n",
    "# Example 1: Vector Addition\n",
    "a = np.array([3, -2, 5]) # Convert the list into NumPy array for vectorized ops\n",
    "b = np.array([4, 7, -1]) # Convert the list into Numpy array for vectorized ops\n",
    "vector_addition = a + b\n",
    "print(\"Vector Addition:\", vector_addition)"
   ]
  },
  {
   "cell_type": "code",
   "execution_count": 8,
   "metadata": {},
   "outputs": [
    {
     "name": "stdout",
     "output_type": "stream",
     "text": [
      "Vector Subtraction: [ 5 -7  7]\n"
     ]
    }
   ],
   "source": [
    "# Example 2: Vector Subtraction\n",
    "a = np.array([6, -3, 2]) # Convert the list into NumPy array for vectorized ops\n",
    "b = np.array([1, 4, -5]) # Convert the list into NumPy array for vectorized ops\n",
    "vector_subtraction = a - b\n",
    "print(\"Vector Subtraction:\", vector_subtraction)"
   ]
  },
  {
   "cell_type": "code",
   "execution_count": 9,
   "metadata": {},
   "outputs": [
    {
     "name": "stdout",
     "output_type": "stream",
     "text": [
      "Scalar Multiplication with a Vector: [-6 15 12]\n"
     ]
    }
   ],
   "source": [
    "# Example 3: Scalar Multiplication\n",
    "scalar = 3\n",
    "a = np.array([-2, 5, 4]) # Convert the list into NumPy array for vectorized ops\n",
    "scalar_multiplication_vector = scalar * a\n",
    "print(\"Scalar Multiplication with a Vector:\", scalar_multiplication_vector)"
   ]
  },
  {
   "cell_type": "code",
   "execution_count": 10,
   "metadata": {},
   "outputs": [
    {
     "name": "stdout",
     "output_type": "stream",
     "text": [
      "Element-wise Vector Multiplication: [ 8 -5 -6]\n"
     ]
    }
   ],
   "source": [
    "# Example 4: Element-wise Vector Multiplication\n",
    "a = np.array([2, -1, 3]) # Convert the list into NumPy array for vectorized ops\n",
    "b = np.array([4, 5, -2]) # Convert the list into NumPy array for vectorized ops\n",
    "elementwise_multiplication = a * b\n",
    "print(\"Element-wise Vector Multiplication:\", elementwise_multiplication)"
   ]
  },
  {
   "cell_type": "code",
   "execution_count": 11,
   "metadata": {},
   "outputs": [
    {
     "name": "stdout",
     "output_type": "stream",
     "text": [
      "Dot Product: 12\n"
     ]
    }
   ],
   "source": [
    "# Example 5: Dot Product\n",
    "a = np.array([1, 2, 3]) # Convert the list into NumPy array for vectorized ops\n",
    "b = np.array([4, -5, 6]) # Convert the list into NumPy array for vectorized ops\n",
    "dot_product = np.dot(a, b) # Compute dot product on of two vectors a & b\n",
    "print(\"Dot Product:\", dot_product)"
   ]
  },
  {
   "cell_type": "code",
   "execution_count": 12,
   "metadata": {},
   "outputs": [
    {
     "name": "stdout",
     "output_type": "stream",
     "text": [
      "Cross Product: [-3  6 -3]\n"
     ]
    }
   ],
   "source": [
    "# Example 6: Cross Product\n",
    "a = np.array([1, 2, 3]) # Convert the list into NumPy array for vectorized ops\n",
    "b = np.array([4, 5, 6]) # Convert the list into NumPy array for vectorized ops\n",
    "cross_product = np.cross(a, b) # Compute cross product of two vectors a & b\n",
    "print(\"Cross Product:\", cross_product)"
   ]
  },
  {
   "cell_type": "code",
   "execution_count": 13,
   "metadata": {},
   "outputs": [
    {
     "name": "stdout",
     "output_type": "stream",
     "text": [
      "Magnitude of Vector: 7.0710678118654755\n"
     ]
    }
   ],
   "source": [
    "# Example 7: Magnitude (Norm) of a Vector\n",
    "a = np.array([3, 4, 5]) # Convert the list into NumPy array for vectorized ops\n",
    "magnitude = np.linalg.norm(a) # Compute the magnitude/length of a vector a\n",
    "print(\"Magnitude of Vector:\", magnitude)"
   ]
  },
  {
   "cell_type": "code",
   "execution_count": 14,
   "metadata": {},
   "outputs": [
    {
     "name": "stdout",
     "output_type": "stream",
     "text": [
      "Unit Vector: [0.42426407 0.56568542 0.70710678]\n"
     ]
    }
   ],
   "source": [
    "# Example 8: Unit Vector Calculation\n",
    "a = np.array([3, 4, 5]) # Convert the list into NumPy array for vectorized ops\n",
    "unit_vector = a / np.linalg.norm(a) # Compute the unit vector of a given the length of a vector a\n",
    "print(\"Unit Vector:\", unit_vector)"
   ]
  },
  {
   "cell_type": "code",
   "execution_count": 15,
   "metadata": {},
   "outputs": [
    {
     "name": "stdout",
     "output_type": "stream",
     "text": [
      "Projection of a onto b: [2. 0. 0.]\n"
     ]
    }
   ],
   "source": [
    "# Example 9: Projection of One Vector onto Another\n",
    "a = np.array([2, 3, 4]) # Convert the list into NumPy array for vectorized ops\n",
    "b = np.array([1, 0, 0]) # Convert the list into NumPy array for vectorized ops\n",
    "projection = (np.dot(a, b) / np.dot(b, b)) * b # Compute the projection of a onto b\n",
    "print(\"Projection of a onto b:\", projection)"
   ]
  },
  {
   "cell_type": "code",
   "execution_count": 16,
   "metadata": {},
   "outputs": [
    {
     "name": "stdout",
     "output_type": "stream",
     "text": [
      "Angle Between Vectors (Degrees): 90.0\n"
     ]
    }
   ],
   "source": [
    "# Example 10: Angle Between Two Vectors\n",
    "a = np.array([1, 0, 0]) # Convert the list into NumPy array for vectorized ops\n",
    "b = np.array([0, 1, 0]) # Convert the list into NumPy array for vectorized ops\n",
    "cos_theta = np.dot(a, b) / (np.linalg.norm(a) * np.linalg.norm(b)) # Compute the cosine of the angle θ between two vectors a & b\n",
    "angle_radians = np.arccos(cos_theta) # Compute the inverse cosine\n",
    "angle_degrees = np.degrees(angle_radians) # Converts an angle from radians to degrees\n",
    "print(\"Angle Between Vectors (Degrees):\", angle_degrees)"
   ]
  },
  {
   "cell_type": "code",
   "execution_count": 17,
   "metadata": {},
   "outputs": [
    {
     "name": "stdout",
     "output_type": "stream",
     "text": [
      "Distance Between Points: 5.196152422706632\n"
     ]
    }
   ],
   "source": [
    "# Example 11: Distance Between Two Points\n",
    "a = np.array([1, 2, 3]) # Convert the list into NumPy array for vectorized ops\n",
    "b = np.array([4, 5, 6]) # Convert the list into NumPy array for vectorized ops\n",
    "distance = np.linalg.norm(a - b) # Compute the magnitude (Euclidean Nrom) between two vectors a & b\n",
    "print(\"Distance Between Points:\", distance)"
   ]
  },
  {
   "cell_type": "code",
   "execution_count": 18,
   "metadata": {},
   "outputs": [
    {
     "name": "stdout",
     "output_type": "stream",
     "text": [
      "Matrix Addition:\n",
      " [[ 6  8]\n",
      " [10 12]]\n"
     ]
    }
   ],
   "source": [
    "# Matrix Operations\n",
    "# 1. Matrix Addition\n",
    "A = np.array([[1, 2], [3, 4]]) # Convert the list into NumPy array for vectorized ops\n",
    "B = np.array([[5, 6], [7, 8]]) # Convert the list into NumPy array for vectorized ops\n",
    "addition_result = A + B\n",
    "print(\"Matrix Addition:\\n\", addition_result)"
   ]
  },
  {
   "cell_type": "code",
   "execution_count": 19,
   "metadata": {},
   "outputs": [
    {
     "name": "stdout",
     "output_type": "stream",
     "text": [
      "Matrix Subtraction:\n",
      " [[-4 -4]\n",
      " [-4 -4]]\n"
     ]
    }
   ],
   "source": [
    "# 2. Matrix Subtraction\n",
    "subtraction_result = A - B\n",
    "print(\"Matrix Subtraction:\\n\", subtraction_result)"
   ]
  },
  {
   "cell_type": "code",
   "execution_count": 20,
   "metadata": {},
   "outputs": [
    {
     "name": "stdout",
     "output_type": "stream",
     "text": [
      "Scalar Multiplication:\n",
      " [[ 3  6]\n",
      " [ 9 12]]\n"
     ]
    }
   ],
   "source": [
    "# 3. Scalar Multiplication\n",
    "scalar = 3\n",
    "scalar_multiplication_result = scalar * A\n",
    "print(\"Scalar Multiplication:\\n\", scalar_multiplication_result)"
   ]
  },
  {
   "cell_type": "code",
   "execution_count": 21,
   "metadata": {},
   "outputs": [
    {
     "name": "stdout",
     "output_type": "stream",
     "text": [
      "Matrix Multiplication (Dot Product):\n",
      " [[11 16]\n",
      " [19 28]]\n"
     ]
    }
   ],
   "source": [
    "# 4. Matrix Multiplication (Dot Product)\n",
    "C = np.array([[2, 3], [4, 5]]) # Convert the list into NumPy array for vectorized ops\n",
    "D = np.array([[1, 2], [3, 4]]) # Convert the list into NumPy array for vectorized ops\n",
    "matrix_multiplication_result = np.dot(C, D) # Compute the dot product of two arrays a & b\n",
    "print(\"Matrix Multiplication (Dot Product):\\n\", matrix_multiplication_result)"
   ]
  },
  {
   "cell_type": "code",
   "execution_count": 22,
   "metadata": {},
   "outputs": [
    {
     "name": "stdout",
     "output_type": "stream",
     "text": [
      "Element-wise Multiplication:\n",
      " [[ 5 12]\n",
      " [21 32]]\n"
     ]
    }
   ],
   "source": [
    "# 5. Element-wise Multiplication\n",
    "elementwise_multiplication_result = A * B\n",
    "print(\"Element-wise Multiplication:\\n\", elementwise_multiplication_result)"
   ]
  },
  {
   "cell_type": "code",
   "execution_count": 23,
   "metadata": {},
   "outputs": [
    {
     "name": "stdout",
     "output_type": "stream",
     "text": [
      "Matrix Transposition:\n",
      " [[1 3]\n",
      " [2 4]]\n"
     ]
    }
   ],
   "source": [
    "# 6. Matrix Transposition\n",
    "transpose_result = A.T # Transpose the matrix A\n",
    "print(\"Matrix Transposition:\\n\", transpose_result)"
   ]
  },
  {
   "cell_type": "code",
   "execution_count": 24,
   "metadata": {},
   "outputs": [
    {
     "name": "stdout",
     "output_type": "stream",
     "text": [
      "Matrix Determinant:\n",
      " 10.000000000000002\n"
     ]
    }
   ],
   "source": [
    "# 7. Matrix Determinant Calculation\n",
    "E = np.array([[4, 7], [2, 6]]) # Convert the list into NumPy array for vectorized ops\n",
    "determinant_result = np.linalg.det(E) # Compute the determinant of a square matrix E\n",
    "print(\"Matrix Determinant:\\n\", determinant_result)"
   ]
  },
  {
   "cell_type": "code",
   "execution_count": 25,
   "metadata": {},
   "outputs": [
    {
     "name": "stdout",
     "output_type": "stream",
     "text": [
      "Matrix Inversion:\n",
      " [[ 0.6 -0.7]\n",
      " [-0.2  0.4]]\n"
     ]
    }
   ],
   "source": [
    "# 8. Matrix Inversion\n",
    "inverse_result = np.linalg.inv(E) # Compute the inverse of a square matrix E\n",
    "print(\"Matrix Inversion:\\n\", inverse_result)"
   ]
  },
  {
   "cell_type": "code",
   "execution_count": 26,
   "metadata": {},
   "outputs": [
    {
     "name": "stdout",
     "output_type": "stream",
     "text": [
      "Matrix Rank:\n",
      " 2\n"
     ]
    }
   ],
   "source": [
    "# 9. Matrix Rank Calculation\n",
    "F = np.array([[1, 2, 3], [4, 5, 6], [7, 8, 9]]) # Convert the list into NumPy array for vectorized ops\n",
    "rank_result = np.linalg.matrix_rank(F) # Compute the rank of a matrix F\n",
    "print(\"Matrix Rank:\\n\", rank_result)"
   ]
  },
  {
   "cell_type": "code",
   "execution_count": 27,
   "metadata": {},
   "outputs": [
    {
     "name": "stdout",
     "output_type": "stream",
     "text": [
      "Eigenvalues:\n",
      " [3. 2.]\n",
      "Eigenvectors:\n",
      " [[0.89442719 0.70710678]\n",
      " [0.4472136  0.70710678]]\n"
     ]
    }
   ],
   "source": [
    "# 10. Eigenvalues and Eigenvectors Calculation\n",
    "G = np.array([[4, -2], [1, 1]]) # Convert the list into NumPy array for vectorized ops\n",
    "eigenvalues, eigenvectors = np.linalg.eig(G) # Compute the eigenvalues and eigenvectors of a square matrix G\n",
    "print(\"Eigenvalues:\\n\", eigenvalues)\n",
    "print(\"Eigenvectors:\\n\", eigenvectors)"
   ]
  },
  {
   "cell_type": "code",
   "execution_count": 28,
   "metadata": {},
   "outputs": [
    {
     "name": "stdout",
     "output_type": "stream",
     "text": [
      "Tensor Addition:\n",
      " [[ 6  8]\n",
      " [10 12]]\n"
     ]
    }
   ],
   "source": [
    "# 1. Tensor Addition\n",
    "A = np.array([[1, 2], [3, 4]]) # Convert the list into NumPy array for vectorized ops\n",
    "B = np.array([[5, 6], [7, 8]]) # Convert the list into NumPy array for vectorized ops\n",
    "addition_result = A + B\n",
    "print(\"Tensor Addition:\\n\", addition_result)"
   ]
  },
  {
   "cell_type": "code",
   "execution_count": 29,
   "metadata": {},
   "outputs": [
    {
     "name": "stdout",
     "output_type": "stream",
     "text": [
      "Tensor Subtraction:\n",
      " [[-4 -4]\n",
      " [-4 -4]]\n"
     ]
    }
   ],
   "source": [
    "# 2. Tensor Subtraction\n",
    "subtraction_result = A - B\n",
    "print(\"Tensor Subtraction:\\n\", subtraction_result)"
   ]
  },
  {
   "cell_type": "code",
   "execution_count": 30,
   "metadata": {},
   "outputs": [
    {
     "name": "stdout",
     "output_type": "stream",
     "text": [
      "Scalar Multiplication:\n",
      " [[ 3  6]\n",
      " [ 9 12]]\n"
     ]
    }
   ],
   "source": [
    "# 3. Scalar Multiplication\n",
    "scalar = 3\n",
    "scalar_multiplication_result = scalar * A\n",
    "print(\"Scalar Multiplication:\\n\", scalar_multiplication_result)"
   ]
  },
  {
   "cell_type": "code",
   "execution_count": 31,
   "metadata": {},
   "outputs": [
    {
     "name": "stdout",
     "output_type": "stream",
     "text": [
      "Tensor Multiplication (Dot Product):\n",
      " [[11 16]\n",
      " [19 28]]\n"
     ]
    }
   ],
   "source": [
    "# 4. Tensor Multiplication (Dot Product)\n",
    "C = np.array([[2, 3], [4, 5]]) # Convert the list into NumPy array for vectorized ops\n",
    "D = np.array([[1, 2], [3, 4]]) # Convert the list into NumPy array for vectorized ops\n",
    "dot_product_result = np.dot(C, D) # Compute the dot product of two arrays a & b\n",
    "print(\"Tensor Multiplication (Dot Product):\\n\", dot_product_result)"
   ]
  },
  {
   "cell_type": "code",
   "execution_count": 32,
   "metadata": {},
   "outputs": [
    {
     "name": "stdout",
     "output_type": "stream",
     "text": [
      "Element-wise Multiplication:\n",
      " [[ 5 12]\n",
      " [21 32]]\n"
     ]
    }
   ],
   "source": [
    "# 5. Element-wise Multiplication\n",
    "elementwise_multiplication_result = A * B\n",
    "print(\"Element-wise Multiplication:\\n\", elementwise_multiplication_result)"
   ]
  },
  {
   "cell_type": "code",
   "execution_count": 33,
   "metadata": {},
   "outputs": [
    {
     "name": "stdout",
     "output_type": "stream",
     "text": [
      "Tensor Transposition:\n",
      " [[1 4]\n",
      " [2 5]\n",
      " [3 6]]\n"
     ]
    }
   ],
   "source": [
    "# 6. Tensor Transposition\n",
    "T = np.array([[1, 2, 3], [4, 5, 6]]) # Convert the list into NumPy array for vectorized ops\n",
    "transpose_result = T.T # Transpose the matrix T\n",
    "print(\"Tensor Transposition:\\n\", transpose_result)"
   ]
  },
  {
   "cell_type": "code",
   "execution_count": 34,
   "metadata": {},
   "outputs": [
    {
     "name": "stdout",
     "output_type": "stream",
     "text": [
      "Tensor Contraction (Summation over Axes):\n",
      " [[ 6  8]\n",
      " [10 12]]\n"
     ]
    }
   ],
   "source": [
    "T_3D = np.array([[[1, 2], [3, 4]], [[5, 6], [7, 8]]]) # Convert the list into NumPy array for vectorized ops\n",
    "summed_result = np.sum(T_3D, axis=0) # Compute the sum of elements in a multi-dimensional array along a specified axis\n",
    "print(\"Tensor Contraction (Summation over Axes):\\n\", summed_result)"
   ]
  },
  {
   "cell_type": "code",
   "execution_count": 35,
   "metadata": {},
   "outputs": [],
   "source": [
    "from sympy import symbols, expand\n",
    "from scipy.integrate import quad"
   ]
  },
  {
   "cell_type": "code",
   "execution_count": 36,
   "metadata": {},
   "outputs": [
    {
     "name": "stdout",
     "output_type": "stream",
     "text": [
      "Real Vector Space: (array([6, 2]), array([4, 6]))\n",
      "Complex Vector Space: (array([4.-1.j, 1.+0.j]), array([1.+3.j, 5.+0.j]))\n",
      "Euclidean Space: 32\n",
      "Function Space: (0.33333333333333337, 1.3333333333333333)\n",
      "Polynomial Vector Space: (5*x**2 + x + 8, -2*x**2 - 4*x - 6)\n",
      "Matrix Vector Space: (array([[ 6,  8],\n",
      "       [10, 12]]), array([[2, 4],\n",
      "       [6, 8]]))\n",
      "Normed Vector Space: 13.0\n"
     ]
    }
   ],
   "source": [
    "# Vector Spaces\n",
    "# 1. Real Vector Space (ℝ) Operations\n",
    "def real_vector_space():\n",
    "    v1 = np.array([2, 3])  # Define first vector\n",
    "    v2 = np.array([4, -1]) # Define second vector\n",
    "    addition = v1 + v2  # Vector addition\n",
    "    scalar_mult = 2 * v1  # Scalar multiplication\n",
    "    return addition, scalar_mult\n",
    "\n",
    "# 2. Complex Vector Space (ℂ) Operations\n",
    "def complex_vector_space():\n",
    "    w1 = np.array([1 + 1j, 2 - 1j])  # Define first complex vector\n",
    "    w2 = np.array([3 - 2j, -1 + 1j]) # Define second complex vector\n",
    "    addition = w1 + w2  # Complex vector addition\n",
    "    scalar_mult = (2 + 1j) * w1  # Scalar multiplication with a complex number\n",
    "    return addition, scalar_mult\n",
    "\n",
    "# 3. Euclidean Space (ℝⁿ) Operations\n",
    "def euclidean_space():\n",
    "    x = np.array([1, 2, 3])  # First vector in Euclidean space\n",
    "    y = np.array([4, 5, 6])  # Second vector in Euclidean space\n",
    "    dot_product = np.dot(x, y)  # Compute dot product\n",
    "    return dot_product\n",
    "\n",
    "# 4. Function Space (Integrating functions)\n",
    "def function_space():\n",
    "    f = lambda x: x**2  # Define first function f(x) = x²\n",
    "    g = lambda x: 2*x  # Define second function g(x) = 2x\n",
    "    f_plus_g = lambda x: f(x) + g(x)  # Function addition (f + g)\n",
    "    integral_f, _ = quad(f, 0, 1)  # Integrate f(x) from 0 to 1\n",
    "    integral_f_plus_g, _ = quad(f_plus_g, 0, 1)  # Integrate (f + g) from 0 to 1\n",
    "    return integral_f, integral_f_plus_g\n",
    "\n",
    "# 5. Polynomial Vector Space\n",
    "def polynomial_vector_space():\n",
    "    x = symbols('x')  # Define a symbolic variable x\n",
    "    p = x**2 + 2*x + 3  # Define first polynomial\n",
    "    q = 4*x**2 - x + 5  # Define second polynomial\n",
    "    addition = expand(p + q)  # Polynomial addition\n",
    "    scalar_mult = expand(-2 * p)  # Scalar multiplication by -2\n",
    "    return addition, scalar_mult\n",
    "\n",
    "# 6. Matrix Vector Space\n",
    "def matrix_vector_space():\n",
    "    A = np.array([[1, 2], [3, 4]])  # Define first matrix\n",
    "    B = np.array([[5, 6], [7, 8]])  # Define second matrix\n",
    "    addition = A + B  # Matrix addition\n",
    "    scalar_mult = 2 * A  # Scalar multiplication\n",
    "    return addition, scalar_mult\n",
    "\n",
    "# 7. Normed Vector Space\n",
    "def normed_vector_space():\n",
    "    v = np.array([3, 4, 12])  # Define a vector\n",
    "    norm = np.linalg.norm(v)  # Compute Euclidean norm (magnitude)\n",
    "    return norm\n",
    "\n",
    "# Running all functions and printing results\n",
    "if __name__ == \"__main__\":\n",
    "    print(\"Real Vector Space:\", real_vector_space())\n",
    "    print(\"Complex Vector Space:\", complex_vector_space())\n",
    "    print(\"Euclidean Space:\", euclidean_space())\n",
    "    print(\"Function Space:\", function_space())\n",
    "    print(\"Polynomial Vector Space:\", polynomial_vector_space())\n",
    "    print(\"Matrix Vector Space:\", matrix_vector_space())\n",
    "    print(\"Normed Vector Space:\", normed_vector_space())"
   ]
  },
  {
   "cell_type": "code",
   "execution_count": 37,
   "metadata": {},
   "outputs": [],
   "source": [
    "from sympy import Matrix"
   ]
  },
  {
   "cell_type": "code",
   "execution_count": 38,
   "metadata": {},
   "outputs": [
    {
     "name": "stdout",
     "output_type": "stream",
     "text": [
      "Basic Linear Combination: [8 1]\n",
      "Is Vector in Span: (True, array([-1.,  2.]))\n",
      "Span of Two Vectors: True\n",
      "Span of Set of Vectors: True\n",
      "Basis and Dimension of Span: ([Matrix([\n",
      "[1],\n",
      "[2],\n",
      "[3]]), Matrix([\n",
      "[2],\n",
      "[4],\n",
      "[1]])], 2)\n"
     ]
    }
   ],
   "source": [
    "#Linear Combination & Span\n",
    "# 1. Basic Linear Combination\n",
    "# Computes a linear combination of two vectors with given scalar coefficients.\n",
    "def basic_linear_combination():\n",
    "    v1 = np.array([2, 3])  # First vector\n",
    "    v2 = np.array([-1, 4])  # Second vector\n",
    "    a, b = 3, -2  # Scalars\n",
    "    result = a * v1 + b * v2  # Linear combination formula\n",
    "    return result\n",
    "\n",
    "# 2. Checking if a Vector is in the Span\n",
    "# Determines whether a vector can be expressed as a linear combination of given vectors.\n",
    "def is_vector_in_span():\n",
    "    A = np.array([[1, 3], [2, 4]])  # Matrix formed by spanning vectors\n",
    "    b = np.array([5, 6])  # Target vector to check\n",
    "    try:\n",
    "        solution = np.linalg.solve(A, b)  # Solves Ax = b for x\n",
    "        return True, solution  # If successful, vector is in span\n",
    "    except np.linalg.LinAlgError:\n",
    "        return False, None  # If no solution, vector is not in span\n",
    "\n",
    "# 3. Span of Two Vectors\n",
    "# Checks whether two vectors span R^2 by computing matrix rank.\n",
    "def span_of_two_vectors():\n",
    "    v1 = np.array([1, 2])  # First vector\n",
    "    v2 = np.array([3, 5])  # Second vector\n",
    "    span = np.column_stack((v1, v2))  # Form matrix with vectors as columns\n",
    "    rank = np.linalg.matrix_rank(span)  # Compute rank of matrix\n",
    "    return rank == 2  # If rank is 2, they span R^2\n",
    "\n",
    "# 4. Span of a Set of Vectors\n",
    "# Checks whether a given set of vectors spans R^3.\n",
    "def span_of_set_of_vectors():\n",
    "    V = np.array([[1, 0, 0], [0, 1, 0], [0, 0, 1]])  # Standard basis vectors in R^3\n",
    "    rank = np.linalg.matrix_rank(V)  # Compute rank of matrix\n",
    "    return rank == 3  # If rank is 3, they span R^3\n",
    "\n",
    "# 5. Basis and Dimension of a Span\n",
    "# Finds the basis and dimension of the span of a given set of vectors.\n",
    "def basis_and_dimension_of_span():\n",
    "    vectors = Matrix([[1, 2, 3], [2, 4, 6], [3, 1, 4]])  # Given set of vectors\n",
    "    reduced, pivots = vectors.rref()  # Compute reduced row echelon form (RREF)\n",
    "    basis_vectors = [vectors[:, i] for i in pivots]  # Extract basis vectors\n",
    "    dimension = len(basis_vectors)  # Count number of basis vectors\n",
    "    return basis_vectors, dimension\n",
    "\n",
    "# Running the functions\n",
    "if __name__ == \"__main__\":\n",
    "    print(\"Basic Linear Combination:\", basic_linear_combination())\n",
    "    print(\"Is Vector in Span:\", is_vector_in_span())\n",
    "    print(\"Span of Two Vectors:\", span_of_two_vectors())\n",
    "    print(\"Span of Set of Vectors:\", span_of_set_of_vectors())\n",
    "    print(\"Basis and Dimension of Span:\", basis_and_dimension_of_span())"
   ]
  },
  {
   "cell_type": "code",
   "execution_count": 39,
   "metadata": {},
   "outputs": [
    {
     "name": "stdout",
     "output_type": "stream",
     "text": [
      "Scaling: [6 8]\n",
      "Rotation (90 degrees): [-4.  3.]\n",
      "Reflection across x-axis: [ 3 -4]\n",
      "Shear transformation: [9. 4.]\n",
      "Projection onto another vector: [2.2 4.4]\n",
      "Identity transformation: [3. 4.]\n"
     ]
    }
   ],
   "source": [
    "# Linear Transformations\n",
    "def scaling_transformation(vector, scalar):\n",
    "    \"\"\"\n",
    "    Scales a vector by a given scalar.\n",
    "    Multiplying each component of the vector by the scalar.\n",
    "    \"\"\"\n",
    "    return scalar * vector\n",
    "\n",
    "def rotation_transformation(vector, angle):\n",
    "    \"\"\"\n",
    "    Rotates a 2D vector by the given angle in degrees.\n",
    "    Uses a 2x2 rotation matrix to transform the vector.\n",
    "    \"\"\"\n",
    "    theta = np.radians(angle)  # Convert degrees to radians\n",
    "    rotation_matrix = np.array([[np.cos(theta), -np.sin(theta)], \n",
    "                                [np.sin(theta), np.cos(theta)]])\n",
    "    return rotation_matrix @ vector  # Matrix-vector multiplication\n",
    "\n",
    "def reflection_transformation(vector):\n",
    "    \"\"\"\n",
    "    Reflects a 2D vector across the x-axis.\n",
    "    This negates the y-component while keeping x the same.\n",
    "    \"\"\"\n",
    "    reflection_matrix = np.array([[1, 0], [0, -1]])\n",
    "    return reflection_matrix @ vector\n",
    "\n",
    "def shear_transformation(vector, shear_factor):\n",
    "    \"\"\"\n",
    "    Applies a horizontal shear transformation.\n",
    "    The x-component is modified based on the y-component.\n",
    "    \"\"\"\n",
    "    shear_matrix = np.array([[1, shear_factor], [0, 1]])\n",
    "    return shear_matrix @ vector\n",
    "\n",
    "def projection_transformation(vector, onto_vector):\n",
    "    \"\"\"\n",
    "    Projects one vector onto another vector.\n",
    "    Uses the dot product formula to calculate the projection.\n",
    "    \"\"\"\n",
    "    dot_product = np.dot(vector, onto_vector)  # Compute dot product\n",
    "    norm_squared = np.dot(onto_vector, onto_vector)  # Compute squared norm of onto_vector\n",
    "    return (dot_product / norm_squared) * onto_vector  # Compute the projection result\n",
    "\n",
    "def identity_transformation(vector):\n",
    "    \"\"\"\n",
    "    Applies the identity transformation (returns the vector unchanged).\n",
    "    Uses an identity matrix that does not alter the input vector.\n",
    "    \"\"\"\n",
    "    identity_matrix = np.eye(len(vector))  # Generate an identity matrix of appropriate size\n",
    "    return identity_matrix @ vector\n",
    "\n",
    "# Example usage\n",
    "vector = np.array([3, 4])\n",
    "scalar = 2\n",
    "shear_factor = 1.5\n",
    "onto_vector = np.array([1, 2])\n",
    "\n",
    "# Display results of each transformation\n",
    "print(\"Scaling:\", scaling_transformation(vector, scalar))\n",
    "print(\"Rotation (90 degrees):\", rotation_transformation(vector, 90))\n",
    "print(\"Reflection across x-axis:\", reflection_transformation(vector))\n",
    "print(\"Shear transformation:\", shear_transformation(vector, shear_factor))\n",
    "print(\"Projection onto another vector:\", projection_transformation(vector, onto_vector))\n",
    "print(\"Identity transformation:\", identity_transformation(vector))"
   ]
  },
  {
   "cell_type": "code",
   "execution_count": 40,
   "metadata": {},
   "outputs": [
    {
     "name": "stdout",
     "output_type": "stream",
     "text": [
      "Dot Product (2D): 2\n"
     ]
    }
   ],
   "source": [
    "# Dot Product and Cross Product\n",
    "# 1. Two-Dimensional Vectors Dot Product\n",
    "# Computes the dot product of two 2D vectors.\n",
    "a = np.array([3, 4])\n",
    "b = np.array([2, -1])\n",
    "dot_2d = np.dot(a, b)\n",
    "print(\"Dot Product (2D):\", dot_2d)"
   ]
  },
  {
   "cell_type": "code",
   "execution_count": 41,
   "metadata": {},
   "outputs": [
    {
     "name": "stdout",
     "output_type": "stream",
     "text": [
      "Dot Product (3D): 10\n"
     ]
    }
   ],
   "source": [
    "# 2. Three-Dimensional Vectors Dot Product\n",
    "# Computes the dot product of two 3D vectors.\n",
    "a = np.array([1, 2, 3])\n",
    "b = np.array([-2, 0, 4])\n",
    "dot_3d = np.dot(a, b)\n",
    "print(\"Dot Product (3D):\", dot_3d)"
   ]
  },
  {
   "cell_type": "code",
   "execution_count": 42,
   "metadata": {},
   "outputs": [
    {
     "name": "stdout",
     "output_type": "stream",
     "text": [
      "Projection of a onto b: [-1.  0.  2.]\n"
     ]
    }
   ],
   "source": [
    "# 3. Projection of a vector onto another\n",
    "# Formula: projection = (a . b / ||b||^2) * b\n",
    "b_norm_sq = np.dot(b, b)  # Computes the squared norm of b\n",
    "projection = (np.dot(a, b) / b_norm_sq) * b  # Computes projection of a onto b\n",
    "print(\"Projection of a onto b:\", projection)"
   ]
  },
  {
   "cell_type": "code",
   "execution_count": 43,
   "metadata": {},
   "outputs": [
    {
     "name": "stdout",
     "output_type": "stream",
     "text": [
      "Cosine of angle: 0.33633639699815626\n"
     ]
    }
   ],
   "source": [
    "# 4. Angle Between Two Vectors Using Dot Product\n",
    "# Formula: cos(theta) = (a . b) / (||a|| * ||b||)\n",
    "a = np.array([2, 3])\n",
    "b = np.array([4, -1])\n",
    "cos_theta = np.dot(a, b) / (np.linalg.norm(a) * np.linalg.norm(b))\n",
    "print(\"Cosine of angle:\", cos_theta)"
   ]
  },
  {
   "cell_type": "code",
   "execution_count": 44,
   "metadata": {},
   "outputs": [
    {
     "name": "stdout",
     "output_type": "stream",
     "text": [
      "Work Done: 50\n"
     ]
    }
   ],
   "source": [
    "# 5. Work Done by a Force\n",
    "# Work done = Force . Displacement (dot product)\n",
    "a = np.array([10, 5])  # Force vector\n",
    "b = np.array([4, 2])   # Displacement vector\n",
    "work_done = np.dot(a, b)\n",
    "print(\"Work Done:\", work_done)"
   ]
  },
  {
   "cell_type": "code",
   "execution_count": 45,
   "metadata": {},
   "outputs": [
    {
     "name": "stdout",
     "output_type": "stream",
     "text": [
      "Cross Product (3D): [-3  6 -3]\n"
     ]
    }
   ],
   "source": [
    "# 6. Three-Dimensional Vectors Cross Product\n",
    "# Computes the cross product of two 3D vectors.\n",
    "a = np.array([1, 2, 3])\n",
    "b = np.array([4, 5, 6])\n",
    "cross_3d = np.cross(a, b)\n",
    "print(\"Cross Product (3D):\", cross_3d)"
   ]
  },
  {
   "cell_type": "code",
   "execution_count": 46,
   "metadata": {},
   "outputs": [
    {
     "name": "stdout",
     "output_type": "stream",
     "text": [
      "Area of parallelogram: 7.3484692283495345\n"
     ]
    }
   ],
   "source": [
    "# 7. Geometric Interpretation of Cross Product (Area of Parallelogram)\n",
    "# The magnitude of the cross product gives the area of the parallelogram formed by two vectors.\n",
    "area = np.linalg.norm(cross_3d)\n",
    "print(\"Area of parallelogram:\", area)"
   ]
  },
  {
   "cell_type": "code",
   "execution_count": 47,
   "metadata": {},
   "outputs": [
    {
     "name": "stdout",
     "output_type": "stream",
     "text": [
      "Torque: [-3  6 -3]\n"
     ]
    }
   ],
   "source": [
    "# 8. Torque Calculation Using Cross Product\n",
    "# Torque = r x F (cross product of position vector and force vector)\n",
    "r = np.array([2, 3, 4])  # Position vector\n",
    "F = np.array([5, 6, 7])  # Force vector\n",
    "torque = np.cross(r, F)\n",
    "print(\"Torque:\", torque)"
   ]
  },
  {
   "cell_type": "code",
   "execution_count": 48,
   "metadata": {},
   "outputs": [
    {
     "name": "stdout",
     "output_type": "stream",
     "text": [
      "Cross Product of Perpendicular Vectors: [0 0 1]\n"
     ]
    }
   ],
   "source": [
    "# 9. Perpendicular Vectors and Cross Product\n",
    "# Computes the cross product of two perpendicular vectors in 3D.\n",
    "a = np.array([1, 0, 0])\n",
    "b = np.array([0, 1, 0])\n",
    "cross_perp = np.cross(a, b)\n",
    "print(\"Cross Product of Perpendicular Vectors:\", cross_perp)"
   ]
  },
  {
   "cell_type": "code",
   "execution_count": 49,
   "metadata": {},
   "outputs": [
    {
     "name": "stdout",
     "output_type": "stream",
     "text": [
      "Unit Normal Vector: [-0.40824829  0.81649658 -0.40824829]\n"
     ]
    }
   ],
   "source": [
    "# 10. Unit Vector Normal to Two Vectors\n",
    "# Computes the unit normal vector to the plane formed by two vectors.\n",
    "unit_normal = cross_3d / np.linalg.norm(cross_3d)  # Normalizing the cross product\n",
    "print(\"Unit Normal Vector:\", unit_normal)"
   ]
  },
  {
   "cell_type": "code",
   "execution_count": 50,
   "metadata": {},
   "outputs": [],
   "source": [
    "from scipy.spatial.distance import mahalanobis\n",
    "from numpy.linalg import inv, norm"
   ]
  },
  {
   "cell_type": "code",
   "execution_count": 51,
   "metadata": {},
   "outputs": [
    {
     "name": "stdout",
     "output_type": "stream",
     "text": [
      "L1 Norm (Manhattan Distance): 10\n",
      "L2 Norm (Euclidean Distance): 6.6332495807108\n",
      "L3 Norm (Minkowski Distance with p=3): 6.144633651371694\n",
      "Max Norm (Chebyshev Distance): 6\n",
      "Frobenius Norm (Matrix Norm): 9.539392014169456\n",
      "Cosine Similarity (Vector Angle Similarity): 0.6367145399670133\n",
      "Mahalanobis Distance (Correlation-Based Distance): 1.1547005383792515\n"
     ]
    }
   ],
   "source": [
    "# Function to compute L1 Norm (Manhattan Distance)\n",
    "def l1_norm(a, b):\n",
    "    return np.sum(np.abs(a - b))\n",
    "\n",
    "# Function to compute L2 Norm (Euclidean Distance)\n",
    "def l2_norm(a, b):\n",
    "    return np.sqrt(np.sum((a - b) ** 2))\n",
    "\n",
    "# Function to compute Lp Norm (Generalized Minkowski Distance)\n",
    "def lp_norm(a, b, p):\n",
    "    return np.power(np.sum(np.abs(a - b) ** p), 1 / p)\n",
    "\n",
    "# Function to compute Max Norm (Chebyshev Distance)\n",
    "def max_norm(a, b):\n",
    "    return np.max(np.abs(a - b))\n",
    "\n",
    "# Function to compute Frobenius Norm for matrices (used in matrix analysis)\n",
    "def frobenius_norm(matrix):\n",
    "    return np.sqrt(np.sum(matrix ** 2))\n",
    "\n",
    "# Function to compute Cosine Similarity (measures angle similarity between vectors)\n",
    "def cosine_similarity(a, b):\n",
    "    return np.dot(a, b) / (norm(a) * norm(b))\n",
    "\n",
    "# Function to compute Mahalanobis Distance (distance metric accounting for correlations in data)\n",
    "def mahalanobis_distance(x, mean, cov):\n",
    "    inv_cov = inv(cov)  # Compute the inverse of the covariance matrix\n",
    "    diff = x - mean  # Compute the difference vector\n",
    "    return np.sqrt(np.dot(np.dot(diff.T, inv_cov), diff))\n",
    "\n",
    "# Define example vectors and matrix\n",
    "a = np.array([3, -4, 7])  # Example vector a\n",
    "b = np.array([1, 2, 5])   # Example vector b\n",
    "A = np.array([[1, -2, 3], [4, 5, -6]])  # Example matrix\n",
    "\n",
    "# Example input for Mahalanobis Distance calculation\n",
    "x = np.array([3, 5])  # Example data point\n",
    "mu = np.array([2, 4])  # Mean vector\n",
    "cov_matrix = np.array([[1, 0.5], [0.5, 1]])  # Covariance matrix\n",
    "\n",
    "# Compute and print values for different norm and distance calculations\n",
    "print(\"L1 Norm (Manhattan Distance):\", l1_norm(a, b))\n",
    "print(\"L2 Norm (Euclidean Distance):\", l2_norm(a, b))\n",
    "print(\"L3 Norm (Minkowski Distance with p=3):\", lp_norm(a, b, 3))\n",
    "print(\"Max Norm (Chebyshev Distance):\", max_norm(a, b))\n",
    "print(\"Frobenius Norm (Matrix Norm):\", frobenius_norm(A))\n",
    "print(\"Cosine Similarity (Vector Angle Similarity):\", cosine_similarity(a, b))\n",
    "print(\"Mahalanobis Distance (Correlation-Based Distance):\", mahalanobis_distance(x, mu, cov_matrix))"
   ]
  },
  {
   "cell_type": "code",
   "execution_count": 52,
   "metadata": {},
   "outputs": [
    {
     "name": "stdout",
     "output_type": "stream",
     "text": [
      "Example 1 - Basic Eigenvalues: [5. 2.]\n",
      "Example 1 - Basic Eigenvectors:\n",
      " [[ 0.89442719 -0.70710678]\n",
      " [ 0.4472136   0.70710678]]\n"
     ]
    }
   ],
   "source": [
    "#Eigenvalues & Eigenvectors\n",
    "# Example 1: Basic Eigenvalue and Eigenvector Calculation\n",
    "A = np.array([[4, 2], [1, 3]])\n",
    "eigenvalues, eigenvectors = np.linalg.eig(A)  # Compute eigenvalues and eigenvectors\n",
    "print(\"Example 1 - Basic Eigenvalues:\", eigenvalues)\n",
    "print(\"Example 1 - Basic Eigenvectors:\\n\", eigenvectors)"
   ]
  },
  {
   "cell_type": "code",
   "execution_count": 53,
   "metadata": {},
   "outputs": [
    {
     "name": "stdout",
     "output_type": "stream",
     "text": [
      "Example 2 - Diagonalized Matrix:\n",
      " [[4. 2.]\n",
      " [1. 3.]]\n"
     ]
    }
   ],
   "source": [
    "# Example 2: Diagonalization Using Eigenvalues and Eigenvectors\n",
    "P = eigenvectors  # Eigenvectors matrix (change of basis)\n",
    "D = np.diag(eigenvalues)  # Diagonal matrix of eigenvalues\n",
    "P_inv = np.linalg.inv(P)  # Compute inverse of P\n",
    "reconstructed_A = P @ D @ P_inv  # Verify A = P * D * P^-1\n",
    "print(\"Example 2 - Diagonalized Matrix:\\n\", reconstructed_A)"
   ]
  },
  {
   "cell_type": "code",
   "execution_count": 54,
   "metadata": {},
   "outputs": [
    {
     "name": "stdout",
     "output_type": "stream",
     "text": [
      "Example 3 - Symmetric Matrix Eigenvalues: [3. 1.]\n",
      "Example 3 - Symmetric Matrix Eigenvectors:\n",
      " [[ 0.70710678  0.70710678]\n",
      " [-0.70710678  0.70710678]]\n"
     ]
    }
   ],
   "source": [
    "# Example 3: Symmetric Matrix Eigenvalues - Should yield real and orthogonal eigenvectors\n",
    "B = np.array([[2, -1], [-1, 2]])\n",
    "eigenvalues_B, eigenvectors_B = np.linalg.eig(B)\n",
    "print(\"Example 3 - Symmetric Matrix Eigenvalues:\", eigenvalues_B)\n",
    "print(\"Example 3 - Symmetric Matrix Eigenvectors:\\n\", eigenvectors_B)"
   ]
  },
  {
   "cell_type": "code",
   "execution_count": 55,
   "metadata": {},
   "outputs": [
    {
     "name": "stdout",
     "output_type": "stream",
     "text": [
      "Example 4 - Singular Matrix Eigenvalues: [0. 5.]\n"
     ]
    }
   ],
   "source": [
    "# Example 4: Singular Matrix Eigenvalues - One eigenvalue should be zero\n",
    "C = np.array([[1, 2], [2, 4]])  # Rank-deficient matrix\n",
    "eigenvalues_C, eigenvectors_C = np.linalg.eig(C)\n",
    "print(\"Example 4 - Singular Matrix Eigenvalues:\", eigenvalues_C)"
   ]
  },
  {
   "cell_type": "code",
   "execution_count": 56,
   "metadata": {},
   "outputs": [
    {
     "name": "stdout",
     "output_type": "stream",
     "text": [
      "Example 5 - Markov Chain Eigenvalues: [1.  0.3]\n"
     ]
    }
   ],
   "source": [
    "# Example 5: Eigenvalues in Markov Chains - The largest eigenvalue should be 1 for a stochastic matrix\n",
    "M = np.array([[0.7, 0.3], [0.4, 0.6]])\n",
    "eigenvalues_M, eigenvectors_M = np.linalg.eig(M)\n",
    "print(\"Example 5 - Markov Chain Eigenvalues:\", eigenvalues_M)"
   ]
  },
  {
   "cell_type": "code",
   "execution_count": 57,
   "metadata": {},
   "outputs": [
    {
     "name": "stdout",
     "output_type": "stream",
     "text": [
      "Example 6 - PCA Eigenvalues: [3. 1.]\n",
      "Example 6 - PCA Eigenvectors:\n",
      " [[ 0.70710678 -0.70710678]\n",
      " [ 0.70710678  0.70710678]]\n"
     ]
    }
   ],
   "source": [
    "# Example 6: Eigenvalues and Eigenvectors in PCA - Used in Principal Component Analysis\n",
    "S = np.array([[2, 1], [1, 2]])  # Covariance-like matrix\n",
    "eigenvalues_S, eigenvectors_S = np.linalg.eig(S)\n",
    "print(\"Example 6 - PCA Eigenvalues:\", eigenvalues_S)\n",
    "print(\"Example 6 - PCA Eigenvectors:\\n\", eigenvectors_S)"
   ]
  },
  {
   "cell_type": "code",
   "execution_count": 58,
   "metadata": {},
   "outputs": [],
   "source": [
    "import scipy.linalg"
   ]
  },
  {
   "cell_type": "code",
   "execution_count": null,
   "metadata": {},
   "outputs": [
    {
     "name": "stdout",
     "output_type": "stream",
     "text": [
      "{'P': array([[0., 1.],\n",
      "       [1., 0.]]), 'L': array([[1.        , 0.        ],\n",
      "       [0.66666667, 1.        ]]), 'U': array([[6., 3.],\n",
      "       [0., 1.]])}\n"
     ]
    }
   ],
   "source": [
    "# Matrix Decomposition\n",
    "# Example 1: LU Decomposition (General Square Matrix)\n",
    "A1 = np.array([[4, 3], [6, 3]])\n",
    "P1, L1, U1 = scipy.linalg.lu(A1)\n",
    "lu_result_1 = {\"P\": P1, \"L\": L1, \"U\": U1}\n",
    "print(lu_result_1)"
   ]
  },
  {
   "cell_type": "code",
   "execution_count": 61,
   "metadata": {},
   "outputs": [
    {
     "name": "stdout",
     "output_type": "stream",
     "text": [
      "{'P': array([[0., 1., 0.],\n",
      "       [1., 0., 0.],\n",
      "       [0., 0., 1.]]), 'L': array([[1.  , 0.  , 0.  ],\n",
      "       [0.5 , 1.  , 0.  ],\n",
      "       [0.75, 0.5 , 1.  ]]), 'U': array([[ 4. ,  1. ,  3. ],\n",
      "       [ 0. ,  2.5, -0.5],\n",
      "       [ 0. ,  0. ,  2. ]])}\n"
     ]
    }
   ],
   "source": [
    "# Example 2: LU Decomposition with Partial Pivoting\n",
    "A2 = np.array([[2, 3, 1], [4, 1, 3], [3, 2, 4]])\n",
    "P2, L2, U2 = scipy.linalg.lu(A2)\n",
    "lu_result_2 = {\"P\": P2, \"L\": L2, \"U\": U2}\n",
    "print(lu_result_2)"
   ]
  },
  {
   "cell_type": "code",
   "execution_count": 62,
   "metadata": {},
   "outputs": [
    {
     "name": "stdout",
     "output_type": "stream",
     "text": [
      "{'Q': array([[-0.70710678, -0.70710678],\n",
      "       [-0.70710678,  0.70710678]]), 'R': array([[-1.41421356e+00, -3.33066907e-16],\n",
      "       [ 0.00000000e+00,  1.41421356e+00]])}\n"
     ]
    }
   ],
   "source": [
    "# Example 3: QR Decomposition for a Full-Rank Square Matrix\n",
    "A3 = np.array([[1, -1], [1, 1]])\n",
    "Q3, R3 = np.linalg.qr(A3)\n",
    "qr_result_3 = {\"Q\": Q3, \"R\": R3}\n",
    "print(qr_result_3)"
   ]
  },
  {
   "cell_type": "code",
   "execution_count": 63,
   "metadata": {},
   "outputs": [
    {
     "name": "stdout",
     "output_type": "stream",
     "text": [
      "{'Q': array([[-0.16903085,  0.89708523],\n",
      "       [-0.50709255,  0.27602622],\n",
      "       [-0.84515425, -0.34503278]]), 'R': array([[-5.91607978, -7.43735744],\n",
      "       [ 0.        ,  0.82807867]])}\n"
     ]
    }
   ],
   "source": [
    "# Example 4: QR Decomposition for a Rectangular Matrix\n",
    "A4 = np.array([[1, 2], [3, 4], [5, 6]])\n",
    "Q4, R4 = np.linalg.qr(A4)\n",
    "qr_result_4 = {\"Q\": Q4, \"R\": R4}\n",
    "print(qr_result_4)"
   ]
  },
  {
   "cell_type": "code",
   "execution_count": 64,
   "metadata": {},
   "outputs": [
    {
     "name": "stdout",
     "output_type": "stream",
     "text": [
      "{'U': array([[-0.52573111, -0.85065081],\n",
      "       [-0.85065081,  0.52573111]]), 'S': array([4.23606798, 0.23606798]), 'Vt': array([[-0.52573111, -0.85065081],\n",
      "       [ 0.85065081, -0.52573111]])}\n"
     ]
    }
   ],
   "source": [
    "# Example 5: Singular Value Decomposition (SVD) for a Square Matrix\n",
    "A5 = np.array([[1, 2], [2, 3]])\n",
    "U5, S5, Vt5 = np.linalg.svd(A5)\n",
    "svd_result_5 = {\"U\": U5, \"S\": S5, \"Vt\": Vt5}\n",
    "print(svd_result_5)"
   ]
  },
  {
   "cell_type": "code",
   "execution_count": 65,
   "metadata": {},
   "outputs": [
    {
     "name": "stdout",
     "output_type": "stream",
     "text": [
      "{'U': array([[-0.3863177 , -0.92236578],\n",
      "       [-0.92236578,  0.3863177 ]]), 'S': array([9.508032  , 0.77286964]), 'Vt': array([[-0.42866713, -0.56630692, -0.7039467 ],\n",
      "       [ 0.80596391,  0.11238241, -0.58119908],\n",
      "       [ 0.40824829, -0.81649658,  0.40824829]])}\n"
     ]
    }
   ],
   "source": [
    "# Example 6: Singular Value Decomposition (SVD) for a Rectangular Matrix\n",
    "A6 = np.array([[1, 2, 3], [4, 5, 6]])\n",
    "U6, S6, Vt6 = np.linalg.svd(A6)\n",
    "svd_result_6 = {\"U\": U6, \"S\": S6, \"Vt\": Vt6}\n",
    "print(svd_result_6)"
   ]
  },
  {
   "cell_type": "code",
   "execution_count": null,
   "metadata": {},
   "outputs": [],
   "source": []
  }
 ],
 "metadata": {
  "kernelspec": {
   "display_name": "Python 3",
   "language": "python",
   "name": "python3"
  },
  "language_info": {
   "codemirror_mode": {
    "name": "ipython",
    "version": 3
   },
   "file_extension": ".py",
   "mimetype": "text/x-python",
   "name": "python",
   "nbconvert_exporter": "python",
   "pygments_lexer": "ipython3",
   "version": "3.13.0"
  }
 },
 "nbformat": 4,
 "nbformat_minor": 2
}
